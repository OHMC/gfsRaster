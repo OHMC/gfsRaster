{
 "cells": [
  {
   "cell_type": "code",
   "execution_count": 2,
   "metadata": {},
   "outputs": [],
   "source": [
    "import geopandas as  gpd\n",
    "import pandas as pd\n",
    "import numpy as np\n",
    "import datetime\n",
    "import glob\n",
    "import matplotlib.pyplot as plt\n",
    "# from rasterstats import zonal_stats"
   ]
  },
  {
   "cell_type": "markdown",
   "metadata": {},
   "source": [
    "# Data srtructure"
   ]
  },
  {
   "cell_type": "code",
   "execution_count": 3,
   "metadata": {},
   "outputs": [],
   "source": [
    "forecast = pd.DataFrame(columns=['date', \"mean\", \"std\"])"
   ]
  },
  {
   "cell_type": "markdown",
   "metadata": {},
   "source": [
    "# WRF Primeras 72 HS"
   ]
  },
  {
   "cell_type": "code",
   "execution_count": 4,
   "metadata": {},
   "outputs": [],
   "source": [
    "files_A = glob.glob('../data/cuencas/cuencas_CBA_A_*') \n",
    "files_B = glob.glob('../data/cuencas/cuencas_CBA_B_*') \n",
    "files_C = glob.glob('../data/cuencas/cuencas_CBA_C_*')\n",
    "files_D = glob.glob('../data/cuencas/cuencas_CBA_D_*') "
   ]
  },
  {
   "cell_type": "code",
   "execution_count": 5,
   "metadata": {},
   "outputs": [],
   "source": [
    "c24A = pd.read_csv(files_A[0])\n",
    "c48A = pd.read_csv(files_A[1])\n",
    "c72A = pd.read_csv(files_A[2])\n",
    "c24B = pd.read_csv(files_B[0])\n",
    "c48B = pd.read_csv(files_B[1])\n",
    "c72B = pd.read_csv(files_B[2])\n",
    "c24C = pd.read_csv(files_C[0])\n",
    "c48C = pd.read_csv(files_C[1])\n",
    "c72C = pd.read_csv(files_C[2])\n",
    "c24D = pd.read_csv(files_D[0])\n",
    "c48D = pd.read_csv(files_D[1])\n",
    "c72D = pd.read_csv(files_D[2])"
   ]
  },
  {
   "cell_type": "code",
   "execution_count": 6,
   "metadata": {},
   "outputs": [],
   "source": [
    "mA24 = c24A.loc[c24A.index == 49]['mean']\n",
    "mA48 = c48A.loc[c48A.index == 49]['mean']\n",
    "mA72 = c72A.loc[c72A.index == 49]['mean']\n",
    "mB24 = c24B.loc[c24B.index == 49]['mean']\n",
    "mB48 = c48B.loc[c48B.index == 49]['mean']\n",
    "mB72 = c72B.loc[c72B.index == 49]['mean']\n",
    "mC24 = c24C.loc[c24C.index == 49]['mean']\n",
    "mC48 = c48C.loc[c48C.index == 49]['mean']\n",
    "mC72 = c72C.loc[c72C.index == 49]['mean']\n",
    "mD24 = c24D.loc[c24D.index == 49]['mean']\n",
    "mD48 = c48D.loc[c48D.index == 49]['mean']\n",
    "mD72 = c72D.loc[c72D.index == 49]['mean']"
   ]
  },
  {
   "cell_type": "code",
   "execution_count": 7,
   "metadata": {},
   "outputs": [],
   "source": [
    "m24 = pd.concat([mA24, mB24, mC24, mD24], ignore_index=True)\n",
    "m48 = pd.concat([mA48, mB48, mC48, mD48], ignore_index=True)\n",
    "m72 = pd.concat([mA72, mB72, mC72, mD72], ignore_index=True)"
   ]
  },
  {
   "cell_type": "code",
   "execution_count": null,
   "metadata": {},
   "outputs": [],
   "source": []
  },
  {
   "cell_type": "code",
   "execution_count": 8,
   "metadata": {},
   "outputs": [],
   "source": [
    "date = datetime.datetime.strptime(\"2021-02-23\", \"%Y-%m-%d\")\n",
    "mean = m24.mean()\n",
    "std = m24.std()\n",
    "temp = pd.DataFrame(data = {'date': [date], \"mean\": [mean], \"std\":[std]})"
   ]
  },
  {
   "cell_type": "code",
   "execution_count": 9,
   "metadata": {},
   "outputs": [],
   "source": [
    "forecast = forecast.append(temp)"
   ]
  },
  {
   "cell_type": "code",
   "execution_count": 10,
   "metadata": {},
   "outputs": [],
   "source": [
    "date = datetime.datetime.strptime(\"2021-02-24\", \"%Y-%m-%d\")\n",
    "mean = (m48 - m24).mean()\n",
    "std = (m48 - m24).std()\n",
    "temp = pd.DataFrame(data = {'date': [date], \"mean\": [mean], \"std\":[std]})"
   ]
  },
  {
   "cell_type": "code",
   "execution_count": 11,
   "metadata": {},
   "outputs": [],
   "source": [
    "forecast = forecast.append(temp)"
   ]
  },
  {
   "cell_type": "code",
   "execution_count": 12,
   "metadata": {},
   "outputs": [],
   "source": [
    "date = datetime.datetime.strptime(\"2021-02-25\", \"%Y-%m-%d\")\n",
    "mean = (m72 - m24).mean()\n",
    "std = (m72 - m24).std()\n",
    "temp = pd.DataFrame(data = {'date': [date], \"mean\": [mean], \"std\":[std]})"
   ]
  },
  {
   "cell_type": "code",
   "execution_count": 13,
   "metadata": {},
   "outputs": [],
   "source": [
    "forecast = forecast.append(temp)"
   ]
  },
  {
   "cell_type": "code",
   "execution_count": 14,
   "metadata": {},
   "outputs": [
    {
     "data": {
      "text/html": [
       "<div>\n",
       "<style scoped>\n",
       "    .dataframe tbody tr th:only-of-type {\n",
       "        vertical-align: middle;\n",
       "    }\n",
       "\n",
       "    .dataframe tbody tr th {\n",
       "        vertical-align: top;\n",
       "    }\n",
       "\n",
       "    .dataframe thead th {\n",
       "        text-align: right;\n",
       "    }\n",
       "</style>\n",
       "<table border=\"1\" class=\"dataframe\">\n",
       "  <thead>\n",
       "    <tr style=\"text-align: right;\">\n",
       "      <th></th>\n",
       "      <th>date</th>\n",
       "      <th>mean</th>\n",
       "      <th>std</th>\n",
       "    </tr>\n",
       "  </thead>\n",
       "  <tbody>\n",
       "    <tr>\n",
       "      <th>0</th>\n",
       "      <td>2021-02-23</td>\n",
       "      <td>0.04</td>\n",
       "      <td>0.08</td>\n",
       "    </tr>\n",
       "    <tr>\n",
       "      <th>0</th>\n",
       "      <td>2021-02-24</td>\n",
       "      <td>0.00</td>\n",
       "      <td>0.00</td>\n",
       "    </tr>\n",
       "    <tr>\n",
       "      <th>0</th>\n",
       "      <td>2021-02-25</td>\n",
       "      <td>0.00</td>\n",
       "      <td>0.00</td>\n",
       "    </tr>\n",
       "  </tbody>\n",
       "</table>\n",
       "</div>"
      ],
      "text/plain": [
       "        date  mean   std\n",
       "0 2021-02-23  0.04  0.08\n",
       "0 2021-02-24  0.00  0.00\n",
       "0 2021-02-25  0.00  0.00"
      ]
     },
     "execution_count": 14,
     "metadata": {},
     "output_type": "execute_result"
    }
   ],
   "source": [
    "forecast"
   ]
  },
  {
   "cell_type": "code",
   "execution_count": 15,
   "metadata": {},
   "outputs": [],
   "source": [
    "dateA = datetime.datetime.strptime(\"2021-02-23\", \"%Y-%m-%d\")\n",
    "dateB = datetime.datetime.strptime(\"2021-02-24\", \"%Y-%m-%d\")\n",
    "dateC = datetime.datetime.strptime(\"2021-02-25\", \"%Y-%m-%d\")"
   ]
  },
  {
   "cell_type": "code",
   "execution_count": 16,
   "metadata": {},
   "outputs": [],
   "source": [
    "date = pd.DataFrame({'date': [dateA, dateB, dateC]})"
   ]
  },
  {
   "cell_type": "markdown",
   "metadata": {},
   "source": [
    "# preparar para integrar"
   ]
  },
  {
   "cell_type": "code",
   "execution_count": 17,
   "metadata": {},
   "outputs": [],
   "source": [
    "wrf = pd.DataFrame({'wrfA':[mA24.values[0], mA48.values[0] - mA48.values[0], mA72.values[0] - mA48.values[0]],\n",
    "              'wrfB':[mB24.values[0], mB48.values[0] - mB48.values[0], mB72.values[0] - mB48.values[0]],\n",
    "              'wrfC':[mC24.values[0], mC48.values[0] - mC48.values[0], mC72.values[0] - mC48.values[0]],\n",
    "              'wrfD':[mD24.values[0], mD48.values[0] - mD48.values[0], mD72.values[0] - mD48.values[0]]})"
   ]
  },
  {
   "cell_type": "code",
   "execution_count": 18,
   "metadata": {},
   "outputs": [],
   "source": [
    "wrf['date'] = date['date']\n"
   ]
  },
  {
   "cell_type": "code",
   "execution_count": 19,
   "metadata": {},
   "outputs": [
    {
     "data": {
      "text/html": [
       "<div>\n",
       "<style scoped>\n",
       "    .dataframe tbody tr th:only-of-type {\n",
       "        vertical-align: middle;\n",
       "    }\n",
       "\n",
       "    .dataframe tbody tr th {\n",
       "        vertical-align: top;\n",
       "    }\n",
       "\n",
       "    .dataframe thead th {\n",
       "        text-align: right;\n",
       "    }\n",
       "</style>\n",
       "<table border=\"1\" class=\"dataframe\">\n",
       "  <thead>\n",
       "    <tr style=\"text-align: right;\">\n",
       "      <th></th>\n",
       "      <th>wrfA</th>\n",
       "      <th>wrfB</th>\n",
       "      <th>wrfC</th>\n",
       "      <th>wrfD</th>\n",
       "      <th>date</th>\n",
       "    </tr>\n",
       "  </thead>\n",
       "  <tbody>\n",
       "    <tr>\n",
       "      <th>0</th>\n",
       "      <td>0.16</td>\n",
       "      <td>0.0</td>\n",
       "      <td>0.0</td>\n",
       "      <td>0.0</td>\n",
       "      <td>2021-02-23</td>\n",
       "    </tr>\n",
       "    <tr>\n",
       "      <th>1</th>\n",
       "      <td>0.00</td>\n",
       "      <td>0.0</td>\n",
       "      <td>0.0</td>\n",
       "      <td>0.0</td>\n",
       "      <td>2021-02-24</td>\n",
       "    </tr>\n",
       "    <tr>\n",
       "      <th>2</th>\n",
       "      <td>0.00</td>\n",
       "      <td>0.0</td>\n",
       "      <td>0.0</td>\n",
       "      <td>0.0</td>\n",
       "      <td>2021-02-25</td>\n",
       "    </tr>\n",
       "  </tbody>\n",
       "</table>\n",
       "</div>"
      ],
      "text/plain": [
       "   wrfA  wrfB  wrfC  wrfD       date\n",
       "0  0.16   0.0   0.0   0.0 2021-02-23\n",
       "1  0.00   0.0   0.0   0.0 2021-02-24\n",
       "2  0.00   0.0   0.0   0.0 2021-02-25"
      ]
     },
     "execution_count": 19,
     "metadata": {},
     "output_type": "execute_result"
    }
   ],
   "source": [
    "wrf"
   ]
  },
  {
   "cell_type": "code",
   "execution_count": null,
   "metadata": {},
   "outputs": [],
   "source": []
  },
  {
   "cell_type": "markdown",
   "metadata": {},
   "source": [
    "# DÍA 4 A 16"
   ]
  },
  {
   "cell_type": "markdown",
   "metadata": {},
   "source": [
    "## GFS"
   ]
  },
  {
   "cell_type": "code",
   "execution_count": 35,
   "metadata": {},
   "outputs": [],
   "source": [
    "filelist = glob.glob(\"../data/csv/GFS_*_ppm_all_day.csv\")"
   ]
  },
  {
   "cell_type": "code",
   "execution_count": 36,
   "metadata": {},
   "outputs": [
    {
     "data": {
      "text/plain": [
       "1"
      ]
     },
     "execution_count": 36,
     "metadata": {},
     "output_type": "execute_result"
    }
   ],
   "source": [
    "len(filelist)"
   ]
  },
  {
   "cell_type": "code",
   "execution_count": 37,
   "metadata": {},
   "outputs": [],
   "source": [
    "gfs = pd.read_csv(filelist[0])"
   ]
  },
  {
   "cell_type": "code",
   "execution_count": 38,
   "metadata": {},
   "outputs": [
    {
     "data": {
      "text/html": [
       "<div>\n",
       "<style scoped>\n",
       "    .dataframe tbody tr th:only-of-type {\n",
       "        vertical-align: middle;\n",
       "    }\n",
       "\n",
       "    .dataframe tbody tr th {\n",
       "        vertical-align: top;\n",
       "    }\n",
       "\n",
       "    .dataframe thead th {\n",
       "        text-align: right;\n",
       "    }\n",
       "</style>\n",
       "<table border=\"1\" class=\"dataframe\">\n",
       "  <thead>\n",
       "    <tr style=\"text-align: right;\">\n",
       "      <th></th>\n",
       "      <th>date</th>\n",
       "      <th>mean</th>\n",
       "    </tr>\n",
       "  </thead>\n",
       "  <tbody>\n",
       "    <tr>\n",
       "      <th>0</th>\n",
       "      <td>2021-02-23</td>\n",
       "      <td>1.145190</td>\n",
       "    </tr>\n",
       "    <tr>\n",
       "      <th>1</th>\n",
       "      <td>2021-02-24</td>\n",
       "      <td>1.891049</td>\n",
       "    </tr>\n",
       "    <tr>\n",
       "      <th>2</th>\n",
       "      <td>2021-02-25</td>\n",
       "      <td>1.891049</td>\n",
       "    </tr>\n",
       "    <tr>\n",
       "      <th>3</th>\n",
       "      <td>2021-02-26</td>\n",
       "      <td>1.891049</td>\n",
       "    </tr>\n",
       "    <tr>\n",
       "      <th>4</th>\n",
       "      <td>2021-02-27</td>\n",
       "      <td>2.768519</td>\n",
       "    </tr>\n",
       "  </tbody>\n",
       "</table>\n",
       "</div>"
      ],
      "text/plain": [
       "         date      mean\n",
       "0  2021-02-23  1.145190\n",
       "1  2021-02-24  1.891049\n",
       "2  2021-02-25  1.891049\n",
       "3  2021-02-26  1.891049\n",
       "4  2021-02-27  2.768519"
      ]
     },
     "execution_count": 38,
     "metadata": {},
     "output_type": "execute_result"
    }
   ],
   "source": [
    "gfs.head()"
   ]
  },
  {
   "cell_type": "code",
   "execution_count": null,
   "metadata": {},
   "outputs": [],
   "source": []
  },
  {
   "cell_type": "code",
   "execution_count": null,
   "metadata": {},
   "outputs": [],
   "source": []
  },
  {
   "cell_type": "markdown",
   "metadata": {},
   "source": [
    "## GEFS"
   ]
  },
  {
   "cell_type": "code",
   "execution_count": 39,
   "metadata": {},
   "outputs": [],
   "source": [
    "filelist = glob.glob(\"../data/csv/GEFS_*_ppm_all_day.csv\")"
   ]
  },
  {
   "cell_type": "code",
   "execution_count": 40,
   "metadata": {},
   "outputs": [
    {
     "data": {
      "text/plain": [
       "30"
      ]
     },
     "execution_count": 40,
     "metadata": {},
     "output_type": "execute_result"
    }
   ],
   "source": [
    "len(filelist)"
   ]
  },
  {
   "cell_type": "code",
   "execution_count": 41,
   "metadata": {},
   "outputs": [],
   "source": [
    "list_of_df = []\n",
    "full_df = pd.DataFrame()\n",
    "for file in range(30):\n",
    "    # vars()[str(file)] = pd.read_csv(filelist[file])\n",
    "    # vars()[] = pd.read_csv(file)\n",
    "    vars()[f\"gefs{file}\"] = pd.read_csv(filelist[file])\n",
    "    full_df[f\"gefs{file}\"] = vars()[f\"gefs{file}\"]['mean']"
   ]
  },
  {
   "cell_type": "code",
   "execution_count": 42,
   "metadata": {},
   "outputs": [
    {
     "data": {
      "text/html": [
       "<div>\n",
       "<style scoped>\n",
       "    .dataframe tbody tr th:only-of-type {\n",
       "        vertical-align: middle;\n",
       "    }\n",
       "\n",
       "    .dataframe tbody tr th {\n",
       "        vertical-align: top;\n",
       "    }\n",
       "\n",
       "    .dataframe thead th {\n",
       "        text-align: right;\n",
       "    }\n",
       "</style>\n",
       "<table border=\"1\" class=\"dataframe\">\n",
       "  <thead>\n",
       "    <tr style=\"text-align: right;\">\n",
       "      <th></th>\n",
       "      <th>gefs0</th>\n",
       "      <th>gefs1</th>\n",
       "      <th>gefs2</th>\n",
       "      <th>gefs3</th>\n",
       "      <th>gefs4</th>\n",
       "      <th>gefs5</th>\n",
       "      <th>gefs6</th>\n",
       "      <th>gefs7</th>\n",
       "      <th>gefs8</th>\n",
       "      <th>gefs9</th>\n",
       "      <th>...</th>\n",
       "      <th>gefs20</th>\n",
       "      <th>gefs21</th>\n",
       "      <th>gefs22</th>\n",
       "      <th>gefs23</th>\n",
       "      <th>gefs24</th>\n",
       "      <th>gefs25</th>\n",
       "      <th>gefs26</th>\n",
       "      <th>gefs27</th>\n",
       "      <th>gefs28</th>\n",
       "      <th>gefs29</th>\n",
       "    </tr>\n",
       "  </thead>\n",
       "  <tbody>\n",
       "    <tr>\n",
       "      <th>0</th>\n",
       "      <td>0.753683</td>\n",
       "      <td>0.015041</td>\n",
       "      <td>0.319568</td>\n",
       "      <td>1.278210</td>\n",
       "      <td>0.004488</td>\n",
       "      <td>0.140990</td>\n",
       "      <td>0.074979</td>\n",
       "      <td>0.072613</td>\n",
       "      <td>0.029136</td>\n",
       "      <td>1.690002</td>\n",
       "      <td>...</td>\n",
       "      <td>0.574578</td>\n",
       "      <td>0.312222</td>\n",
       "      <td>0.065185</td>\n",
       "      <td>0.533881</td>\n",
       "      <td>1.014959</td>\n",
       "      <td>0.392554</td>\n",
       "      <td>0.339465</td>\n",
       "      <td>0.575720</td>\n",
       "      <td>0.074239</td>\n",
       "      <td>0.000988</td>\n",
       "    </tr>\n",
       "    <tr>\n",
       "      <th>1</th>\n",
       "      <td>0.016975</td>\n",
       "      <td>0.000000</td>\n",
       "      <td>0.034136</td>\n",
       "      <td>0.515165</td>\n",
       "      <td>0.000000</td>\n",
       "      <td>0.122506</td>\n",
       "      <td>0.021605</td>\n",
       "      <td>0.000000</td>\n",
       "      <td>0.000000</td>\n",
       "      <td>0.001833</td>\n",
       "      <td>...</td>\n",
       "      <td>0.122963</td>\n",
       "      <td>0.000988</td>\n",
       "      <td>0.000000</td>\n",
       "      <td>0.755012</td>\n",
       "      <td>0.000000</td>\n",
       "      <td>0.000000</td>\n",
       "      <td>0.000000</td>\n",
       "      <td>0.035864</td>\n",
       "      <td>0.000000</td>\n",
       "      <td>0.000988</td>\n",
       "    </tr>\n",
       "  </tbody>\n",
       "</table>\n",
       "<p>2 rows × 30 columns</p>\n",
       "</div>"
      ],
      "text/plain": [
       "      gefs0     gefs1     gefs2     gefs3     gefs4     gefs5     gefs6  \\\n",
       "0  0.753683  0.015041  0.319568  1.278210  0.004488  0.140990  0.074979   \n",
       "1  0.016975  0.000000  0.034136  0.515165  0.000000  0.122506  0.021605   \n",
       "\n",
       "      gefs7     gefs8     gefs9  ...    gefs20    gefs21    gefs22    gefs23  \\\n",
       "0  0.072613  0.029136  1.690002  ...  0.574578  0.312222  0.065185  0.533881   \n",
       "1  0.000000  0.000000  0.001833  ...  0.122963  0.000988  0.000000  0.755012   \n",
       "\n",
       "     gefs24    gefs25    gefs26    gefs27    gefs28    gefs29  \n",
       "0  1.014959  0.392554  0.339465  0.575720  0.074239  0.000988  \n",
       "1  0.000000  0.000000  0.000000  0.035864  0.000000  0.000988  \n",
       "\n",
       "[2 rows x 30 columns]"
      ]
     },
     "execution_count": 42,
     "metadata": {},
     "output_type": "execute_result"
    }
   ],
   "source": [
    "full_df.head(2)"
   ]
  },
  {
   "cell_type": "code",
   "execution_count": 43,
   "metadata": {},
   "outputs": [],
   "source": [
    "forecastGEFS = pd.DataFrame()"
   ]
  },
  {
   "cell_type": "code",
   "execution_count": 44,
   "metadata": {},
   "outputs": [],
   "source": [
    "for key in range(30):\n",
    "    mean = full_df.iloc[key].mean()\n",
    "    std = full_df.iloc[key].std()\n",
    "    temp = pd.DataFrame(data={\"mean\": [mean], \"std\": [std]}, dtype=np.float32)\n",
    "    forecastGEFS = forecastGEFS.append(temp, ignore_index=True)"
   ]
  },
  {
   "cell_type": "code",
   "execution_count": 45,
   "metadata": {},
   "outputs": [],
   "source": [
    "forecastGEFS['date'] = gefs0['date']"
   ]
  },
  {
   "cell_type": "code",
   "execution_count": 46,
   "metadata": {},
   "outputs": [],
   "source": [
    "forecastGEFS['date'] = pd.to_datetime(forecastGEFS['date'])"
   ]
  },
  {
   "cell_type": "code",
   "execution_count": 47,
   "metadata": {},
   "outputs": [
    {
     "data": {
      "text/html": [
       "<div>\n",
       "<style scoped>\n",
       "    .dataframe tbody tr th:only-of-type {\n",
       "        vertical-align: middle;\n",
       "    }\n",
       "\n",
       "    .dataframe tbody tr th {\n",
       "        vertical-align: top;\n",
       "    }\n",
       "\n",
       "    .dataframe thead th {\n",
       "        text-align: right;\n",
       "    }\n",
       "</style>\n",
       "<table border=\"1\" class=\"dataframe\">\n",
       "  <thead>\n",
       "    <tr style=\"text-align: right;\">\n",
       "      <th></th>\n",
       "      <th>mean</th>\n",
       "      <th>std</th>\n",
       "      <th>date</th>\n",
       "    </tr>\n",
       "  </thead>\n",
       "  <tbody>\n",
       "    <tr>\n",
       "      <th>0</th>\n",
       "      <td>0.579754</td>\n",
       "      <td>0.739791</td>\n",
       "      <td>2021-02-23</td>\n",
       "    </tr>\n",
       "    <tr>\n",
       "      <th>1</th>\n",
       "      <td>0.074257</td>\n",
       "      <td>0.179125</td>\n",
       "      <td>2021-02-24</td>\n",
       "    </tr>\n",
       "  </tbody>\n",
       "</table>\n",
       "</div>"
      ],
      "text/plain": [
       "       mean       std       date\n",
       "0  0.579754  0.739791 2021-02-23\n",
       "1  0.074257  0.179125 2021-02-24"
      ]
     },
     "execution_count": 47,
     "metadata": {},
     "output_type": "execute_result"
    }
   ],
   "source": [
    "forecastGEFS.head(2)"
   ]
  },
  {
   "cell_type": "code",
   "execution_count": null,
   "metadata": {},
   "outputs": [],
   "source": []
  },
  {
   "cell_type": "markdown",
   "metadata": {},
   "source": [
    "### Prueba de mezclar GEFS y GFS y WRF"
   ]
  },
  {
   "cell_type": "code",
   "execution_count": 48,
   "metadata": {},
   "outputs": [],
   "source": [
    "full_df['gfs'] = gfs['mean']\n",
    "full_df['wrfA'] = wrf['wrfA']\n",
    "full_df['wrfB'] = wrf['wrfB']\n",
    "full_df['wrfC'] = wrf['wrfC']\n",
    "full_df['wrfD'] = wrf['wrfD']"
   ]
  },
  {
   "cell_type": "code",
   "execution_count": 49,
   "metadata": {},
   "outputs": [
    {
     "data": {
      "text/html": [
       "<div>\n",
       "<style scoped>\n",
       "    .dataframe tbody tr th:only-of-type {\n",
       "        vertical-align: middle;\n",
       "    }\n",
       "\n",
       "    .dataframe tbody tr th {\n",
       "        vertical-align: top;\n",
       "    }\n",
       "\n",
       "    .dataframe thead th {\n",
       "        text-align: right;\n",
       "    }\n",
       "</style>\n",
       "<table border=\"1\" class=\"dataframe\">\n",
       "  <thead>\n",
       "    <tr style=\"text-align: right;\">\n",
       "      <th></th>\n",
       "      <th>gefs0</th>\n",
       "      <th>gefs1</th>\n",
       "      <th>gefs2</th>\n",
       "      <th>gefs3</th>\n",
       "      <th>gefs4</th>\n",
       "      <th>gefs5</th>\n",
       "      <th>gefs6</th>\n",
       "      <th>gefs7</th>\n",
       "      <th>gefs8</th>\n",
       "      <th>gefs9</th>\n",
       "      <th>...</th>\n",
       "      <th>gefs25</th>\n",
       "      <th>gefs26</th>\n",
       "      <th>gefs27</th>\n",
       "      <th>gefs28</th>\n",
       "      <th>gefs29</th>\n",
       "      <th>gfs</th>\n",
       "      <th>wrfA</th>\n",
       "      <th>wrfB</th>\n",
       "      <th>wrfC</th>\n",
       "      <th>wrfD</th>\n",
       "    </tr>\n",
       "  </thead>\n",
       "  <tbody>\n",
       "    <tr>\n",
       "      <th>0</th>\n",
       "      <td>0.753683</td>\n",
       "      <td>0.015041</td>\n",
       "      <td>0.319568</td>\n",
       "      <td>1.278210</td>\n",
       "      <td>0.004488</td>\n",
       "      <td>0.140990</td>\n",
       "      <td>0.074979</td>\n",
       "      <td>0.072613</td>\n",
       "      <td>0.029136</td>\n",
       "      <td>1.690002</td>\n",
       "      <td>...</td>\n",
       "      <td>0.392554</td>\n",
       "      <td>0.339465</td>\n",
       "      <td>0.575720</td>\n",
       "      <td>0.074239</td>\n",
       "      <td>0.000988</td>\n",
       "      <td>1.145190</td>\n",
       "      <td>0.16</td>\n",
       "      <td>0.0</td>\n",
       "      <td>0.0</td>\n",
       "      <td>0.0</td>\n",
       "    </tr>\n",
       "    <tr>\n",
       "      <th>1</th>\n",
       "      <td>0.016975</td>\n",
       "      <td>0.000000</td>\n",
       "      <td>0.034136</td>\n",
       "      <td>0.515165</td>\n",
       "      <td>0.000000</td>\n",
       "      <td>0.122506</td>\n",
       "      <td>0.021605</td>\n",
       "      <td>0.000000</td>\n",
       "      <td>0.000000</td>\n",
       "      <td>0.001833</td>\n",
       "      <td>...</td>\n",
       "      <td>0.000000</td>\n",
       "      <td>0.000000</td>\n",
       "      <td>0.035864</td>\n",
       "      <td>0.000000</td>\n",
       "      <td>0.000988</td>\n",
       "      <td>1.891049</td>\n",
       "      <td>0.00</td>\n",
       "      <td>0.0</td>\n",
       "      <td>0.0</td>\n",
       "      <td>0.0</td>\n",
       "    </tr>\n",
       "    <tr>\n",
       "      <th>2</th>\n",
       "      <td>0.000049</td>\n",
       "      <td>0.000346</td>\n",
       "      <td>0.000000</td>\n",
       "      <td>0.003951</td>\n",
       "      <td>0.001481</td>\n",
       "      <td>0.023893</td>\n",
       "      <td>0.000494</td>\n",
       "      <td>0.000000</td>\n",
       "      <td>0.000000</td>\n",
       "      <td>0.000000</td>\n",
       "      <td>...</td>\n",
       "      <td>0.000988</td>\n",
       "      <td>0.000000</td>\n",
       "      <td>0.001531</td>\n",
       "      <td>0.000000</td>\n",
       "      <td>0.000494</td>\n",
       "      <td>1.891049</td>\n",
       "      <td>0.00</td>\n",
       "      <td>0.0</td>\n",
       "      <td>0.0</td>\n",
       "      <td>0.0</td>\n",
       "    </tr>\n",
       "    <tr>\n",
       "      <th>3</th>\n",
       "      <td>0.000000</td>\n",
       "      <td>1.728128</td>\n",
       "      <td>0.000000</td>\n",
       "      <td>0.000000</td>\n",
       "      <td>0.000000</td>\n",
       "      <td>0.008971</td>\n",
       "      <td>0.001481</td>\n",
       "      <td>0.000000</td>\n",
       "      <td>0.000000</td>\n",
       "      <td>0.000000</td>\n",
       "      <td>...</td>\n",
       "      <td>0.000494</td>\n",
       "      <td>0.000000</td>\n",
       "      <td>0.000000</td>\n",
       "      <td>0.000000</td>\n",
       "      <td>0.013909</td>\n",
       "      <td>1.891049</td>\n",
       "      <td>NaN</td>\n",
       "      <td>NaN</td>\n",
       "      <td>NaN</td>\n",
       "      <td>NaN</td>\n",
       "    </tr>\n",
       "    <tr>\n",
       "      <th>4</th>\n",
       "      <td>3.194961</td>\n",
       "      <td>6.958521</td>\n",
       "      <td>0.232531</td>\n",
       "      <td>0.021374</td>\n",
       "      <td>12.682381</td>\n",
       "      <td>2.940753</td>\n",
       "      <td>1.168726</td>\n",
       "      <td>0.000988</td>\n",
       "      <td>0.000494</td>\n",
       "      <td>0.900049</td>\n",
       "      <td>...</td>\n",
       "      <td>1.846414</td>\n",
       "      <td>0.557037</td>\n",
       "      <td>0.086358</td>\n",
       "      <td>0.000000</td>\n",
       "      <td>6.042914</td>\n",
       "      <td>2.768519</td>\n",
       "      <td>NaN</td>\n",
       "      <td>NaN</td>\n",
       "      <td>NaN</td>\n",
       "      <td>NaN</td>\n",
       "    </tr>\n",
       "    <tr>\n",
       "      <th>5</th>\n",
       "      <td>0.225761</td>\n",
       "      <td>5.122568</td>\n",
       "      <td>4.284259</td>\n",
       "      <td>0.187531</td>\n",
       "      <td>0.294198</td>\n",
       "      <td>2.500576</td>\n",
       "      <td>7.763889</td>\n",
       "      <td>0.000000</td>\n",
       "      <td>0.055802</td>\n",
       "      <td>1.800385</td>\n",
       "      <td>...</td>\n",
       "      <td>0.521255</td>\n",
       "      <td>19.451893</td>\n",
       "      <td>0.151543</td>\n",
       "      <td>0.000000</td>\n",
       "      <td>5.495638</td>\n",
       "      <td>8.272865</td>\n",
       "      <td>NaN</td>\n",
       "      <td>NaN</td>\n",
       "      <td>NaN</td>\n",
       "      <td>NaN</td>\n",
       "    </tr>\n",
       "  </tbody>\n",
       "</table>\n",
       "<p>6 rows × 35 columns</p>\n",
       "</div>"
      ],
      "text/plain": [
       "      gefs0     gefs1     gefs2     gefs3      gefs4     gefs5     gefs6  \\\n",
       "0  0.753683  0.015041  0.319568  1.278210   0.004488  0.140990  0.074979   \n",
       "1  0.016975  0.000000  0.034136  0.515165   0.000000  0.122506  0.021605   \n",
       "2  0.000049  0.000346  0.000000  0.003951   0.001481  0.023893  0.000494   \n",
       "3  0.000000  1.728128  0.000000  0.000000   0.000000  0.008971  0.001481   \n",
       "4  3.194961  6.958521  0.232531  0.021374  12.682381  2.940753  1.168726   \n",
       "5  0.225761  5.122568  4.284259  0.187531   0.294198  2.500576  7.763889   \n",
       "\n",
       "      gefs7     gefs8     gefs9  ...    gefs25     gefs26    gefs27    gefs28  \\\n",
       "0  0.072613  0.029136  1.690002  ...  0.392554   0.339465  0.575720  0.074239   \n",
       "1  0.000000  0.000000  0.001833  ...  0.000000   0.000000  0.035864  0.000000   \n",
       "2  0.000000  0.000000  0.000000  ...  0.000988   0.000000  0.001531  0.000000   \n",
       "3  0.000000  0.000000  0.000000  ...  0.000494   0.000000  0.000000  0.000000   \n",
       "4  0.000988  0.000494  0.900049  ...  1.846414   0.557037  0.086358  0.000000   \n",
       "5  0.000000  0.055802  1.800385  ...  0.521255  19.451893  0.151543  0.000000   \n",
       "\n",
       "     gefs29       gfs  wrfA  wrfB  wrfC  wrfD  \n",
       "0  0.000988  1.145190  0.16   0.0   0.0   0.0  \n",
       "1  0.000988  1.891049  0.00   0.0   0.0   0.0  \n",
       "2  0.000494  1.891049  0.00   0.0   0.0   0.0  \n",
       "3  0.013909  1.891049   NaN   NaN   NaN   NaN  \n",
       "4  6.042914  2.768519   NaN   NaN   NaN   NaN  \n",
       "5  5.495638  8.272865   NaN   NaN   NaN   NaN  \n",
       "\n",
       "[6 rows x 35 columns]"
      ]
     },
     "execution_count": 49,
     "metadata": {},
     "output_type": "execute_result"
    }
   ],
   "source": [
    "full_df.head(6)"
   ]
  },
  {
   "cell_type": "code",
   "execution_count": 150,
   "metadata": {},
   "outputs": [],
   "source": [
    "forecastGEFS2 = pd.DataFrame()\n",
    "for key in range(30):\n",
    "    mean = full_df.iloc[key].mean()\n",
    "    std = full_df.iloc[key].std()\n",
    "    median = full_df.iloc[key].median()\n",
    "    temp = pd.DataFrame(data={\"mean\": [mean], \"std\": [std], \"median\": [median]}, dtype=np.float32)\n",
    "    forecastGEFS2 = forecastGEFS2.append(temp, ignore_index=True)"
   ]
  },
  {
   "cell_type": "code",
   "execution_count": 151,
   "metadata": {},
   "outputs": [],
   "source": [
    "forecastGEFS2['date'] = gefs0['date']\n",
    "forecastGEFS2['date'] = pd.to_datetime(forecastGEFS2['date'])\n",
    "# forecastGEFS2.set_index('date')"
   ]
  },
  {
   "cell_type": "code",
   "execution_count": 152,
   "metadata": {},
   "outputs": [],
   "source": [
    "forecastGEFS2[\"max\"] = forecastGEFS2[\"mean\"] + forecastGEFS2[\"std\"]\n",
    "forecastGEFS2[\"min\"] = forecastGEFS2[\"mean\"] - forecastGEFS2[\"std\"]"
   ]
  },
  {
   "cell_type": "code",
   "execution_count": 153,
   "metadata": {},
   "outputs": [],
   "source": [
    "forecastGEFS2.loc[forecastGEFS2[\"min\"] < 0, \"min\"] = 0"
   ]
  },
  {
   "cell_type": "code",
   "execution_count": 120,
   "metadata": {},
   "outputs": [],
   "source": [
    "forecastGEFS2 = forecastGEFS2.set_index('date')"
   ]
  },
  {
   "cell_type": "code",
   "execution_count": 115,
   "metadata": {},
   "outputs": [
    {
     "data": {
      "text/html": [
       "<div>\n",
       "<style scoped>\n",
       "    .dataframe tbody tr th:only-of-type {\n",
       "        vertical-align: middle;\n",
       "    }\n",
       "\n",
       "    .dataframe tbody tr th {\n",
       "        vertical-align: top;\n",
       "    }\n",
       "\n",
       "    .dataframe thead th {\n",
       "        text-align: right;\n",
       "    }\n",
       "</style>\n",
       "<table border=\"1\" class=\"dataframe\">\n",
       "  <thead>\n",
       "    <tr style=\"text-align: right;\">\n",
       "      <th></th>\n",
       "      <th>mean</th>\n",
       "      <th>std</th>\n",
       "      <th>median</th>\n",
       "      <th>date</th>\n",
       "      <th>max</th>\n",
       "      <th>min</th>\n",
       "    </tr>\n",
       "  </thead>\n",
       "  <tbody>\n",
       "    <tr>\n",
       "      <th>0</th>\n",
       "      <td>0.534223</td>\n",
       "      <td>0.713383</td>\n",
       "      <td>0.312222</td>\n",
       "      <td>2021-02-23</td>\n",
       "      <td>1.247606</td>\n",
       "      <td>0.0</td>\n",
       "    </tr>\n",
       "    <tr>\n",
       "      <th>1</th>\n",
       "      <td>0.117679</td>\n",
       "      <td>0.350935</td>\n",
       "      <td>0.000988</td>\n",
       "      <td>2021-02-24</td>\n",
       "      <td>0.468614</td>\n",
       "      <td>0.0</td>\n",
       "    </tr>\n",
       "    <tr>\n",
       "      <th>2</th>\n",
       "      <td>0.060023</td>\n",
       "      <td>0.319600</td>\n",
       "      <td>0.000000</td>\n",
       "      <td>2021-02-25</td>\n",
       "      <td>0.379624</td>\n",
       "      <td>0.0</td>\n",
       "    </tr>\n",
       "    <tr>\n",
       "      <th>3</th>\n",
       "      <td>0.145143</td>\n",
       "      <td>0.462449</td>\n",
       "      <td>0.000000</td>\n",
       "      <td>2021-02-26</td>\n",
       "      <td>0.607592</td>\n",
       "      <td>0.0</td>\n",
       "    </tr>\n",
       "    <tr>\n",
       "      <th>4</th>\n",
       "      <td>2.302893</td>\n",
       "      <td>3.148221</td>\n",
       "      <td>0.900049</td>\n",
       "      <td>2021-02-27</td>\n",
       "      <td>5.451113</td>\n",
       "      <td>0.0</td>\n",
       "    </tr>\n",
       "  </tbody>\n",
       "</table>\n",
       "</div>"
      ],
      "text/plain": [
       "       mean       std    median       date       max  min\n",
       "0  0.534223  0.713383  0.312222 2021-02-23  1.247606  0.0\n",
       "1  0.117679  0.350935  0.000988 2021-02-24  0.468614  0.0\n",
       "2  0.060023  0.319600  0.000000 2021-02-25  0.379624  0.0\n",
       "3  0.145143  0.462449  0.000000 2021-02-26  0.607592  0.0\n",
       "4  2.302893  3.148221  0.900049 2021-02-27  5.451113  0.0"
      ]
     },
     "execution_count": 115,
     "metadata": {},
     "output_type": "execute_result"
    }
   ],
   "source": [
    "forecastGEFS2.head()"
   ]
  },
  {
   "cell_type": "code",
   "execution_count": 88,
   "metadata": {},
   "outputs": [
    {
     "data": {
      "text/plain": [
       "0.11767872"
      ]
     },
     "execution_count": 88,
     "metadata": {},
     "output_type": "execute_result"
    }
   ],
   "source": [
    "forecastGEFS2.iloc[1]['mean']"
   ]
  },
  {
   "cell_type": "code",
   "execution_count": 156,
   "metadata": {},
   "outputs": [],
   "source": [
    "temp =  pd.DataFrame(columns=['accum'])\n",
    "for key, item in forecastGEFS2.iterrows():\n",
    "    key1 = key - 1 # datetime.timedelta(days=1)\n",
    "    if key == 0:\n",
    "        temp = temp.append({'accum': forecastGEFS2.iloc[key]['mean']}, ignore_index=True) \n",
    "    else:\n",
    "        temp = temp.append({'accum': temp.iloc[key1]['accum'] + forecastGEFS2.iloc[key]['mean']}, ignore_index=True)\n",
    "        # temp.iloc[key]['accum'] = temp.iloc[key1]['accum'] + forecastGEFS2.iloc[key]['mean']\n",
    "    \n"
   ]
  },
  {
   "cell_type": "code",
   "execution_count": 190,
   "metadata": {},
   "outputs": [
    {
     "data": {
      "text/plain": [
       "Timestamp('2021-02-22 00:00:00')"
      ]
     },
     "execution_count": 190,
     "metadata": {},
     "output_type": "execute_result"
    }
   ],
   "source": [
    "(key - datetime.timedelta(days=1)).strptime"
   ]
  },
  {
   "cell_type": "code",
   "execution_count": 154,
   "metadata": {},
   "outputs": [],
   "source": [
    "tempmed =  pd.DataFrame(columns=['accummed'])\n",
    "for key, item in forecastGEFS2.iterrows():\n",
    "    key1 = key - 1 # datetime.timedelta(days=1)\n",
    "    #print(item)\n",
    "    if key == 0:\n",
    "        tempmed = tempmed.append({'accummed': forecastGEFS2.iloc[key]['median']}, ignore_index=True) \n",
    "    else:\n",
    "        tempmed = tempmed.append({'accummed': tempmed.iloc[key1]['accummed'] + forecastGEFS2.iloc[key]['median']}, ignore_index=True)\n",
    "        # temp.iloc[key]['accum'] = temp.iloc[key1]['accum'] + forecastGEFS2.iloc[key]['mean']"
   ]
  },
  {
   "cell_type": "code",
   "execution_count": 157,
   "metadata": {},
   "outputs": [],
   "source": [
    "temp['accmin'] = temp['accum'] - forecastGEFS2['std']\n",
    "temp['accmax'] = temp['accum'] + forecastGEFS2['std']"
   ]
  },
  {
   "cell_type": "code",
   "execution_count": 158,
   "metadata": {},
   "outputs": [],
   "source": [
    "temp['date'] = forecastGEFS['date']"
   ]
  },
  {
   "cell_type": "code",
   "execution_count": 163,
   "metadata": {},
   "outputs": [],
   "source": [
    "tempmed['date'] = forecastGEFS['date']"
   ]
  },
  {
   "cell_type": "code",
   "execution_count": null,
   "metadata": {},
   "outputs": [],
   "source": []
  },
  {
   "cell_type": "code",
   "execution_count": 105,
   "metadata": {},
   "outputs": [],
   "source": [
    "temp.loc[temp['accmin'] < 0, 'accmin'] = 0"
   ]
  },
  {
   "cell_type": "code",
   "execution_count": 106,
   "metadata": {},
   "outputs": [
    {
     "data": {
      "text/html": [
       "<div>\n",
       "<style scoped>\n",
       "    .dataframe tbody tr th:only-of-type {\n",
       "        vertical-align: middle;\n",
       "    }\n",
       "\n",
       "    .dataframe tbody tr th {\n",
       "        vertical-align: top;\n",
       "    }\n",
       "\n",
       "    .dataframe thead th {\n",
       "        text-align: right;\n",
       "    }\n",
       "</style>\n",
       "<table border=\"1\" class=\"dataframe\">\n",
       "  <thead>\n",
       "    <tr style=\"text-align: right;\">\n",
       "      <th></th>\n",
       "      <th>accum</th>\n",
       "      <th>accmin</th>\n",
       "      <th>accmax</th>\n",
       "      <th>date</th>\n",
       "    </tr>\n",
       "  </thead>\n",
       "  <tbody>\n",
       "    <tr>\n",
       "      <th>0</th>\n",
       "      <td>0.000000</td>\n",
       "      <td>0.000000</td>\n",
       "      <td>0.713383</td>\n",
       "      <td>2021-02-23</td>\n",
       "    </tr>\n",
       "    <tr>\n",
       "      <th>1</th>\n",
       "      <td>0.651902</td>\n",
       "      <td>0.300966</td>\n",
       "      <td>1.002837</td>\n",
       "      <td>2021-02-24</td>\n",
       "    </tr>\n",
       "    <tr>\n",
       "      <th>2</th>\n",
       "      <td>0.711925</td>\n",
       "      <td>0.392325</td>\n",
       "      <td>1.031525</td>\n",
       "      <td>2021-02-25</td>\n",
       "    </tr>\n",
       "    <tr>\n",
       "      <th>3</th>\n",
       "      <td>0.857068</td>\n",
       "      <td>0.394618</td>\n",
       "      <td>1.319517</td>\n",
       "      <td>2021-02-26</td>\n",
       "    </tr>\n",
       "    <tr>\n",
       "      <th>4</th>\n",
       "      <td>3.159960</td>\n",
       "      <td>0.011740</td>\n",
       "      <td>6.308181</td>\n",
       "      <td>2021-02-27</td>\n",
       "    </tr>\n",
       "    <tr>\n",
       "      <th>5</th>\n",
       "      <td>6.298268</td>\n",
       "      <td>1.976743</td>\n",
       "      <td>10.619794</td>\n",
       "      <td>2021-02-28</td>\n",
       "    </tr>\n",
       "    <tr>\n",
       "      <th>6</th>\n",
       "      <td>14.783812</td>\n",
       "      <td>2.207454</td>\n",
       "      <td>27.360170</td>\n",
       "      <td>2021-03-01</td>\n",
       "    </tr>\n",
       "    <tr>\n",
       "      <th>7</th>\n",
       "      <td>23.470040</td>\n",
       "      <td>6.846900</td>\n",
       "      <td>40.093181</td>\n",
       "      <td>2021-03-02</td>\n",
       "    </tr>\n",
       "    <tr>\n",
       "      <th>8</th>\n",
       "      <td>27.554234</td>\n",
       "      <td>16.070509</td>\n",
       "      <td>39.037958</td>\n",
       "      <td>2021-03-03</td>\n",
       "    </tr>\n",
       "    <tr>\n",
       "      <th>9</th>\n",
       "      <td>32.226789</td>\n",
       "      <td>24.924178</td>\n",
       "      <td>39.529400</td>\n",
       "      <td>2021-03-04</td>\n",
       "    </tr>\n",
       "    <tr>\n",
       "      <th>10</th>\n",
       "      <td>37.787819</td>\n",
       "      <td>27.580107</td>\n",
       "      <td>47.995530</td>\n",
       "      <td>2021-03-05</td>\n",
       "    </tr>\n",
       "    <tr>\n",
       "      <th>11</th>\n",
       "      <td>40.235783</td>\n",
       "      <td>34.839368</td>\n",
       "      <td>45.632197</td>\n",
       "      <td>2021-03-06</td>\n",
       "    </tr>\n",
       "    <tr>\n",
       "      <th>12</th>\n",
       "      <td>42.029487</td>\n",
       "      <td>36.822925</td>\n",
       "      <td>47.236049</td>\n",
       "      <td>2021-03-07</td>\n",
       "    </tr>\n",
       "    <tr>\n",
       "      <th>13</th>\n",
       "      <td>46.569232</td>\n",
       "      <td>39.409415</td>\n",
       "      <td>53.729049</td>\n",
       "      <td>2021-03-08</td>\n",
       "    </tr>\n",
       "    <tr>\n",
       "      <th>14</th>\n",
       "      <td>51.309489</td>\n",
       "      <td>43.843189</td>\n",
       "      <td>58.775789</td>\n",
       "      <td>2021-03-09</td>\n",
       "    </tr>\n",
       "    <tr>\n",
       "      <th>15</th>\n",
       "      <td>56.370583</td>\n",
       "      <td>47.846897</td>\n",
       "      <td>64.894270</td>\n",
       "      <td>2021-03-10</td>\n",
       "    </tr>\n",
       "    <tr>\n",
       "      <th>16</th>\n",
       "      <td>60.459182</td>\n",
       "      <td>54.372447</td>\n",
       "      <td>66.545918</td>\n",
       "      <td>2021-03-11</td>\n",
       "    </tr>\n",
       "    <tr>\n",
       "      <th>17</th>\n",
       "      <td>64.730177</td>\n",
       "      <td>58.918545</td>\n",
       "      <td>70.541808</td>\n",
       "      <td>2021-03-12</td>\n",
       "    </tr>\n",
       "    <tr>\n",
       "      <th>18</th>\n",
       "      <td>68.726206</td>\n",
       "      <td>61.772989</td>\n",
       "      <td>75.679423</td>\n",
       "      <td>2021-03-13</td>\n",
       "    </tr>\n",
       "    <tr>\n",
       "      <th>19</th>\n",
       "      <td>71.119974</td>\n",
       "      <td>66.853177</td>\n",
       "      <td>75.386771</td>\n",
       "      <td>2021-03-14</td>\n",
       "    </tr>\n",
       "    <tr>\n",
       "      <th>20</th>\n",
       "      <td>72.610615</td>\n",
       "      <td>69.867666</td>\n",
       "      <td>75.353564</td>\n",
       "      <td>2021-03-15</td>\n",
       "    </tr>\n",
       "    <tr>\n",
       "      <th>21</th>\n",
       "      <td>76.283280</td>\n",
       "      <td>69.386537</td>\n",
       "      <td>83.180023</td>\n",
       "      <td>2021-03-16</td>\n",
       "    </tr>\n",
       "    <tr>\n",
       "      <th>22</th>\n",
       "      <td>79.935311</td>\n",
       "      <td>72.422194</td>\n",
       "      <td>87.448428</td>\n",
       "      <td>2021-03-17</td>\n",
       "    </tr>\n",
       "    <tr>\n",
       "      <th>23</th>\n",
       "      <td>83.491329</td>\n",
       "      <td>77.868316</td>\n",
       "      <td>89.114342</td>\n",
       "      <td>2021-03-18</td>\n",
       "    </tr>\n",
       "    <tr>\n",
       "      <th>24</th>\n",
       "      <td>86.248958</td>\n",
       "      <td>80.817848</td>\n",
       "      <td>91.680068</td>\n",
       "      <td>2021-03-19</td>\n",
       "    </tr>\n",
       "    <tr>\n",
       "      <th>25</th>\n",
       "      <td>89.947341</td>\n",
       "      <td>82.697473</td>\n",
       "      <td>97.197208</td>\n",
       "      <td>2021-03-20</td>\n",
       "    </tr>\n",
       "    <tr>\n",
       "      <th>26</th>\n",
       "      <td>92.407811</td>\n",
       "      <td>87.928373</td>\n",
       "      <td>96.887249</td>\n",
       "      <td>2021-03-21</td>\n",
       "    </tr>\n",
       "    <tr>\n",
       "      <th>27</th>\n",
       "      <td>94.349278</td>\n",
       "      <td>90.751960</td>\n",
       "      <td>97.946595</td>\n",
       "      <td>2021-03-22</td>\n",
       "    </tr>\n",
       "    <tr>\n",
       "      <th>28</th>\n",
       "      <td>95.548426</td>\n",
       "      <td>93.297157</td>\n",
       "      <td>97.799695</td>\n",
       "      <td>2021-03-23</td>\n",
       "    </tr>\n",
       "    <tr>\n",
       "      <th>29</th>\n",
       "      <td>101.564418</td>\n",
       "      <td>87.266365</td>\n",
       "      <td>115.862472</td>\n",
       "      <td>2021-03-24</td>\n",
       "    </tr>\n",
       "  </tbody>\n",
       "</table>\n",
       "</div>"
      ],
      "text/plain": [
       "         accum     accmin      accmax       date\n",
       "0     0.000000   0.000000    0.713383 2021-02-23\n",
       "1     0.651902   0.300966    1.002837 2021-02-24\n",
       "2     0.711925   0.392325    1.031525 2021-02-25\n",
       "3     0.857068   0.394618    1.319517 2021-02-26\n",
       "4     3.159960   0.011740    6.308181 2021-02-27\n",
       "5     6.298268   1.976743   10.619794 2021-02-28\n",
       "6    14.783812   2.207454   27.360170 2021-03-01\n",
       "7    23.470040   6.846900   40.093181 2021-03-02\n",
       "8    27.554234  16.070509   39.037958 2021-03-03\n",
       "9    32.226789  24.924178   39.529400 2021-03-04\n",
       "10   37.787819  27.580107   47.995530 2021-03-05\n",
       "11   40.235783  34.839368   45.632197 2021-03-06\n",
       "12   42.029487  36.822925   47.236049 2021-03-07\n",
       "13   46.569232  39.409415   53.729049 2021-03-08\n",
       "14   51.309489  43.843189   58.775789 2021-03-09\n",
       "15   56.370583  47.846897   64.894270 2021-03-10\n",
       "16   60.459182  54.372447   66.545918 2021-03-11\n",
       "17   64.730177  58.918545   70.541808 2021-03-12\n",
       "18   68.726206  61.772989   75.679423 2021-03-13\n",
       "19   71.119974  66.853177   75.386771 2021-03-14\n",
       "20   72.610615  69.867666   75.353564 2021-03-15\n",
       "21   76.283280  69.386537   83.180023 2021-03-16\n",
       "22   79.935311  72.422194   87.448428 2021-03-17\n",
       "23   83.491329  77.868316   89.114342 2021-03-18\n",
       "24   86.248958  80.817848   91.680068 2021-03-19\n",
       "25   89.947341  82.697473   97.197208 2021-03-20\n",
       "26   92.407811  87.928373   96.887249 2021-03-21\n",
       "27   94.349278  90.751960   97.946595 2021-03-22\n",
       "28   95.548426  93.297157   97.799695 2021-03-23\n",
       "29  101.564418  87.266365  115.862472 2021-03-24"
      ]
     },
     "execution_count": 106,
     "metadata": {},
     "output_type": "execute_result"
    }
   ],
   "source": [
    "temp"
   ]
  },
  {
   "cell_type": "code",
   "execution_count": 71,
   "metadata": {},
   "outputs": [],
   "source": [
    "temp = temp.set_index(\"date\")\n",
    "forecastGEFS2 = forecastGEFS2.set_index('date')"
   ]
  },
  {
   "cell_type": "code",
   "execution_count": 168,
   "metadata": {},
   "outputs": [],
   "source": [
    "#temp = temp.set_index(\"date\")\n",
    "tempmed = tempmed.set_index(\"date\")"
   ]
  },
  {
   "cell_type": "markdown",
   "metadata": {},
   "source": [
    "## PLOT"
   ]
  },
  {
   "cell_type": "code",
   "execution_count": 121,
   "metadata": {},
   "outputs": [
    {
     "data": {
      "image/png": "[encoded data removed]",
      "text/plain": [
       "<Figure size 1152x576 with 1 Axes>"
      ]
     },
     "metadata": {
      "needs_background": "light"
     },
     "output_type": "display_data"
    }
   ],
   "source": [
    "fig, ax = plt.subplots( 1, 1, figsize=(16,8) )\n",
    "forecastGEFS2['mean'].plot(ax=ax)\n",
    "#ax.plot(forecastGEFS2['mean'], color='blue', linewidth=2 )\n",
    "ax.fill_between(x = forecastGEFS2.index, y1=forecastGEFS2['max'], y2=forecastGEFS2['min'], color='gray', alpha=0.5)\n",
    "ax.set_title(\"Precipitacion media y Distribución Estandard - Cuenca Rio Tercero\")\n",
    "ax.errorbar(forecastGEFS2.index, forecastGEFS2['max'], color='grey')\n",
    "ax.errorbar(forecastGEFS2.index, forecastGEFS2['min'], color='grey')\n",
    "plt.xlabel(\"Días de modelado\")\n",
    "plt.ylabel(\"Precipitación [mm]\")\n",
    "plt.tight_layout()"
   ]
  },
  {
   "cell_type": "code",
   "execution_count": null,
   "metadata": {},
   "outputs": [],
   "source": []
  },
  {
   "cell_type": "code",
   "execution_count": 132,
   "metadata": {},
   "outputs": [
    {
     "data": {
      "image/png": "[encoded data removed]",
      "text/plain": [
       "<Figure size 1152x576 with 1 Axes>"
      ]
     },
     "metadata": {
      "needs_background": "light"
     },
     "output_type": "display_data"
    }
   ],
   "source": [
    "fig, ax = plt.subplots( 1, 1, figsize=(16,8) )\n",
    "forecastGEFS2['max'].plot.area(ax=ax, color='grey', alpha=0.5)\n",
    "forecastGEFS2['mean'].plot.area(ax=ax, alpha=0.6)\n",
    "forecastGEFS2['median'].plot.area(ax=ax, alpha=0.6)\n",
    "#ax.plot(forecastGEFS2['mean'], color='blue', linewidth=2 )\n",
    "#ax.fill_between(x = forecastGEFS2.index, y1=forecastGEFS2['max'], y2=forecastGEFS2['min'], color='gray', alpha=0.5)\n",
    "ax.set_title(\"Precipitacion media y Distribución Estandard - Cuenca Rio Tercero\")\n",
    "ax.errorbar(forecastGEFS2.index, forecastGEFS2['max'], color='grey')\n",
    "#ax.errorbar(forecastGEFS2.index, forecastGEFS2['min'], color='grey')\n",
    "plt.xlabel(\"Días de modelado\")\n",
    "plt.ylabel(\"Precipitación [mm]\")\n",
    "plt.tight_layout()"
   ]
  },
  {
   "cell_type": "code",
   "execution_count": null,
   "metadata": {},
   "outputs": [],
   "source": []
  },
  {
   "cell_type": "code",
   "execution_count": 170,
   "metadata": {},
   "outputs": [
    {
     "data": {
      "image/png": "[encoded data removed]",
      "text/plain": [
       "<Figure size 1152x576 with 1 Axes>"
      ]
     },
     "metadata": {
      "needs_background": "light"
     },
     "output_type": "display_data"
    }
   ],
   "source": [
    "fig, ax = plt.subplots( 1, 1, figsize=(16,8) )\n",
    "temp['accum'].plot.area(ax=ax, linewidth=1, alpha=0.6)\n",
    "#ax.plot(forecastGEFS2['mean'], color='blue', linewidth=2 )\n",
    "\n",
    "tempmed['accummed'].plot.area(ax=ax, linewidth=1, alpha=0.6)\n",
    "ax.fill_between(x = temp.index, y1=temp['accmin'], y2=temp['accmax'], color='gray', alpha=0.5)\n",
    "ax.set_title(\"Precipitacion Mediana acumulada y su distribución estandard - Cuenca Rio Tercero\", fontsize=20)\n",
    "plt.xlabel(\"Días de modelado\", fontsize=15)\n",
    "plt.ylabel(\"Precipitación [mm]\", fontsize=15)\n",
    "plt.tight_layout()"
   ]
  },
  {
   "cell_type": "code",
   "execution_count": 167,
   "metadata": {},
   "outputs": [],
   "source": [
    "tempmed['date'] = temp['date']"
   ]
  },
  {
   "cell_type": "code",
   "execution_count": null,
   "metadata": {},
   "outputs": [],
   "source": []
  },
  {
   "cell_type": "code",
   "execution_count": 141,
   "metadata": {},
   "outputs": [
    {
     "data": {
      "image/png": "[encoded data removed]",
      "text/plain": [
       "<Figure size 1152x576 with 1 Axes>"
      ]
     },
     "metadata": {
      "needs_background": "light"
     },
     "output_type": "display_data"
    }
   ],
   "source": [
    "fig, ax = plt.subplots( 1, 1, figsize=(16,8) )\n",
    "tempmed['accummed'].plot(ax=ax, linewidth=1)\n",
    "#ax.plot(forecastGEFS2['mean'], color='blue', linewidth=2 )\n",
    "ax.stem(temp.index, tempmed['accummed'])\n",
    "# ax.fill_between(x = temp.index, y1=temp['accmin'], y2=temp['accmax'], color='gray', alpha=0.5)\n",
    "ax.set_title(\"Precipitacion mediana acumulada y su distribución - Cuenca Rio Tercero\", fontsize=20)\n",
    "plt.xlabel(\"Días de modelado\", fontsize=15)\n",
    "plt.ylabel(\"Precipitación [mm]\", fontsize=15)\n",
    "plt.tight_layout()"
   ]
  },
  {
   "cell_type": "code",
   "execution_count": null,
   "metadata": {},
   "outputs": [],
   "source": []
  },
  {
   "cell_type": "code",
   "execution_count": null,
   "metadata": {},
   "outputs": [],
   "source": []
  },
  {
   "cell_type": "code",
   "execution_count": null,
   "metadata": {},
   "outputs": [],
   "source": []
  }
 ],
 "metadata": {
  "kernelspec": {
   "display_name": "Python 3",
   "language": "python",
   "name": "python3"
  },
  "language_info": {
   "codemirror_mode": {
    "name": "ipython",
    "version": 3
   },
   "file_extension": ".py",
   "mimetype": "text/x-python",
   "name": "python",
   "nbconvert_exporter": "python",
   "pygments_lexer": "ipython3",
   "version": "3.9.2"
  }
 },
 "nbformat": 4,
 "nbformat_minor": 4
}
