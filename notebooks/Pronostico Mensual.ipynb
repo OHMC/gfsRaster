{
 "cells": [
  {
   "cell_type": "code",
   "execution_count": null,
   "metadata": {},
   "outputs": [],
   "source": [
    "import geopandas as  gpd\n",
    "import pandas as pd\n",
    "import numpy as np\n",
    "import datetime\n",
    "import glob\n",
    "import matplotlib.pyplot as plt\n",
    "from rasterstats import zonal_stats"
   ]
  },
  {
   "cell_type": "markdown",
   "metadata": {},
   "source": [
    "# Data srtructure"
   ]
  },
  {
   "cell_type": "code",
   "execution_count": null,
   "metadata": {},
   "outputs": [],
   "source": [
    "forecast = pd.DataFrame(columns=['date', \"mean\", \"std\"])"
   ]
  },
  {
   "cell_type": "markdown",
   "metadata": {},
   "source": [
    "# WRF Primeras 72 HS"
   ]
  },
  {
   "cell_type": "code",
   "execution_count": 3,
   "metadata": {},
   "outputs": [],
   "source": [
    "files_A = glob.glob('../data/cuencas/cuencas_CBA_A_*') \n",
    "files_B = glob.glob('../data/cuencas/cuencas_CBA_B_*') \n",
    "files_C = glob.glob('../data/cuencas/cuencas_CBA_C_*')\n",
    "files_D = glob.glob('../data/cuencas/cuencas_CBA_D_*') "
   ]
  },
  {
   "cell_type": "code",
   "execution_count": 4,
   "metadata": {},
   "outputs": [],
   "source": [
    "c24A = pd.read_csv(files_A[0])\n",
    "c48A = pd.read_csv(files_A[1])\n",
    "c72A = pd.read_csv(files_A[2])\n",
    "c24B = pd.read_csv(files_B[0])\n",
    "c48B = pd.read_csv(files_B[1])\n",
    "c72B = pd.read_csv(files_B[2])\n",
    "c24C = pd.read_csv(files_C[0])\n",
    "c48C = pd.read_csv(files_C[1])\n",
    "c72C = pd.read_csv(files_C[2])\n",
    "c24D = pd.read_csv(files_D[0])\n",
    "c48D = pd.read_csv(files_D[1])\n",
    "c72D = pd.read_csv(files_D[2])"
   ]
  },
  {
   "cell_type": "code",
   "execution_count": 5,
   "metadata": {},
   "outputs": [],
   "source": [
    "mA24 = c24A.loc[c24A.index == 49]['mean']\n",
    "mA48 = c48A.loc[c48A.index == 49]['mean']\n",
    "mA72 = c72A.loc[c72A.index == 49]['mean']\n",
    "mB24 = c24B.loc[c24B.index == 49]['mean']\n",
    "mB48 = c48B.loc[c48B.index == 49]['mean']\n",
    "mB72 = c72B.loc[c72B.index == 49]['mean']\n",
    "mC24 = c24C.loc[c24C.index == 49]['mean']\n",
    "mC48 = c48C.loc[c48C.index == 49]['mean']\n",
    "mC72 = c72C.loc[c72C.index == 49]['mean']\n",
    "mD24 = c24D.loc[c24D.index == 49]['mean']\n",
    "mD48 = c48D.loc[c48D.index == 49]['mean']\n",
    "mD72 = c72D.loc[c72D.index == 49]['mean']"
   ]
  },
  {
   "cell_type": "code",
   "execution_count": 6,
   "metadata": {},
   "outputs": [],
   "source": [
    "m24 = pd.concat([mA24, mB24, mC24, mD24], ignore_index=True)\n",
    "m48 = pd.concat([mA48, mB48, mC48, mD48], ignore_index=True)\n",
    "m72 = pd.concat([mA72, mB72, mC72, mD72], ignore_index=True)"
   ]
  },
  {
   "cell_type": "code",
   "execution_count": 30,
   "metadata": {},
   "outputs": [
    {
     "data": {
      "text/plain": [
       "49    0.0\n",
       "Name: mean, dtype: float64"
      ]
     },
     "execution_count": 30,
     "metadata": {},
     "output_type": "execute_result"
    }
   ],
   "source": []
  },
  {
   "cell_type": "code",
   "execution_count": 7,
   "metadata": {},
   "outputs": [],
   "source": [
    "date = datetime.datetime.strptime(\"2021-02-23\", \"%Y-%m-%d\")\n",
    "mean = m24.mean()\n",
    "std = m24.std()\n",
    "temp = pd.DataFrame(data = {'date': [date], \"mean\": [mean], \"std\":[std]})"
   ]
  },
  {
   "cell_type": "code",
   "execution_count": 8,
   "metadata": {},
   "outputs": [],
   "source": [
    "forecast = forecast.append(temp)"
   ]
  },
  {
   "cell_type": "code",
   "execution_count": 9,
   "metadata": {},
   "outputs": [],
   "source": [
    "date = datetime.datetime.strptime(\"2021-02-24\", \"%Y-%m-%d\")\n",
    "mean = (m48 - m24).mean()\n",
    "std = (m48 - m24).std()\n",
    "temp = pd.DataFrame(data = {'date': [date], \"mean\": [mean], \"std\":[std]})"
   ]
  },
  {
   "cell_type": "code",
   "execution_count": 10,
   "metadata": {},
   "outputs": [],
   "source": [
    "forecast = forecast.append(temp)"
   ]
  },
  {
   "cell_type": "code",
   "execution_count": 11,
   "metadata": {},
   "outputs": [],
   "source": [
    "date = datetime.datetime.strptime(\"2021-02-25\", \"%Y-%m-%d\")\n",
    "mean = (m72 - m24).mean()\n",
    "std = (m72 - m24).std()\n",
    "temp = pd.DataFrame(data = {'date': [date], \"mean\": [mean], \"std\":[std]})"
   ]
  },
  {
   "cell_type": "code",
   "execution_count": 12,
   "metadata": {},
   "outputs": [],
   "source": [
    "forecast = forecast.append(temp)"
   ]
  },
  {
   "cell_type": "code",
   "execution_count": 13,
   "metadata": {},
   "outputs": [
    {
     "data": {
      "text/html": [
       "<div>\n",
       "<style scoped>\n",
       "    .dataframe tbody tr th:only-of-type {\n",
       "        vertical-align: middle;\n",
       "    }\n",
       "\n",
       "    .dataframe tbody tr th {\n",
       "        vertical-align: top;\n",
       "    }\n",
       "\n",
       "    .dataframe thead th {\n",
       "        text-align: right;\n",
       "    }\n",
       "</style>\n",
       "<table border=\"1\" class=\"dataframe\">\n",
       "  <thead>\n",
       "    <tr style=\"text-align: right;\">\n",
       "      <th></th>\n",
       "      <th>date</th>\n",
       "      <th>mean</th>\n",
       "      <th>std</th>\n",
       "    </tr>\n",
       "  </thead>\n",
       "  <tbody>\n",
       "    <tr>\n",
       "      <th>0</th>\n",
       "      <td>2021-02-23</td>\n",
       "      <td>0.04</td>\n",
       "      <td>0.08</td>\n",
       "    </tr>\n",
       "    <tr>\n",
       "      <th>0</th>\n",
       "      <td>2021-02-24</td>\n",
       "      <td>0.00</td>\n",
       "      <td>0.00</td>\n",
       "    </tr>\n",
       "    <tr>\n",
       "      <th>0</th>\n",
       "      <td>2021-02-25</td>\n",
       "      <td>0.00</td>\n",
       "      <td>0.00</td>\n",
       "    </tr>\n",
       "  </tbody>\n",
       "</table>\n",
       "</div>"
      ],
      "text/plain": [
       "        date  mean   std\n",
       "0 2021-02-23  0.04  0.08\n",
       "0 2021-02-24  0.00  0.00\n",
       "0 2021-02-25  0.00  0.00"
      ]
     },
     "execution_count": 13,
     "metadata": {},
     "output_type": "execute_result"
    }
   ],
   "source": [
    "forecast"
   ]
  },
  {
   "cell_type": "code",
   "execution_count": 35,
   "metadata": {},
   "outputs": [],
   "source": [
    "dateA = datetime.datetime.strptime(\"2021-02-23\", \"%Y-%m-%d\")\n",
    "dateB = datetime.datetime.strptime(\"2021-02-24\", \"%Y-%m-%d\")\n",
    "dateC = datetime.datetime.strptime(\"2021-02-25\", \"%Y-%m-%d\")"
   ]
  },
  {
   "cell_type": "code",
   "execution_count": 36,
   "metadata": {},
   "outputs": [],
   "source": [
    "date = pd.DataFrame({'date': [dateA, dateB, dateC]})"
   ]
  },
  {
   "cell_type": "markdown",
   "metadata": {},
   "source": [
    "# preparar para integrar"
   ]
  },
  {
   "cell_type": "code",
   "execution_count": 46,
   "metadata": {},
   "outputs": [],
   "source": [
    "wrf = pd.DataFrame({'wrfA':[mA24.values[0], mA48.values[0] - mA48.values[0], mA72.values[0] - mA48.values[0]],\n",
    "              'wrfB':[mB24.values[0], mB48.values[0] - mB48.values[0], mB72.values[0] - mB48.values[0]],\n",
    "              'wrfC':[mC24.values[0], mC48.values[0] - mC48.values[0], mC72.values[0] - mC48.values[0]],\n",
    "              'wrfD':[mD24.values[0], mD48.values[0] - mD48.values[0], mD72.values[0] - mD48.values[0]]})"
   ]
  },
  {
   "cell_type": "code",
   "execution_count": 47,
   "metadata": {},
   "outputs": [],
   "source": [
    "wrf['date'] = date['date']\n"
   ]
  },
  {
   "cell_type": "code",
   "execution_count": 48,
   "metadata": {},
   "outputs": [
    {
     "data": {
      "text/html": [
       "<div>\n",
       "<style scoped>\n",
       "    .dataframe tbody tr th:only-of-type {\n",
       "        vertical-align: middle;\n",
       "    }\n",
       "\n",
       "    .dataframe tbody tr th {\n",
       "        vertical-align: top;\n",
       "    }\n",
       "\n",
       "    .dataframe thead th {\n",
       "        text-align: right;\n",
       "    }\n",
       "</style>\n",
       "<table border=\"1\" class=\"dataframe\">\n",
       "  <thead>\n",
       "    <tr style=\"text-align: right;\">\n",
       "      <th></th>\n",
       "      <th>wrfA</th>\n",
       "      <th>wrfB</th>\n",
       "      <th>wrfC</th>\n",
       "      <th>wrfD</th>\n",
       "      <th>date</th>\n",
       "    </tr>\n",
       "  </thead>\n",
       "  <tbody>\n",
       "    <tr>\n",
       "      <th>0</th>\n",
       "      <td>0.16</td>\n",
       "      <td>0.0</td>\n",
       "      <td>0.0</td>\n",
       "      <td>0.0</td>\n",
       "      <td>2021-02-23</td>\n",
       "    </tr>\n",
       "    <tr>\n",
       "      <th>1</th>\n",
       "      <td>0.00</td>\n",
       "      <td>0.0</td>\n",
       "      <td>0.0</td>\n",
       "      <td>0.0</td>\n",
       "      <td>2021-02-24</td>\n",
       "    </tr>\n",
       "    <tr>\n",
       "      <th>2</th>\n",
       "      <td>0.00</td>\n",
       "      <td>0.0</td>\n",
       "      <td>0.0</td>\n",
       "      <td>0.0</td>\n",
       "      <td>2021-02-25</td>\n",
       "    </tr>\n",
       "  </tbody>\n",
       "</table>\n",
       "</div>"
      ],
      "text/plain": [
       "   wrfA  wrfB  wrfC  wrfD       date\n",
       "0  0.16   0.0   0.0   0.0 2021-02-23\n",
       "1  0.00   0.0   0.0   0.0 2021-02-24\n",
       "2  0.00   0.0   0.0   0.0 2021-02-25"
      ]
     },
     "execution_count": 48,
     "metadata": {},
     "output_type": "execute_result"
    }
   ],
   "source": [
    "wrf"
   ]
  },
  {
   "cell_type": "code",
   "execution_count": null,
   "metadata": {},
   "outputs": [],
   "source": []
  },
  {
   "cell_type": "markdown",
   "metadata": {},
   "source": [
    "# DÍA 4 A 16"
   ]
  },
  {
   "cell_type": "markdown",
   "metadata": {},
   "source": [
    "## GFS"
   ]
  },
  {
   "cell_type": "code",
   "execution_count": 19,
   "metadata": {},
   "outputs": [],
   "source": [
    "filelist = glob.glob(\"../data/csv/GFS_*_ppm_all_day.csv\")"
   ]
  },
  {
   "cell_type": "code",
   "execution_count": 20,
   "metadata": {},
   "outputs": [],
   "source": [
    "gfs = pd.read_csv(filelist[0])"
   ]
  },
  {
   "cell_type": "code",
   "execution_count": null,
   "metadata": {},
   "outputs": [],
   "source": [
    "gfs"
   ]
  },
  {
   "cell_type": "code",
   "execution_count": null,
   "metadata": {},
   "outputs": [],
   "source": []
  },
  {
   "cell_type": "markdown",
   "metadata": {},
   "source": [
    "## GEFS"
   ]
  },
  {
   "cell_type": "code",
   "execution_count": 41,
   "metadata": {},
   "outputs": [],
   "source": [
    "filelist = glob.glob(\"../data/csv/GEFS_*_ppm_all_day.csv\")"
   ]
  },
  {
   "cell_type": "code",
   "execution_count": 42,
   "metadata": {},
   "outputs": [
    {
     "data": {
      "text/plain": [
       "30"
      ]
     },
     "execution_count": 42,
     "metadata": {},
     "output_type": "execute_result"
    }
   ],
   "source": [
    "len(filelist)"
   ]
  },
  {
   "cell_type": "code",
   "execution_count": 172,
   "metadata": {},
   "outputs": [],
   "source": [
    "list_of_df = []\n",
    "full_df = pd.DataFrame()\n",
    "for file in range(30):\n",
    "    # vars()[str(file)] = pd.read_csv(filelist[file])\n",
    "    # vars()[] = pd.read_csv(file)\n",
    "    vars()[f\"gefs{file}\"] = pd.read_csv(filelist[file])\n",
    "    full_df[f\"gefs{file}\"] = vars()[f\"gefs{file}\"]['mean']"
   ]
  },
  {
   "cell_type": "code",
   "execution_count": 173,
   "metadata": {},
   "outputs": [
    {
     "data": {
      "text/html": [
       "<div>\n",
       "<style scoped>\n",
       "    .dataframe tbody tr th:only-of-type {\n",
       "        vertical-align: middle;\n",
       "    }\n",
       "\n",
       "    .dataframe tbody tr th {\n",
       "        vertical-align: top;\n",
       "    }\n",
       "\n",
       "    .dataframe thead th {\n",
       "        text-align: right;\n",
       "    }\n",
       "</style>\n",
       "<table border=\"1\" class=\"dataframe\">\n",
       "  <thead>\n",
       "    <tr style=\"text-align: right;\">\n",
       "      <th></th>\n",
       "      <th>gefs0</th>\n",
       "      <th>gefs1</th>\n",
       "      <th>gefs2</th>\n",
       "      <th>gefs3</th>\n",
       "      <th>gefs4</th>\n",
       "      <th>gefs5</th>\n",
       "      <th>gefs6</th>\n",
       "      <th>gefs7</th>\n",
       "      <th>gefs8</th>\n",
       "      <th>gefs9</th>\n",
       "      <th>...</th>\n",
       "      <th>gefs20</th>\n",
       "      <th>gefs21</th>\n",
       "      <th>gefs22</th>\n",
       "      <th>gefs23</th>\n",
       "      <th>gefs24</th>\n",
       "      <th>gefs25</th>\n",
       "      <th>gefs26</th>\n",
       "      <th>gefs27</th>\n",
       "      <th>gefs28</th>\n",
       "      <th>gefs29</th>\n",
       "    </tr>\n",
       "  </thead>\n",
       "  <tbody>\n",
       "    <tr>\n",
       "      <th>0</th>\n",
       "      <td>0.533881</td>\n",
       "      <td>0.753683</td>\n",
       "      <td>3.495039</td>\n",
       "      <td>0.004488</td>\n",
       "      <td>0.575720</td>\n",
       "      <td>0.247037</td>\n",
       "      <td>0.210288</td>\n",
       "      <td>0.029136</td>\n",
       "      <td>0.609506</td>\n",
       "      <td>0.072613</td>\n",
       "      <td>...</td>\n",
       "      <td>0.339465</td>\n",
       "      <td>0.00679</td>\n",
       "      <td>1.882327</td>\n",
       "      <td>1.690002</td>\n",
       "      <td>0.074979</td>\n",
       "      <td>0.255823</td>\n",
       "      <td>0.065185</td>\n",
       "      <td>0.140990</td>\n",
       "      <td>0.574578</td>\n",
       "      <td>0.312222</td>\n",
       "    </tr>\n",
       "    <tr>\n",
       "      <th>1</th>\n",
       "      <td>0.755012</td>\n",
       "      <td>0.016975</td>\n",
       "      <td>0.018148</td>\n",
       "      <td>0.000000</td>\n",
       "      <td>0.035864</td>\n",
       "      <td>0.015988</td>\n",
       "      <td>0.000000</td>\n",
       "      <td>0.000000</td>\n",
       "      <td>0.018642</td>\n",
       "      <td>0.000000</td>\n",
       "      <td>...</td>\n",
       "      <td>0.000000</td>\n",
       "      <td>0.00000</td>\n",
       "      <td>0.471811</td>\n",
       "      <td>0.001833</td>\n",
       "      <td>0.021605</td>\n",
       "      <td>0.017160</td>\n",
       "      <td>0.000000</td>\n",
       "      <td>0.122506</td>\n",
       "      <td>0.122963</td>\n",
       "      <td>0.000988</td>\n",
       "    </tr>\n",
       "  </tbody>\n",
       "</table>\n",
       "<p>2 rows × 30 columns</p>\n",
       "</div>"
      ],
      "text/plain": [
       "      gefs0     gefs1     gefs2     gefs3     gefs4     gefs5     gefs6  \\\n",
       "0  0.533881  0.753683  3.495039  0.004488  0.575720  0.247037  0.210288   \n",
       "1  0.755012  0.016975  0.018148  0.000000  0.035864  0.015988  0.000000   \n",
       "\n",
       "      gefs7     gefs8     gefs9  ...    gefs20   gefs21    gefs22    gefs23  \\\n",
       "0  0.029136  0.609506  0.072613  ...  0.339465  0.00679  1.882327  1.690002   \n",
       "1  0.000000  0.018642  0.000000  ...  0.000000  0.00000  0.471811  0.001833   \n",
       "\n",
       "     gefs24    gefs25    gefs26    gefs27    gefs28    gefs29  \n",
       "0  0.074979  0.255823  0.065185  0.140990  0.574578  0.312222  \n",
       "1  0.021605  0.017160  0.000000  0.122506  0.122963  0.000988  \n",
       "\n",
       "[2 rows x 30 columns]"
      ]
     },
     "execution_count": 173,
     "metadata": {},
     "output_type": "execute_result"
    }
   ],
   "source": [
    "full_df.head(2)"
   ]
  },
  {
   "cell_type": "code",
   "execution_count": 174,
   "metadata": {},
   "outputs": [],
   "source": [
    "forecastGEFS = pd.DataFrame()"
   ]
  },
  {
   "cell_type": "code",
   "execution_count": 175,
   "metadata": {},
   "outputs": [],
   "source": [
    "for key in range(30):\n",
    "    mean = full_df.iloc[key].mean()\n",
    "    std = full_df.iloc[key].std()\n",
    "    temp = pd.DataFrame(data={\"mean\": [mean], \"std\": [std]}, dtype=np.float32)\n",
    "    forecastGEFS = forecastGEFS.append(temp, ignore_index=True)"
   ]
  },
  {
   "cell_type": "code",
   "execution_count": 176,
   "metadata": {},
   "outputs": [],
   "source": [
    "forecastGEFS['date'] = gefs0['date']"
   ]
  },
  {
   "cell_type": "code",
   "execution_count": 177,
   "metadata": {},
   "outputs": [],
   "source": [
    "forecastGEFS['date'] = pd.to_datetime(forecastGEFS['date'])"
   ]
  },
  {
   "cell_type": "code",
   "execution_count": 178,
   "metadata": {},
   "outputs": [
    {
     "data": {
      "text/html": [
       "<div>\n",
       "<style scoped>\n",
       "    .dataframe tbody tr th:only-of-type {\n",
       "        vertical-align: middle;\n",
       "    }\n",
       "\n",
       "    .dataframe tbody tr th {\n",
       "        vertical-align: top;\n",
       "    }\n",
       "\n",
       "    .dataframe thead th {\n",
       "        text-align: right;\n",
       "    }\n",
       "</style>\n",
       "<table border=\"1\" class=\"dataframe\">\n",
       "  <thead>\n",
       "    <tr style=\"text-align: right;\">\n",
       "      <th></th>\n",
       "      <th>mean</th>\n",
       "      <th>std</th>\n",
       "      <th>date</th>\n",
       "    </tr>\n",
       "  </thead>\n",
       "  <tbody>\n",
       "    <tr>\n",
       "      <th>0</th>\n",
       "      <td>0.579754</td>\n",
       "      <td>0.739791</td>\n",
       "      <td>2021-02-23</td>\n",
       "    </tr>\n",
       "    <tr>\n",
       "      <th>1</th>\n",
       "      <td>0.074257</td>\n",
       "      <td>0.179125</td>\n",
       "      <td>2021-02-24</td>\n",
       "    </tr>\n",
       "  </tbody>\n",
       "</table>\n",
       "</div>"
      ],
      "text/plain": [
       "       mean       std       date\n",
       "0  0.579754  0.739791 2021-02-23\n",
       "1  0.074257  0.179125 2021-02-24"
      ]
     },
     "execution_count": 178,
     "metadata": {},
     "output_type": "execute_result"
    }
   ],
   "source": [
    "forecastGEFS.head(2)"
   ]
  },
  {
   "cell_type": "code",
   "execution_count": null,
   "metadata": {},
   "outputs": [],
   "source": []
  },
  {
   "cell_type": "markdown",
   "metadata": {},
   "source": [
    "### Prueba de mezclar GEFS y GFS y WRF"
   ]
  },
  {
   "cell_type": "code",
   "execution_count": 50,
   "metadata": {},
   "outputs": [],
   "source": [
    "full_df['gfs'] = gfs['mean']\n",
    "full_df['wrfA'] = wrf['wrfA']\n",
    "full_df['wrfB'] = wrf['wrfB']\n",
    "full_df['wrfC'] = wrf['wrfC']\n",
    "full_df['wrfD'] = wrf['wrfD']"
   ]
  },
  {
   "cell_type": "code",
   "execution_count": 51,
   "metadata": {},
   "outputs": [
    {
     "data": {
      "text/html": [
       "<div>\n",
       "<style scoped>\n",
       "    .dataframe tbody tr th:only-of-type {\n",
       "        vertical-align: middle;\n",
       "    }\n",
       "\n",
       "    .dataframe tbody tr th {\n",
       "        vertical-align: top;\n",
       "    }\n",
       "\n",
       "    .dataframe thead th {\n",
       "        text-align: right;\n",
       "    }\n",
       "</style>\n",
       "<table border=\"1\" class=\"dataframe\">\n",
       "  <thead>\n",
       "    <tr style=\"text-align: right;\">\n",
       "      <th></th>\n",
       "      <th>gefs0</th>\n",
       "      <th>gefs1</th>\n",
       "      <th>gefs2</th>\n",
       "      <th>gefs3</th>\n",
       "      <th>gefs4</th>\n",
       "      <th>gefs5</th>\n",
       "      <th>gefs6</th>\n",
       "      <th>gefs7</th>\n",
       "      <th>gefs8</th>\n",
       "      <th>gefs9</th>\n",
       "      <th>...</th>\n",
       "      <th>gefs25</th>\n",
       "      <th>gefs26</th>\n",
       "      <th>gefs27</th>\n",
       "      <th>gefs28</th>\n",
       "      <th>gefs29</th>\n",
       "      <th>gfs</th>\n",
       "      <th>wrfA</th>\n",
       "      <th>wrfB</th>\n",
       "      <th>wrfC</th>\n",
       "      <th>wrfD</th>\n",
       "    </tr>\n",
       "  </thead>\n",
       "  <tbody>\n",
       "    <tr>\n",
       "      <th>0</th>\n",
       "      <td>0.533881</td>\n",
       "      <td>0.753683</td>\n",
       "      <td>3.495039</td>\n",
       "      <td>0.004488</td>\n",
       "      <td>0.575720</td>\n",
       "      <td>0.247037</td>\n",
       "      <td>0.210288</td>\n",
       "      <td>0.029136</td>\n",
       "      <td>0.609506</td>\n",
       "      <td>0.072613</td>\n",
       "      <td>...</td>\n",
       "      <td>0.255823</td>\n",
       "      <td>0.065185</td>\n",
       "      <td>0.140990</td>\n",
       "      <td>0.574578</td>\n",
       "      <td>0.312222</td>\n",
       "      <td>1.145190</td>\n",
       "      <td>0.16</td>\n",
       "      <td>0.0</td>\n",
       "      <td>0.0</td>\n",
       "      <td>0.0</td>\n",
       "    </tr>\n",
       "    <tr>\n",
       "      <th>1</th>\n",
       "      <td>0.755012</td>\n",
       "      <td>0.016975</td>\n",
       "      <td>0.018148</td>\n",
       "      <td>0.000000</td>\n",
       "      <td>0.035864</td>\n",
       "      <td>0.015988</td>\n",
       "      <td>0.000000</td>\n",
       "      <td>0.000000</td>\n",
       "      <td>0.018642</td>\n",
       "      <td>0.000000</td>\n",
       "      <td>...</td>\n",
       "      <td>0.017160</td>\n",
       "      <td>0.000000</td>\n",
       "      <td>0.122506</td>\n",
       "      <td>0.122963</td>\n",
       "      <td>0.000988</td>\n",
       "      <td>1.891049</td>\n",
       "      <td>0.00</td>\n",
       "      <td>0.0</td>\n",
       "      <td>0.0</td>\n",
       "      <td>0.0</td>\n",
       "    </tr>\n",
       "    <tr>\n",
       "      <th>2</th>\n",
       "      <td>0.147506</td>\n",
       "      <td>0.000049</td>\n",
       "      <td>0.000988</td>\n",
       "      <td>0.001481</td>\n",
       "      <td>0.001531</td>\n",
       "      <td>0.000000</td>\n",
       "      <td>0.000000</td>\n",
       "      <td>0.000000</td>\n",
       "      <td>0.000000</td>\n",
       "      <td>0.000000</td>\n",
       "      <td>...</td>\n",
       "      <td>0.000000</td>\n",
       "      <td>0.000000</td>\n",
       "      <td>0.023893</td>\n",
       "      <td>0.000000</td>\n",
       "      <td>0.002469</td>\n",
       "      <td>1.891049</td>\n",
       "      <td>0.00</td>\n",
       "      <td>0.0</td>\n",
       "      <td>0.0</td>\n",
       "      <td>0.0</td>\n",
       "    </tr>\n",
       "    <tr>\n",
       "      <th>3</th>\n",
       "      <td>0.034136</td>\n",
       "      <td>0.000000</td>\n",
       "      <td>0.098827</td>\n",
       "      <td>0.000000</td>\n",
       "      <td>0.000000</td>\n",
       "      <td>0.000000</td>\n",
       "      <td>0.000000</td>\n",
       "      <td>0.000000</td>\n",
       "      <td>0.000000</td>\n",
       "      <td>0.000000</td>\n",
       "      <td>...</td>\n",
       "      <td>0.000494</td>\n",
       "      <td>0.000000</td>\n",
       "      <td>0.008971</td>\n",
       "      <td>0.000000</td>\n",
       "      <td>0.002469</td>\n",
       "      <td>1.891049</td>\n",
       "      <td>NaN</td>\n",
       "      <td>NaN</td>\n",
       "      <td>NaN</td>\n",
       "      <td>NaN</td>\n",
       "    </tr>\n",
       "    <tr>\n",
       "      <th>4</th>\n",
       "      <td>0.116728</td>\n",
       "      <td>3.194961</td>\n",
       "      <td>3.828601</td>\n",
       "      <td>12.682381</td>\n",
       "      <td>0.086358</td>\n",
       "      <td>0.127325</td>\n",
       "      <td>0.000000</td>\n",
       "      <td>0.000494</td>\n",
       "      <td>0.673971</td>\n",
       "      <td>0.000988</td>\n",
       "      <td>...</td>\n",
       "      <td>0.000000</td>\n",
       "      <td>6.786831</td>\n",
       "      <td>2.940753</td>\n",
       "      <td>0.000000</td>\n",
       "      <td>2.121070</td>\n",
       "      <td>2.768519</td>\n",
       "      <td>NaN</td>\n",
       "      <td>NaN</td>\n",
       "      <td>NaN</td>\n",
       "      <td>NaN</td>\n",
       "    </tr>\n",
       "    <tr>\n",
       "      <th>5</th>\n",
       "      <td>0.633601</td>\n",
       "      <td>0.225761</td>\n",
       "      <td>0.772765</td>\n",
       "      <td>0.294198</td>\n",
       "      <td>0.151543</td>\n",
       "      <td>7.543066</td>\n",
       "      <td>0.031337</td>\n",
       "      <td>0.055802</td>\n",
       "      <td>0.958117</td>\n",
       "      <td>0.000000</td>\n",
       "      <td>...</td>\n",
       "      <td>7.317848</td>\n",
       "      <td>4.679177</td>\n",
       "      <td>2.500576</td>\n",
       "      <td>0.000000</td>\n",
       "      <td>2.417016</td>\n",
       "      <td>8.272865</td>\n",
       "      <td>NaN</td>\n",
       "      <td>NaN</td>\n",
       "      <td>NaN</td>\n",
       "      <td>NaN</td>\n",
       "    </tr>\n",
       "  </tbody>\n",
       "</table>\n",
       "<p>6 rows × 35 columns</p>\n",
       "</div>"
      ],
      "text/plain": [
       "      gefs0     gefs1     gefs2      gefs3     gefs4     gefs5     gefs6  \\\n",
       "0  0.533881  0.753683  3.495039   0.004488  0.575720  0.247037  0.210288   \n",
       "1  0.755012  0.016975  0.018148   0.000000  0.035864  0.015988  0.000000   \n",
       "2  0.147506  0.000049  0.000988   0.001481  0.001531  0.000000  0.000000   \n",
       "3  0.034136  0.000000  0.098827   0.000000  0.000000  0.000000  0.000000   \n",
       "4  0.116728  3.194961  3.828601  12.682381  0.086358  0.127325  0.000000   \n",
       "5  0.633601  0.225761  0.772765   0.294198  0.151543  7.543066  0.031337   \n",
       "\n",
       "      gefs7     gefs8     gefs9  ...    gefs25    gefs26    gefs27    gefs28  \\\n",
       "0  0.029136  0.609506  0.072613  ...  0.255823  0.065185  0.140990  0.574578   \n",
       "1  0.000000  0.018642  0.000000  ...  0.017160  0.000000  0.122506  0.122963   \n",
       "2  0.000000  0.000000  0.000000  ...  0.000000  0.000000  0.023893  0.000000   \n",
       "3  0.000000  0.000000  0.000000  ...  0.000494  0.000000  0.008971  0.000000   \n",
       "4  0.000494  0.673971  0.000988  ...  0.000000  6.786831  2.940753  0.000000   \n",
       "5  0.055802  0.958117  0.000000  ...  7.317848  4.679177  2.500576  0.000000   \n",
       "\n",
       "     gefs29       gfs  wrfA  wrfB  wrfC  wrfD  \n",
       "0  0.312222  1.145190  0.16   0.0   0.0   0.0  \n",
       "1  0.000988  1.891049  0.00   0.0   0.0   0.0  \n",
       "2  0.002469  1.891049  0.00   0.0   0.0   0.0  \n",
       "3  0.002469  1.891049   NaN   NaN   NaN   NaN  \n",
       "4  2.121070  2.768519   NaN   NaN   NaN   NaN  \n",
       "5  2.417016  8.272865   NaN   NaN   NaN   NaN  \n",
       "\n",
       "[6 rows x 35 columns]"
      ]
     },
     "execution_count": 51,
     "metadata": {},
     "output_type": "execute_result"
    }
   ],
   "source": [
    "full_df.head(6)"
   ]
  },
  {
   "cell_type": "code",
   "execution_count": 179,
   "metadata": {},
   "outputs": [],
   "source": [
    "forecastGEFS2 = pd.DataFrame()\n",
    "for key in range(30):\n",
    "    mean = full_df.iloc[key].mean()\n",
    "    std = full_df.iloc[key].std()\n",
    "    median = full_df.iloc[key].median()\n",
    "    temp = pd.DataFrame(data={\"mean\": [mean], \"std\": [std], \"median\": [median]}, dtype=np.float32)\n",
    "    forecastGEFS2 = forecastGEFS2.append(temp, ignore_index=True)"
   ]
  },
  {
   "cell_type": "code",
   "execution_count": 180,
   "metadata": {},
   "outputs": [
    {
     "data": {
      "text/html": [
       "<div>\n",
       "<style scoped>\n",
       "    .dataframe tbody tr th:only-of-type {\n",
       "        vertical-align: middle;\n",
       "    }\n",
       "\n",
       "    .dataframe tbody tr th {\n",
       "        vertical-align: top;\n",
       "    }\n",
       "\n",
       "    .dataframe thead th {\n",
       "        text-align: right;\n",
       "    }\n",
       "</style>\n",
       "<table border=\"1\" class=\"dataframe\">\n",
       "  <thead>\n",
       "    <tr style=\"text-align: right;\">\n",
       "      <th></th>\n",
       "      <th>mean</th>\n",
       "      <th>std</th>\n",
       "      <th>median</th>\n",
       "    </tr>\n",
       "    <tr>\n",
       "      <th>date</th>\n",
       "      <th></th>\n",
       "      <th></th>\n",
       "      <th></th>\n",
       "    </tr>\n",
       "  </thead>\n",
       "  <tbody>\n",
       "    <tr>\n",
       "      <th>2021-02-23</th>\n",
       "      <td>0.579754</td>\n",
       "      <td>0.739791</td>\n",
       "      <td>0.329516</td>\n",
       "    </tr>\n",
       "    <tr>\n",
       "      <th>2021-02-24</th>\n",
       "      <td>0.074257</td>\n",
       "      <td>0.179125</td>\n",
       "      <td>0.001410</td>\n",
       "    </tr>\n",
       "    <tr>\n",
       "      <th>2021-02-25</th>\n",
       "      <td>0.006992</td>\n",
       "      <td>0.027208</td>\n",
       "      <td>0.000049</td>\n",
       "    </tr>\n",
       "    <tr>\n",
       "      <th>2021-02-26</th>\n",
       "      <td>0.086946</td>\n",
       "      <td>0.335589</td>\n",
       "      <td>0.000000</td>\n",
       "    </tr>\n",
       "    <tr>\n",
       "      <th>2021-02-27</th>\n",
       "      <td>2.287372</td>\n",
       "      <td>3.200834</td>\n",
       "      <td>0.787010</td>\n",
       "    </tr>\n",
       "    <tr>\n",
       "      <th>2021-02-28</th>\n",
       "      <td>2.967156</td>\n",
       "      <td>4.287210</td>\n",
       "      <td>1.034223</td>\n",
       "    </tr>\n",
       "    <tr>\n",
       "      <th>2021-03-01</th>\n",
       "      <td>8.134521</td>\n",
       "      <td>12.635953</td>\n",
       "      <td>2.092623</td>\n",
       "    </tr>\n",
       "    <tr>\n",
       "      <th>2021-03-02</th>\n",
       "      <td>8.153177</td>\n",
       "      <td>16.635660</td>\n",
       "      <td>0.747346</td>\n",
       "    </tr>\n",
       "    <tr>\n",
       "      <th>2021-03-03</th>\n",
       "      <td>3.396238</td>\n",
       "      <td>11.011163</td>\n",
       "      <td>0.003210</td>\n",
       "    </tr>\n",
       "    <tr>\n",
       "      <th>2021-03-04</th>\n",
       "      <td>3.980574</td>\n",
       "      <td>6.309610</td>\n",
       "      <td>0.129568</td>\n",
       "    </tr>\n",
       "    <tr>\n",
       "      <th>2021-03-05</th>\n",
       "      <td>4.898664</td>\n",
       "      <td>9.680952</td>\n",
       "      <td>0.142366</td>\n",
       "    </tr>\n",
       "    <tr>\n",
       "      <th>2021-03-06</th>\n",
       "      <td>1.681830</td>\n",
       "      <td>3.361875</td>\n",
       "      <td>0.144959</td>\n",
       "    </tr>\n",
       "    <tr>\n",
       "      <th>2021-03-07</th>\n",
       "      <td>0.894240</td>\n",
       "      <td>1.448491</td>\n",
       "      <td>0.079578</td>\n",
       "    </tr>\n",
       "    <tr>\n",
       "      <th>2021-03-08</th>\n",
       "      <td>3.649541</td>\n",
       "      <td>5.255203</td>\n",
       "      <td>0.852016</td>\n",
       "    </tr>\n",
       "    <tr>\n",
       "      <th>2021-03-09</th>\n",
       "      <td>3.773747</td>\n",
       "      <td>5.264121</td>\n",
       "      <td>0.421105</td>\n",
       "    </tr>\n",
       "    <tr>\n",
       "      <th>2021-03-10</th>\n",
       "      <td>4.027943</td>\n",
       "      <td>6.397504</td>\n",
       "      <td>0.648323</td>\n",
       "    </tr>\n",
       "    <tr>\n",
       "      <th>2021-03-11</th>\n",
       "      <td>3.934128</td>\n",
       "      <td>6.128676</td>\n",
       "      <td>0.734321</td>\n",
       "    </tr>\n",
       "    <tr>\n",
       "      <th>2021-03-12</th>\n",
       "      <td>4.270994</td>\n",
       "      <td>5.811631</td>\n",
       "      <td>1.861204</td>\n",
       "    </tr>\n",
       "    <tr>\n",
       "      <th>2021-03-13</th>\n",
       "      <td>3.996029</td>\n",
       "      <td>6.953217</td>\n",
       "      <td>0.782469</td>\n",
       "    </tr>\n",
       "    <tr>\n",
       "      <th>2021-03-14</th>\n",
       "      <td>2.393768</td>\n",
       "      <td>4.266797</td>\n",
       "      <td>0.012840</td>\n",
       "    </tr>\n",
       "    <tr>\n",
       "      <th>2021-03-15</th>\n",
       "      <td>1.490641</td>\n",
       "      <td>2.742949</td>\n",
       "      <td>0.073230</td>\n",
       "    </tr>\n",
       "    <tr>\n",
       "      <th>2021-03-16</th>\n",
       "      <td>3.672665</td>\n",
       "      <td>6.896743</td>\n",
       "      <td>0.102984</td>\n",
       "    </tr>\n",
       "    <tr>\n",
       "      <th>2021-03-17</th>\n",
       "      <td>3.652031</td>\n",
       "      <td>7.513117</td>\n",
       "      <td>0.330412</td>\n",
       "    </tr>\n",
       "    <tr>\n",
       "      <th>2021-03-18</th>\n",
       "      <td>3.556019</td>\n",
       "      <td>5.623013</td>\n",
       "      <td>0.980586</td>\n",
       "    </tr>\n",
       "    <tr>\n",
       "      <th>2021-03-19</th>\n",
       "      <td>2.757629</td>\n",
       "      <td>5.431110</td>\n",
       "      <td>0.193837</td>\n",
       "    </tr>\n",
       "    <tr>\n",
       "      <th>2021-03-20</th>\n",
       "      <td>3.698382</td>\n",
       "      <td>7.249867</td>\n",
       "      <td>0.208251</td>\n",
       "    </tr>\n",
       "    <tr>\n",
       "      <th>2021-03-21</th>\n",
       "      <td>2.460470</td>\n",
       "      <td>4.479438</td>\n",
       "      <td>0.165247</td>\n",
       "    </tr>\n",
       "    <tr>\n",
       "      <th>2021-03-22</th>\n",
       "      <td>1.941467</td>\n",
       "      <td>3.597318</td>\n",
       "      <td>0.054126</td>\n",
       "    </tr>\n",
       "    <tr>\n",
       "      <th>2021-03-23</th>\n",
       "      <td>1.199148</td>\n",
       "      <td>2.251269</td>\n",
       "      <td>0.083426</td>\n",
       "    </tr>\n",
       "    <tr>\n",
       "      <th>2021-03-24</th>\n",
       "      <td>6.015992</td>\n",
       "      <td>14.298054</td>\n",
       "      <td>0.209624</td>\n",
       "    </tr>\n",
       "  </tbody>\n",
       "</table>\n",
       "</div>"
      ],
      "text/plain": [
       "                mean        std    median\n",
       "date                                     \n",
       "2021-02-23  0.579754   0.739791  0.329516\n",
       "2021-02-24  0.074257   0.179125  0.001410\n",
       "2021-02-25  0.006992   0.027208  0.000049\n",
       "2021-02-26  0.086946   0.335589  0.000000\n",
       "2021-02-27  2.287372   3.200834  0.787010\n",
       "2021-02-28  2.967156   4.287210  1.034223\n",
       "2021-03-01  8.134521  12.635953  2.092623\n",
       "2021-03-02  8.153177  16.635660  0.747346\n",
       "2021-03-03  3.396238  11.011163  0.003210\n",
       "2021-03-04  3.980574   6.309610  0.129568\n",
       "2021-03-05  4.898664   9.680952  0.142366\n",
       "2021-03-06  1.681830   3.361875  0.144959\n",
       "2021-03-07  0.894240   1.448491  0.079578\n",
       "2021-03-08  3.649541   5.255203  0.852016\n",
       "2021-03-09  3.773747   5.264121  0.421105\n",
       "2021-03-10  4.027943   6.397504  0.648323\n",
       "2021-03-11  3.934128   6.128676  0.734321\n",
       "2021-03-12  4.270994   5.811631  1.861204\n",
       "2021-03-13  3.996029   6.953217  0.782469\n",
       "2021-03-14  2.393768   4.266797  0.012840\n",
       "2021-03-15  1.490641   2.742949  0.073230\n",
       "2021-03-16  3.672665   6.896743  0.102984\n",
       "2021-03-17  3.652031   7.513117  0.330412\n",
       "2021-03-18  3.556019   5.623013  0.980586\n",
       "2021-03-19  2.757629   5.431110  0.193837\n",
       "2021-03-20  3.698382   7.249867  0.208251\n",
       "2021-03-21  2.460470   4.479438  0.165247\n",
       "2021-03-22  1.941467   3.597318  0.054126\n",
       "2021-03-23  1.199148   2.251269  0.083426\n",
       "2021-03-24  6.015992  14.298054  0.209624"
      ]
     },
     "execution_count": 180,
     "metadata": {},
     "output_type": "execute_result"
    }
   ],
   "source": [
    "forecastGEFS2['date'] = gefs0['date']\n",
    "forecastGEFS2['date'] = pd.to_datetime(forecastGEFS2['date'])\n",
    "forecastGEFS2.set_index('date')"
   ]
  },
  {
   "cell_type": "code",
   "execution_count": 181,
   "metadata": {},
   "outputs": [],
   "source": [
    "forecastGEFS2[\"max\"] = forecastGEFS2[\"mean\"] + forecastGEFS2[\"std\"]\n",
    "forecastGEFS2[\"min\"] = forecastGEFS2[\"mean\"] - forecastGEFS2[\"std\"]"
   ]
  },
  {
   "cell_type": "code",
   "execution_count": 182,
   "metadata": {},
   "outputs": [],
   "source": [
    "forecastGEFS2 = forecastGEFS2.set_index('date')"
   ]
  },
  {
   "cell_type": "code",
   "execution_count": 183,
   "metadata": {},
   "outputs": [
    {
     "data": {
      "text/html": [
       "<div>\n",
       "<style scoped>\n",
       "    .dataframe tbody tr th:only-of-type {\n",
       "        vertical-align: middle;\n",
       "    }\n",
       "\n",
       "    .dataframe tbody tr th {\n",
       "        vertical-align: top;\n",
       "    }\n",
       "\n",
       "    .dataframe thead th {\n",
       "        text-align: right;\n",
       "    }\n",
       "</style>\n",
       "<table border=\"1\" class=\"dataframe\">\n",
       "  <thead>\n",
       "    <tr style=\"text-align: right;\">\n",
       "      <th></th>\n",
       "      <th>mean</th>\n",
       "      <th>std</th>\n",
       "      <th>median</th>\n",
       "      <th>max</th>\n",
       "      <th>min</th>\n",
       "    </tr>\n",
       "    <tr>\n",
       "      <th>date</th>\n",
       "      <th></th>\n",
       "      <th></th>\n",
       "      <th></th>\n",
       "      <th></th>\n",
       "      <th></th>\n",
       "    </tr>\n",
       "  </thead>\n",
       "  <tbody>\n",
       "    <tr>\n",
       "      <th>2021-02-23</th>\n",
       "      <td>0.579754</td>\n",
       "      <td>0.739791</td>\n",
       "      <td>0.329516</td>\n",
       "      <td>1.319545</td>\n",
       "      <td>-0.160037</td>\n",
       "    </tr>\n",
       "    <tr>\n",
       "      <th>2021-02-24</th>\n",
       "      <td>0.074257</td>\n",
       "      <td>0.179125</td>\n",
       "      <td>0.001410</td>\n",
       "      <td>0.253382</td>\n",
       "      <td>-0.104868</td>\n",
       "    </tr>\n",
       "    <tr>\n",
       "      <th>2021-02-25</th>\n",
       "      <td>0.006992</td>\n",
       "      <td>0.027208</td>\n",
       "      <td>0.000049</td>\n",
       "      <td>0.034201</td>\n",
       "      <td>-0.020216</td>\n",
       "    </tr>\n",
       "    <tr>\n",
       "      <th>2021-02-26</th>\n",
       "      <td>0.086946</td>\n",
       "      <td>0.335589</td>\n",
       "      <td>0.000000</td>\n",
       "      <td>0.422535</td>\n",
       "      <td>-0.248644</td>\n",
       "    </tr>\n",
       "    <tr>\n",
       "      <th>2021-02-27</th>\n",
       "      <td>2.287372</td>\n",
       "      <td>3.200834</td>\n",
       "      <td>0.787010</td>\n",
       "      <td>5.488206</td>\n",
       "      <td>-0.913462</td>\n",
       "    </tr>\n",
       "  </tbody>\n",
       "</table>\n",
       "</div>"
      ],
      "text/plain": [
       "                mean       std    median       max       min\n",
       "date                                                        \n",
       "2021-02-23  0.579754  0.739791  0.329516  1.319545 -0.160037\n",
       "2021-02-24  0.074257  0.179125  0.001410  0.253382 -0.104868\n",
       "2021-02-25  0.006992  0.027208  0.000049  0.034201 -0.020216\n",
       "2021-02-26  0.086946  0.335589  0.000000  0.422535 -0.248644\n",
       "2021-02-27  2.287372  3.200834  0.787010  5.488206 -0.913462"
      ]
     },
     "execution_count": 183,
     "metadata": {},
     "output_type": "execute_result"
    }
   ],
   "source": [
    "forecastGEFS2.head()"
   ]
  },
  {
   "cell_type": "code",
   "execution_count": 147,
   "metadata": {},
   "outputs": [
    {
     "data": {
      "text/plain": [
       "0.11767872"
      ]
     },
     "execution_count": 147,
     "metadata": {},
     "output_type": "execute_result"
    }
   ],
   "source": [
    "forecastGEFS2.iloc[1]['mean']"
   ]
  },
  {
   "cell_type": "code",
   "execution_count": 189,
   "metadata": {},
   "outputs": [
    {
     "name": "stdout",
     "output_type": "stream",
     "text": [
      "2021-02-23 00:00:00\n"
     ]
    },
    {
     "ename": "TypeError",
     "evalue": "Cannot index by location index with a non-integer key",
     "output_type": "error",
     "traceback": [
      "\u001b[0;31m---------------------------------------------------------------------------\u001b[0m",
      "\u001b[0;31mTypeError\u001b[0m                                 Traceback (most recent call last)",
      "\u001b[0;32m<ipython-input-189-523508b5b09c>\u001b[0m in \u001b[0;36m<module>\u001b[0;34m\u001b[0m\n\u001b[1;32m      6\u001b[0m         \u001b[0mtemp\u001b[0m \u001b[0;34m=\u001b[0m \u001b[0mtemp\u001b[0m\u001b[0;34m.\u001b[0m\u001b[0mappend\u001b[0m\u001b[0;34m(\u001b[0m\u001b[0;34m{\u001b[0m\u001b[0;34m'accum'\u001b[0m\u001b[0;34m:\u001b[0m \u001b[0mforecastGEFS2\u001b[0m\u001b[0;34m.\u001b[0m\u001b[0miloc\u001b[0m\u001b[0;34m[\u001b[0m\u001b[0mkey\u001b[0m\u001b[0;34m]\u001b[0m\u001b[0;34m[\u001b[0m\u001b[0;34m'mean'\u001b[0m\u001b[0;34m]\u001b[0m\u001b[0;34m}\u001b[0m\u001b[0;34m,\u001b[0m \u001b[0mignore_index\u001b[0m\u001b[0;34m=\u001b[0m\u001b[0;32mTrue\u001b[0m\u001b[0;34m)\u001b[0m\u001b[0;34m\u001b[0m\u001b[0;34m\u001b[0m\u001b[0m\n\u001b[1;32m      7\u001b[0m     \u001b[0;32melse\u001b[0m\u001b[0;34m:\u001b[0m\u001b[0;34m\u001b[0m\u001b[0;34m\u001b[0m\u001b[0m\n\u001b[0;32m----> 8\u001b[0;31m         \u001b[0mtemp\u001b[0m \u001b[0;34m=\u001b[0m \u001b[0mtemp\u001b[0m\u001b[0;34m.\u001b[0m\u001b[0mappend\u001b[0m\u001b[0;34m(\u001b[0m\u001b[0;34m{\u001b[0m\u001b[0;34m'accum'\u001b[0m\u001b[0;34m:\u001b[0m \u001b[0mtemp\u001b[0m\u001b[0;34m.\u001b[0m\u001b[0miloc\u001b[0m\u001b[0;34m[\u001b[0m\u001b[0mkey1\u001b[0m\u001b[0;34m]\u001b[0m\u001b[0;34m[\u001b[0m\u001b[0;34m'accum'\u001b[0m\u001b[0;34m]\u001b[0m \u001b[0;34m+\u001b[0m \u001b[0mforecastGEFS2\u001b[0m\u001b[0;34m.\u001b[0m\u001b[0miloc\u001b[0m\u001b[0;34m[\u001b[0m\u001b[0mkey\u001b[0m\u001b[0;34m]\u001b[0m\u001b[0;34m[\u001b[0m\u001b[0;34m'mean'\u001b[0m\u001b[0;34m]\u001b[0m\u001b[0;34m}\u001b[0m\u001b[0;34m,\u001b[0m \u001b[0mignore_index\u001b[0m\u001b[0;34m=\u001b[0m\u001b[0;32mTrue\u001b[0m\u001b[0;34m)\u001b[0m\u001b[0;34m\u001b[0m\u001b[0;34m\u001b[0m\u001b[0m\n\u001b[0m\u001b[1;32m      9\u001b[0m         \u001b[0;31m# temp.iloc[key]['accum'] = temp.iloc[key1]['accum'] + forecastGEFS2.iloc[key]['mean']\u001b[0m\u001b[0;34m\u001b[0m\u001b[0;34m\u001b[0m\u001b[0;34m\u001b[0m\u001b[0m\n\u001b[1;32m     10\u001b[0m \u001b[0;34m\u001b[0m\u001b[0m\n",
      "\u001b[0;32m~/anaconda3/envs/autogis/lib/python3.8/site-packages/pandas/core/indexing.py\u001b[0m in \u001b[0;36m__getitem__\u001b[0;34m(self, key)\u001b[0m\n\u001b[1;32m    877\u001b[0m \u001b[0;34m\u001b[0m\u001b[0m\n\u001b[1;32m    878\u001b[0m             \u001b[0mmaybe_callable\u001b[0m \u001b[0;34m=\u001b[0m \u001b[0mcom\u001b[0m\u001b[0;34m.\u001b[0m\u001b[0mapply_if_callable\u001b[0m\u001b[0;34m(\u001b[0m\u001b[0mkey\u001b[0m\u001b[0;34m,\u001b[0m \u001b[0mself\u001b[0m\u001b[0;34m.\u001b[0m\u001b[0mobj\u001b[0m\u001b[0;34m)\u001b[0m\u001b[0;34m\u001b[0m\u001b[0;34m\u001b[0m\u001b[0m\n\u001b[0;32m--> 879\u001b[0;31m             \u001b[0;32mreturn\u001b[0m \u001b[0mself\u001b[0m\u001b[0;34m.\u001b[0m\u001b[0m_getitem_axis\u001b[0m\u001b[0;34m(\u001b[0m\u001b[0mmaybe_callable\u001b[0m\u001b[0;34m,\u001b[0m \u001b[0maxis\u001b[0m\u001b[0;34m=\u001b[0m\u001b[0maxis\u001b[0m\u001b[0;34m)\u001b[0m\u001b[0;34m\u001b[0m\u001b[0;34m\u001b[0m\u001b[0m\n\u001b[0m\u001b[1;32m    880\u001b[0m \u001b[0;34m\u001b[0m\u001b[0m\n\u001b[1;32m    881\u001b[0m     \u001b[0;32mdef\u001b[0m \u001b[0m_is_scalar_access\u001b[0m\u001b[0;34m(\u001b[0m\u001b[0mself\u001b[0m\u001b[0;34m,\u001b[0m \u001b[0mkey\u001b[0m\u001b[0;34m:\u001b[0m \u001b[0mTuple\u001b[0m\u001b[0;34m)\u001b[0m\u001b[0;34m:\u001b[0m\u001b[0;34m\u001b[0m\u001b[0;34m\u001b[0m\u001b[0m\n",
      "\u001b[0;32m~/anaconda3/envs/autogis/lib/python3.8/site-packages/pandas/core/indexing.py\u001b[0m in \u001b[0;36m_getitem_axis\u001b[0;34m(self, key, axis)\u001b[0m\n\u001b[1;32m   1491\u001b[0m             \u001b[0mkey\u001b[0m \u001b[0;34m=\u001b[0m \u001b[0mitem_from_zerodim\u001b[0m\u001b[0;34m(\u001b[0m\u001b[0mkey\u001b[0m\u001b[0;34m)\u001b[0m\u001b[0;34m\u001b[0m\u001b[0;34m\u001b[0m\u001b[0m\n\u001b[1;32m   1492\u001b[0m             \u001b[0;32mif\u001b[0m \u001b[0;32mnot\u001b[0m \u001b[0mis_integer\u001b[0m\u001b[0;34m(\u001b[0m\u001b[0mkey\u001b[0m\u001b[0;34m)\u001b[0m\u001b[0;34m:\u001b[0m\u001b[0;34m\u001b[0m\u001b[0;34m\u001b[0m\u001b[0m\n\u001b[0;32m-> 1493\u001b[0;31m                 \u001b[0;32mraise\u001b[0m \u001b[0mTypeError\u001b[0m\u001b[0;34m(\u001b[0m\u001b[0;34m\"Cannot index by location index with a non-integer key\"\u001b[0m\u001b[0;34m)\u001b[0m\u001b[0;34m\u001b[0m\u001b[0;34m\u001b[0m\u001b[0m\n\u001b[0m\u001b[1;32m   1494\u001b[0m \u001b[0;34m\u001b[0m\u001b[0m\n\u001b[1;32m   1495\u001b[0m             \u001b[0;31m# validate the location\u001b[0m\u001b[0;34m\u001b[0m\u001b[0;34m\u001b[0m\u001b[0;34m\u001b[0m\u001b[0m\n",
      "\u001b[0;31mTypeError\u001b[0m: Cannot index by location index with a non-integer key"
     ]
    }
   ],
   "source": [
    "temp =  pd.DataFrame(columns=['accum'])\n",
    "for key, item in forecastGEFS2.iterrows():\n",
    "    key1 = key - datetime.timedelta(days=1)\n",
    "    print(key)\n",
    "    if key == 0:\n",
    "        temp = temp.append({'accum': forecastGEFS2.iloc[key]['mean']}, ignore_index=True) \n",
    "    else:\n",
    "        temp = temp.append({'accum': temp.iloc[key1]['accum'] + forecastGEFS2.iloc[key]['mean']}, ignore_index=True)\n",
    "        # temp.iloc[key]['accum'] = temp.iloc[key1]['accum'] + forecastGEFS2.iloc[key]['mean']\n",
    "    \n"
   ]
  },
  {
   "cell_type": "code",
   "execution_count": 190,
   "metadata": {},
   "outputs": [
    {
     "data": {
      "text/plain": [
       "Timestamp('2021-02-22 00:00:00')"
      ]
     },
     "execution_count": 190,
     "metadata": {},
     "output_type": "execute_result"
    }
   ],
   "source": [
    "(key - datetime.timedelta(days=1)).strptime"
   ]
  },
  {
   "cell_type": "code",
   "execution_count": 161,
   "metadata": {},
   "outputs": [],
   "source": [
    "tempmed =  pd.DataFrame(columns=['accummed'])\n",
    "for key, item in forecastGEFS2.iterrows():\n",
    "    key1 = key - 1 # datetime.timedelta(days=1)\n",
    "    #print(item)\n",
    "    if key == 0:\n",
    "        tempmed = tempmed.append({'accummed': forecastGEFS2.iloc[key]['median']}, ignore_index=True) \n",
    "    else:\n",
    "        tempmed = tempmed.append({'accummed': tempmed.iloc[key1]['accummed'] + forecastGEFS2.iloc[key]['median']}, ignore_index=True)\n",
    "        # temp.iloc[key]['accum'] = temp.iloc[key1]['accum'] + forecastGEFS2.iloc[key]['mean']"
   ]
  },
  {
   "cell_type": "code",
   "execution_count": 162,
   "metadata": {},
   "outputs": [],
   "source": [
    "temp['accmin'] = temp['accum'] - forecastGEFS2['std']\n",
    "temp['accmax'] = temp['accum'] + forecastGEFS2['std']"
   ]
  },
  {
   "cell_type": "code",
   "execution_count": 184,
   "metadata": {},
   "outputs": [
    {
     "ename": "ValueError",
     "evalue": "Length of values (30) does not match length of index (1)",
     "output_type": "error",
     "traceback": [
      "\u001b[0;31m---------------------------------------------------------------------------\u001b[0m",
      "\u001b[0;31mValueError\u001b[0m                                Traceback (most recent call last)",
      "\u001b[0;32m<ipython-input-184-7314a1e636c1>\u001b[0m in \u001b[0;36m<module>\u001b[0;34m\u001b[0m\n\u001b[0;32m----> 1\u001b[0;31m \u001b[0mtemp\u001b[0m\u001b[0;34m[\u001b[0m\u001b[0;34m'date'\u001b[0m\u001b[0;34m]\u001b[0m \u001b[0;34m=\u001b[0m \u001b[0mforecastGEFS2\u001b[0m\u001b[0;34m.\u001b[0m\u001b[0mindex\u001b[0m\u001b[0;34m\u001b[0m\u001b[0;34m\u001b[0m\u001b[0m\n\u001b[0m",
      "\u001b[0;32m~/anaconda3/envs/autogis/lib/python3.8/site-packages/pandas/core/frame.py\u001b[0m in \u001b[0;36m__setitem__\u001b[0;34m(self, key, value)\u001b[0m\n\u001b[1;32m   3038\u001b[0m         \u001b[0;32melse\u001b[0m\u001b[0;34m:\u001b[0m\u001b[0;34m\u001b[0m\u001b[0;34m\u001b[0m\u001b[0m\n\u001b[1;32m   3039\u001b[0m             \u001b[0;31m# set column\u001b[0m\u001b[0;34m\u001b[0m\u001b[0;34m\u001b[0m\u001b[0;34m\u001b[0m\u001b[0m\n\u001b[0;32m-> 3040\u001b[0;31m             \u001b[0mself\u001b[0m\u001b[0;34m.\u001b[0m\u001b[0m_set_item\u001b[0m\u001b[0;34m(\u001b[0m\u001b[0mkey\u001b[0m\u001b[0;34m,\u001b[0m \u001b[0mvalue\u001b[0m\u001b[0;34m)\u001b[0m\u001b[0;34m\u001b[0m\u001b[0;34m\u001b[0m\u001b[0m\n\u001b[0m\u001b[1;32m   3041\u001b[0m \u001b[0;34m\u001b[0m\u001b[0m\n\u001b[1;32m   3042\u001b[0m     \u001b[0;32mdef\u001b[0m \u001b[0m_setitem_slice\u001b[0m\u001b[0;34m(\u001b[0m\u001b[0mself\u001b[0m\u001b[0;34m,\u001b[0m \u001b[0mkey\u001b[0m\u001b[0;34m:\u001b[0m \u001b[0mslice\u001b[0m\u001b[0;34m,\u001b[0m \u001b[0mvalue\u001b[0m\u001b[0;34m)\u001b[0m\u001b[0;34m:\u001b[0m\u001b[0;34m\u001b[0m\u001b[0;34m\u001b[0m\u001b[0m\n",
      "\u001b[0;32m~/anaconda3/envs/autogis/lib/python3.8/site-packages/pandas/core/frame.py\u001b[0m in \u001b[0;36m_set_item\u001b[0;34m(self, key, value)\u001b[0m\n\u001b[1;32m   3114\u001b[0m         \"\"\"\n\u001b[1;32m   3115\u001b[0m         \u001b[0mself\u001b[0m\u001b[0;34m.\u001b[0m\u001b[0m_ensure_valid_index\u001b[0m\u001b[0;34m(\u001b[0m\u001b[0mvalue\u001b[0m\u001b[0;34m)\u001b[0m\u001b[0;34m\u001b[0m\u001b[0;34m\u001b[0m\u001b[0m\n\u001b[0;32m-> 3116\u001b[0;31m         \u001b[0mvalue\u001b[0m \u001b[0;34m=\u001b[0m \u001b[0mself\u001b[0m\u001b[0;34m.\u001b[0m\u001b[0m_sanitize_column\u001b[0m\u001b[0;34m(\u001b[0m\u001b[0mkey\u001b[0m\u001b[0;34m,\u001b[0m \u001b[0mvalue\u001b[0m\u001b[0;34m)\u001b[0m\u001b[0;34m\u001b[0m\u001b[0;34m\u001b[0m\u001b[0m\n\u001b[0m\u001b[1;32m   3117\u001b[0m         \u001b[0mNDFrame\u001b[0m\u001b[0;34m.\u001b[0m\u001b[0m_set_item\u001b[0m\u001b[0;34m(\u001b[0m\u001b[0mself\u001b[0m\u001b[0;34m,\u001b[0m \u001b[0mkey\u001b[0m\u001b[0;34m,\u001b[0m \u001b[0mvalue\u001b[0m\u001b[0;34m)\u001b[0m\u001b[0;34m\u001b[0m\u001b[0;34m\u001b[0m\u001b[0m\n\u001b[1;32m   3118\u001b[0m \u001b[0;34m\u001b[0m\u001b[0m\n",
      "\u001b[0;32m~/anaconda3/envs/autogis/lib/python3.8/site-packages/pandas/core/frame.py\u001b[0m in \u001b[0;36m_sanitize_column\u001b[0;34m(self, key, value, broadcast)\u001b[0m\n\u001b[1;32m   3761\u001b[0m \u001b[0;34m\u001b[0m\u001b[0m\n\u001b[1;32m   3762\u001b[0m             \u001b[0;31m# turn me into an ndarray\u001b[0m\u001b[0;34m\u001b[0m\u001b[0;34m\u001b[0m\u001b[0;34m\u001b[0m\u001b[0m\n\u001b[0;32m-> 3763\u001b[0;31m             \u001b[0mvalue\u001b[0m \u001b[0;34m=\u001b[0m \u001b[0msanitize_index\u001b[0m\u001b[0;34m(\u001b[0m\u001b[0mvalue\u001b[0m\u001b[0;34m,\u001b[0m \u001b[0mself\u001b[0m\u001b[0;34m.\u001b[0m\u001b[0mindex\u001b[0m\u001b[0;34m)\u001b[0m\u001b[0;34m\u001b[0m\u001b[0;34m\u001b[0m\u001b[0m\n\u001b[0m\u001b[1;32m   3764\u001b[0m             \u001b[0;32mif\u001b[0m \u001b[0;32mnot\u001b[0m \u001b[0misinstance\u001b[0m\u001b[0;34m(\u001b[0m\u001b[0mvalue\u001b[0m\u001b[0;34m,\u001b[0m \u001b[0;34m(\u001b[0m\u001b[0mnp\u001b[0m\u001b[0;34m.\u001b[0m\u001b[0mndarray\u001b[0m\u001b[0;34m,\u001b[0m \u001b[0mIndex\u001b[0m\u001b[0;34m)\u001b[0m\u001b[0;34m)\u001b[0m\u001b[0;34m:\u001b[0m\u001b[0;34m\u001b[0m\u001b[0;34m\u001b[0m\u001b[0m\n\u001b[1;32m   3765\u001b[0m                 \u001b[0;32mif\u001b[0m \u001b[0misinstance\u001b[0m\u001b[0;34m(\u001b[0m\u001b[0mvalue\u001b[0m\u001b[0;34m,\u001b[0m \u001b[0mlist\u001b[0m\u001b[0;34m)\u001b[0m \u001b[0;32mand\u001b[0m \u001b[0mlen\u001b[0m\u001b[0;34m(\u001b[0m\u001b[0mvalue\u001b[0m\u001b[0;34m)\u001b[0m \u001b[0;34m>\u001b[0m \u001b[0;36m0\u001b[0m\u001b[0;34m:\u001b[0m\u001b[0;34m\u001b[0m\u001b[0;34m\u001b[0m\u001b[0m\n",
      "\u001b[0;32m~/anaconda3/envs/autogis/lib/python3.8/site-packages/pandas/core/internals/construction.py\u001b[0m in \u001b[0;36msanitize_index\u001b[0;34m(data, index)\u001b[0m\n\u001b[1;32m    745\u001b[0m     \"\"\"\n\u001b[1;32m    746\u001b[0m     \u001b[0;32mif\u001b[0m \u001b[0mlen\u001b[0m\u001b[0;34m(\u001b[0m\u001b[0mdata\u001b[0m\u001b[0;34m)\u001b[0m \u001b[0;34m!=\u001b[0m \u001b[0mlen\u001b[0m\u001b[0;34m(\u001b[0m\u001b[0mindex\u001b[0m\u001b[0;34m)\u001b[0m\u001b[0;34m:\u001b[0m\u001b[0;34m\u001b[0m\u001b[0;34m\u001b[0m\u001b[0m\n\u001b[0;32m--> 747\u001b[0;31m         raise ValueError(\n\u001b[0m\u001b[1;32m    748\u001b[0m             \u001b[0;34m\"Length of values \"\u001b[0m\u001b[0;34m\u001b[0m\u001b[0;34m\u001b[0m\u001b[0m\n\u001b[1;32m    749\u001b[0m             \u001b[0;34mf\"({len(data)}) \"\u001b[0m\u001b[0;34m\u001b[0m\u001b[0;34m\u001b[0m\u001b[0m\n",
      "\u001b[0;31mValueError\u001b[0m: Length of values (30) does not match length of index (1)"
     ]
    }
   ],
   "source": [
    "temp['date'] = forecastGEFS2.index"
   ]
  },
  {
   "cell_type": "code",
   "execution_count": 186,
   "metadata": {},
   "outputs": [
    {
     "data": {
      "text/html": [
       "<div>\n",
       "<style scoped>\n",
       "    .dataframe tbody tr th:only-of-type {\n",
       "        vertical-align: middle;\n",
       "    }\n",
       "\n",
       "    .dataframe tbody tr th {\n",
       "        vertical-align: top;\n",
       "    }\n",
       "\n",
       "    .dataframe thead th {\n",
       "        text-align: right;\n",
       "    }\n",
       "</style>\n",
       "<table border=\"1\" class=\"dataframe\">\n",
       "  <thead>\n",
       "    <tr style=\"text-align: right;\">\n",
       "      <th></th>\n",
       "      <th>mean</th>\n",
       "      <th>std</th>\n",
       "      <th>median</th>\n",
       "    </tr>\n",
       "  </thead>\n",
       "  <tbody>\n",
       "    <tr>\n",
       "      <th>0</th>\n",
       "      <td>6.015992</td>\n",
       "      <td>14.298054</td>\n",
       "      <td>0.209624</td>\n",
       "    </tr>\n",
       "  </tbody>\n",
       "</table>\n",
       "</div>"
      ],
      "text/plain": [
       "       mean        std    median\n",
       "0  6.015992  14.298054  0.209624"
      ]
     },
     "execution_count": 186,
     "metadata": {},
     "output_type": "execute_result"
    }
   ],
   "source": [
    "temp"
   ]
  },
  {
   "cell_type": "code",
   "execution_count": 121,
   "metadata": {},
   "outputs": [],
   "source": [
    "temp = temp.set_index(\"date\")"
   ]
  },
  {
   "cell_type": "markdown",
   "metadata": {},
   "source": [
    "## PLOT"
   ]
  },
  {
   "cell_type": "code",
   "execution_count": 136,
   "metadata": {},
   "outputs": [
    {
     "data": {
      "image/png": "[encoded data removed]",
      "text/plain": [
       "<Figure size 1152x576 with 1 Axes>"
      ]
     },
     "metadata": {
      "needs_background": "light"
     },
     "output_type": "display_data"
    }
   ],
   "source": [
    "fig, ax = plt.subplots( 1, 1, figsize=(16,8) )\n",
    "forecastGEFS2['mean'].plot(ax=ax)\n",
    "#ax.plot(forecastGEFS2['mean'], color='blue', linewidth=2 )\n",
    "ax.fill_between(x = forecastGEFS2.index, y1=forecastGEFS2['max'], y2=forecastGEFS2['min'], color='gray', alpha=0.5)\n",
    "ax.set_title(\"Precipitacion media y Distribución Estandard - Cuenca Rio Tercero\")\n",
    "ax.errorbar(forecastGEFS2.index, forecastGEFS2['max'], color='grey')\n",
    "ax.errorbar(forecastGEFS2.index, forecastGEFS2['min'], color='grey')\n",
    "plt.xlabel(\"Días de modelado\")\n",
    "plt.ylabel(\"Precipitación [mm]\")\n",
    "plt.tight_layout()"
   ]
  },
  {
   "cell_type": "code",
   "execution_count": 145,
   "metadata": {},
   "outputs": [
    {
     "data": {
      "image/png": "[encoded data removed]",
      "text/plain": [
       "<Figure size 1152x576 with 1 Axes>"
      ]
     },
     "metadata": {
      "needs_background": "light"
     },
     "output_type": "display_data"
    }
   ],
   "source": [
    "fig, ax = plt.subplots( 1, 1, figsize=(16,8) )\n",
    "forecastGEFS2['mean'].plot(ax=ax)\n",
    "forecastGEFS2['median'].plot(ax=ax)\n",
    "#ax.plot(forecastGEFS2['mean'], color='blue', linewidth=2 )\n",
    "ax.fill_between(x = forecastGEFS2.index, y1=forecastGEFS2['max'], y2=forecastGEFS2['min'], color='gray', alpha=0.5)\n",
    "ax.set_title(\"Precipitacion media y Distribución Estandard - Cuenca Rio Tercero\")\n",
    "ax.errorbar(forecastGEFS2.index, forecastGEFS2['max'], color='grey')\n",
    "ax.errorbar(forecastGEFS2.index, forecastGEFS2['min'], color='grey')\n",
    "plt.xlabel(\"Días de modelado\")\n",
    "plt.ylabel(\"Precipitación [mm]\")\n",
    "plt.tight_layout()"
   ]
  },
  {
   "cell_type": "code",
   "execution_count": 131,
   "metadata": {},
   "outputs": [
    {
     "data": {
      "image/png": "[encoded data removed]",
      "text/plain": [
       "<Figure size 1152x576 with 1 Axes>"
      ]
     },
     "metadata": {
      "needs_background": "light"
     },
     "output_type": "display_data"
    }
   ],
   "source": [
    "fig, ax = plt.subplots( 1, 1, figsize=(16,8) )\n",
    "temp['accum'].plot(ax=ax, linewidth=1)\n",
    "#ax.plot(forecastGEFS2['mean'], color='blue', linewidth=2 )\n",
    "ax.stem(temp.index, temp['accum'])\n",
    "ax.fill_between(x = temp.index, y1=temp['accmin'], y2=temp['accmax'], color='gray', alpha=0.5)\n",
    "ax.set_title(\"Precipitacion media acumulada y su distribución estandard - Cuenca Rio Tercero\")\n",
    "plt.xlabel(\"Días de modelado\")\n",
    "plt.ylabel(\"Precipitación [mm]\")\n",
    "plt.tight_layout()"
   ]
  },
  {
   "cell_type": "code",
   "execution_count": 167,
   "metadata": {},
   "outputs": [],
   "source": [
    "tempmed['date'] = temp['date']"
   ]
  },
  {
   "cell_type": "code",
   "execution_count": null,
   "metadata": {},
   "outputs": [],
   "source": []
  },
  {
   "cell_type": "code",
   "execution_count": 170,
   "metadata": {},
   "outputs": [
    {
     "data": {
      "image/png": "[encoded data removed]",
      "text/plain": [
       "<Figure size 1152x576 with 1 Axes>"
      ]
     },
     "metadata": {
      "needs_background": "light"
     },
     "output_type": "display_data"
    }
   ],
   "source": [
    "fig, ax = plt.subplots( 1, 1, figsize=(16,8) )\n",
    "tempmed['accummed'].plot(ax=ax, linewidth=1)\n",
    "#ax.plot(forecastGEFS2['mean'], color='blue', linewidth=2 )\n",
    "ax.stem(temp.index, tempmed['accummed'])\n",
    "# ax.fill_between(x = temp.index, y1=temp['accmin'], y2=temp['accmax'], color='gray', alpha=0.5)\n",
    "ax.set_title(\"Precipitacion mediana acumulada y su distribución - Cuenca Rio Tercero\")\n",
    "plt.xlabel(\"Días de modelado\")\n",
    "plt.ylabel(\"Precipitación [mm]\")\n",
    "plt.tight_layout()"
   ]
  },
  {
   "cell_type": "code",
   "execution_count": null,
   "metadata": {},
   "outputs": [],
   "source": []
  },
  {
   "cell_type": "code",
   "execution_count": null,
   "metadata": {},
   "outputs": [],
   "source": []
  },
  {
   "cell_type": "code",
   "execution_count": null,
   "metadata": {},
   "outputs": [],
   "source": []
  }
 ],
 "metadata": {
  "kernelspec": {
   "display_name": "Python 3",
   "language": "python",
   "name": "python3"
  },
  "language_info": {
   "codemirror_mode": {
    "name": "ipython",
    "version": 3
   },
   "file_extension": ".py",
   "mimetype": "text/x-python",
   "name": "python",
   "nbconvert_exporter": "python",
   "pygments_lexer": "ipython3",
   "version": "3.8.5"
  }
 },
 "nbformat": 4,
 "nbformat_minor": 4
}
