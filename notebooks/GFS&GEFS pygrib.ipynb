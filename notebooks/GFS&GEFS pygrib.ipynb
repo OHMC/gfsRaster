{
 "cells": [
  {
   "cell_type": "code",
   "execution_count": 1,
   "metadata": {},
   "outputs": [],
   "source": [
    "import pygrib\n",
    "import numpy as np"
   ]
  },
  {
   "cell_type": "code",
   "execution_count": 13,
   "metadata": {},
   "outputs": [],
   "source": [
    "grbs = pygrib.open('../data/GFS/GFS_2021021900+003.grib2')"
   ]
  },
  {
   "cell_type": "code",
   "execution_count": 11,
   "metadata": {},
   "outputs": [],
   "source": [
    "grbs_ge = pygrib.open('../data/GEFS/GEFS_01_2021022300+480.0p50.grib2')"
   ]
  },
  {
   "cell_type": "code",
   "execution_count": null,
   "metadata": {},
   "outputs": [],
   "source": [
    "grbs_ge."
   ]
  },
  {
   "cell_type": "code",
   "execution_count": 14,
   "metadata": {},
   "outputs": [
    {
     "name": "stdout",
     "output_type": "stream",
     "text": [
      "1:U component of wind:m s**-1 (instant):regular_ll:unknown:level 0:fcst time 3 hrs:from 202102190000\n",
      "2:V component of wind:m s**-1 (instant):regular_ll:unknown:level 0:fcst time 3 hrs:from 202102190000\n",
      "3:Temperature:K (instant):regular_ll:isobaricInPa:level 40 Pa:fcst time 3 hrs:from 202102190000\n",
      "4:Temperature:K (instant):regular_ll:isobaricInhPa:level 100 Pa:fcst time 3 hrs:from 202102190000\n",
      "5:Relative humidity:% (instant):regular_ll:isobaricInhPa:level 100 Pa:fcst time 3 hrs:from 202102190000\n",
      "6:U component of wind:m s**-1 (instant):regular_ll:isobaricInhPa:level 100 Pa:fcst time 3 hrs:from 202102190000\n",
      "7:V component of wind:m s**-1 (instant):regular_ll:isobaricInhPa:level 100 Pa:fcst time 3 hrs:from 202102190000\n",
      "8:Temperature:K (instant):regular_ll:isobaricInhPa:level 200 Pa:fcst time 3 hrs:from 202102190000\n",
      "9:Relative humidity:% (instant):regular_ll:isobaricInhPa:level 200 Pa:fcst time 3 hrs:from 202102190000\n",
      "10:U component of wind:m s**-1 (instant):regular_ll:isobaricInhPa:level 200 Pa:fcst time 3 hrs:from 202102190000\n",
      "11:V component of wind:m s**-1 (instant):regular_ll:isobaricInhPa:level 200 Pa:fcst time 3 hrs:from 202102190000\n",
      "12:Temperature:K (instant):regular_ll:isobaricInhPa:level 300 Pa:fcst time 3 hrs:from 202102190000\n",
      "13:Relative humidity:% (instant):regular_ll:isobaricInhPa:level 300 Pa:fcst time 3 hrs:from 202102190000\n",
      "14:U component of wind:m s**-1 (instant):regular_ll:isobaricInhPa:level 300 Pa:fcst time 3 hrs:from 202102190000\n",
      "15:V component of wind:m s**-1 (instant):regular_ll:isobaricInhPa:level 300 Pa:fcst time 3 hrs:from 202102190000\n",
      "16:Temperature:K (instant):regular_ll:isobaricInhPa:level 500 Pa:fcst time 3 hrs:from 202102190000\n",
      "17:Relative humidity:% (instant):regular_ll:isobaricInhPa:level 500 Pa:fcst time 3 hrs:from 202102190000\n",
      "18:U component of wind:m s**-1 (instant):regular_ll:isobaricInhPa:level 500 Pa:fcst time 3 hrs:from 202102190000\n",
      "19:V component of wind:m s**-1 (instant):regular_ll:isobaricInhPa:level 500 Pa:fcst time 3 hrs:from 202102190000\n",
      "20:Temperature:K (instant):regular_ll:isobaricInhPa:level 700 Pa:fcst time 3 hrs:from 202102190000\n",
      "21:Relative humidity:% (instant):regular_ll:isobaricInhPa:level 700 Pa:fcst time 3 hrs:from 202102190000\n",
      "22:U component of wind:m s**-1 (instant):regular_ll:isobaricInhPa:level 700 Pa:fcst time 3 hrs:from 202102190000\n",
      "23:V component of wind:m s**-1 (instant):regular_ll:isobaricInhPa:level 700 Pa:fcst time 3 hrs:from 202102190000\n",
      "24:Temperature:K (instant):regular_ll:isobaricInhPa:level 1000 Pa:fcst time 3 hrs:from 202102190000\n",
      "25:Relative humidity:% (instant):regular_ll:isobaricInhPa:level 1000 Pa:fcst time 3 hrs:from 202102190000\n",
      "26:U component of wind:m s**-1 (instant):regular_ll:isobaricInhPa:level 1000 Pa:fcst time 3 hrs:from 202102190000\n",
      "27:V component of wind:m s**-1 (instant):regular_ll:isobaricInhPa:level 1000 Pa:fcst time 3 hrs:from 202102190000\n",
      "28:Temperature:K (instant):regular_ll:isobaricInhPa:level 1500 Pa:fcst time 3 hrs:from 202102190000\n",
      "29:Temperature:K (instant):regular_ll:isobaricInhPa:level 2000 Pa:fcst time 3 hrs:from 202102190000\n",
      "30:Relative humidity:% (instant):regular_ll:isobaricInhPa:level 2000 Pa:fcst time 3 hrs:from 202102190000\n",
      "31:U component of wind:m s**-1 (instant):regular_ll:isobaricInhPa:level 2000 Pa:fcst time 3 hrs:from 202102190000\n",
      "32:V component of wind:m s**-1 (instant):regular_ll:isobaricInhPa:level 2000 Pa:fcst time 3 hrs:from 202102190000\n",
      "33:Temperature:K (instant):regular_ll:isobaricInhPa:level 3000 Pa:fcst time 3 hrs:from 202102190000\n",
      "34:Relative humidity:% (instant):regular_ll:isobaricInhPa:level 3000 Pa:fcst time 3 hrs:from 202102190000\n",
      "35:U component of wind:m s**-1 (instant):regular_ll:isobaricInhPa:level 3000 Pa:fcst time 3 hrs:from 202102190000\n",
      "36:V component of wind:m s**-1 (instant):regular_ll:isobaricInhPa:level 3000 Pa:fcst time 3 hrs:from 202102190000\n",
      "37:Temperature:K (instant):regular_ll:isobaricInhPa:level 4000 Pa:fcst time 3 hrs:from 202102190000\n",
      "38:Temperature:K (instant):regular_ll:isobaricInhPa:level 5000 Pa:fcst time 3 hrs:from 202102190000\n",
      "39:Relative humidity:% (instant):regular_ll:isobaricInhPa:level 5000 Pa:fcst time 3 hrs:from 202102190000\n",
      "40:U component of wind:m s**-1 (instant):regular_ll:isobaricInhPa:level 5000 Pa:fcst time 3 hrs:from 202102190000\n",
      "41:V component of wind:m s**-1 (instant):regular_ll:isobaricInhPa:level 5000 Pa:fcst time 3 hrs:from 202102190000\n",
      "42:Temperature:K (instant):regular_ll:isobaricInhPa:level 7000 Pa:fcst time 3 hrs:from 202102190000\n",
      "43:Relative humidity:% (instant):regular_ll:isobaricInhPa:level 7000 Pa:fcst time 3 hrs:from 202102190000\n",
      "44:U component of wind:m s**-1 (instant):regular_ll:isobaricInhPa:level 7000 Pa:fcst time 3 hrs:from 202102190000\n",
      "45:V component of wind:m s**-1 (instant):regular_ll:isobaricInhPa:level 7000 Pa:fcst time 3 hrs:from 202102190000\n",
      "46:Temperature:K (instant):regular_ll:isobaricInhPa:level 10000 Pa:fcst time 3 hrs:from 202102190000\n",
      "47:Relative humidity:% (instant):regular_ll:isobaricInhPa:level 10000 Pa:fcst time 3 hrs:from 202102190000\n",
      "48:U component of wind:m s**-1 (instant):regular_ll:isobaricInhPa:level 10000 Pa:fcst time 3 hrs:from 202102190000\n",
      "49:V component of wind:m s**-1 (instant):regular_ll:isobaricInhPa:level 10000 Pa:fcst time 3 hrs:from 202102190000\n",
      "50:Temperature:K (instant):regular_ll:isobaricInhPa:level 15000 Pa:fcst time 3 hrs:from 202102190000\n",
      "51:Relative humidity:% (instant):regular_ll:isobaricInhPa:level 15000 Pa:fcst time 3 hrs:from 202102190000\n",
      "52:U component of wind:m s**-1 (instant):regular_ll:isobaricInhPa:level 15000 Pa:fcst time 3 hrs:from 202102190000\n",
      "53:V component of wind:m s**-1 (instant):regular_ll:isobaricInhPa:level 15000 Pa:fcst time 3 hrs:from 202102190000\n",
      "54:Temperature:K (instant):regular_ll:isobaricInhPa:level 20000 Pa:fcst time 3 hrs:from 202102190000\n",
      "55:Relative humidity:% (instant):regular_ll:isobaricInhPa:level 20000 Pa:fcst time 3 hrs:from 202102190000\n",
      "56:U component of wind:m s**-1 (instant):regular_ll:isobaricInhPa:level 20000 Pa:fcst time 3 hrs:from 202102190000\n",
      "57:V component of wind:m s**-1 (instant):regular_ll:isobaricInhPa:level 20000 Pa:fcst time 3 hrs:from 202102190000\n",
      "58:Temperature:K (instant):regular_ll:isobaricInhPa:level 25000 Pa:fcst time 3 hrs:from 202102190000\n",
      "59:Relative humidity:% (instant):regular_ll:isobaricInhPa:level 25000 Pa:fcst time 3 hrs:from 202102190000\n",
      "60:U component of wind:m s**-1 (instant):regular_ll:isobaricInhPa:level 25000 Pa:fcst time 3 hrs:from 202102190000\n",
      "61:V component of wind:m s**-1 (instant):regular_ll:isobaricInhPa:level 25000 Pa:fcst time 3 hrs:from 202102190000\n",
      "62:Temperature:K (instant):regular_ll:isobaricInhPa:level 30000 Pa:fcst time 3 hrs:from 202102190000\n",
      "63:Relative humidity:% (instant):regular_ll:isobaricInhPa:level 30000 Pa:fcst time 3 hrs:from 202102190000\n",
      "64:U component of wind:m s**-1 (instant):regular_ll:isobaricInhPa:level 30000 Pa:fcst time 3 hrs:from 202102190000\n",
      "65:V component of wind:m s**-1 (instant):regular_ll:isobaricInhPa:level 30000 Pa:fcst time 3 hrs:from 202102190000\n",
      "66:Temperature:K (instant):regular_ll:isobaricInhPa:level 35000 Pa:fcst time 3 hrs:from 202102190000\n",
      "67:Relative humidity:% (instant):regular_ll:isobaricInhPa:level 35000 Pa:fcst time 3 hrs:from 202102190000\n",
      "68:U component of wind:m s**-1 (instant):regular_ll:isobaricInhPa:level 35000 Pa:fcst time 3 hrs:from 202102190000\n",
      "69:V component of wind:m s**-1 (instant):regular_ll:isobaricInhPa:level 35000 Pa:fcst time 3 hrs:from 202102190000\n",
      "70:Temperature:K (instant):regular_ll:isobaricInhPa:level 40000 Pa:fcst time 3 hrs:from 202102190000\n",
      "71:Relative humidity:% (instant):regular_ll:isobaricInhPa:level 40000 Pa:fcst time 3 hrs:from 202102190000\n",
      "72:U component of wind:m s**-1 (instant):regular_ll:isobaricInhPa:level 40000 Pa:fcst time 3 hrs:from 202102190000\n",
      "73:V component of wind:m s**-1 (instant):regular_ll:isobaricInhPa:level 40000 Pa:fcst time 3 hrs:from 202102190000\n",
      "74:Temperature:K (instant):regular_ll:isobaricInhPa:level 45000 Pa:fcst time 3 hrs:from 202102190000\n",
      "75:Relative humidity:% (instant):regular_ll:isobaricInhPa:level 45000 Pa:fcst time 3 hrs:from 202102190000\n",
      "76:U component of wind:m s**-1 (instant):regular_ll:isobaricInhPa:level 45000 Pa:fcst time 3 hrs:from 202102190000\n",
      "77:V component of wind:m s**-1 (instant):regular_ll:isobaricInhPa:level 45000 Pa:fcst time 3 hrs:from 202102190000\n",
      "78:Temperature:K (instant):regular_ll:isobaricInhPa:level 50000 Pa:fcst time 3 hrs:from 202102190000\n",
      "79:Relative humidity:% (instant):regular_ll:isobaricInhPa:level 50000 Pa:fcst time 3 hrs:from 202102190000\n",
      "80:U component of wind:m s**-1 (instant):regular_ll:isobaricInhPa:level 50000 Pa:fcst time 3 hrs:from 202102190000\n",
      "81:V component of wind:m s**-1 (instant):regular_ll:isobaricInhPa:level 50000 Pa:fcst time 3 hrs:from 202102190000\n",
      "82:Temperature:K (instant):regular_ll:isobaricInhPa:level 55000 Pa:fcst time 3 hrs:from 202102190000\n",
      "83:Relative humidity:% (instant):regular_ll:isobaricInhPa:level 55000 Pa:fcst time 3 hrs:from 202102190000\n",
      "84:U component of wind:m s**-1 (instant):regular_ll:isobaricInhPa:level 55000 Pa:fcst time 3 hrs:from 202102190000\n",
      "85:V component of wind:m s**-1 (instant):regular_ll:isobaricInhPa:level 55000 Pa:fcst time 3 hrs:from 202102190000\n",
      "86:Temperature:K (instant):regular_ll:isobaricInhPa:level 60000 Pa:fcst time 3 hrs:from 202102190000\n",
      "87:Relative humidity:% (instant):regular_ll:isobaricInhPa:level 60000 Pa:fcst time 3 hrs:from 202102190000\n",
      "88:U component of wind:m s**-1 (instant):regular_ll:isobaricInhPa:level 60000 Pa:fcst time 3 hrs:from 202102190000\n",
      "89:V component of wind:m s**-1 (instant):regular_ll:isobaricInhPa:level 60000 Pa:fcst time 3 hrs:from 202102190000\n",
      "90:Temperature:K (instant):regular_ll:isobaricInhPa:level 65000 Pa:fcst time 3 hrs:from 202102190000\n",
      "91:Relative humidity:% (instant):regular_ll:isobaricInhPa:level 65000 Pa:fcst time 3 hrs:from 202102190000\n",
      "92:U component of wind:m s**-1 (instant):regular_ll:isobaricInhPa:level 65000 Pa:fcst time 3 hrs:from 202102190000\n",
      "93:V component of wind:m s**-1 (instant):regular_ll:isobaricInhPa:level 65000 Pa:fcst time 3 hrs:from 202102190000\n",
      "94:Temperature:K (instant):regular_ll:isobaricInhPa:level 70000 Pa:fcst time 3 hrs:from 202102190000\n",
      "95:Relative humidity:% (instant):regular_ll:isobaricInhPa:level 70000 Pa:fcst time 3 hrs:from 202102190000\n",
      "96:U component of wind:m s**-1 (instant):regular_ll:isobaricInhPa:level 70000 Pa:fcst time 3 hrs:from 202102190000\n",
      "97:V component of wind:m s**-1 (instant):regular_ll:isobaricInhPa:level 70000 Pa:fcst time 3 hrs:from 202102190000\n",
      "98:Temperature:K (instant):regular_ll:isobaricInhPa:level 75000 Pa:fcst time 3 hrs:from 202102190000\n",
      "99:Relative humidity:% (instant):regular_ll:isobaricInhPa:level 75000 Pa:fcst time 3 hrs:from 202102190000\n",
      "100:U component of wind:m s**-1 (instant):regular_ll:isobaricInhPa:level 75000 Pa:fcst time 3 hrs:from 202102190000\n",
      "101:V component of wind:m s**-1 (instant):regular_ll:isobaricInhPa:level 75000 Pa:fcst time 3 hrs:from 202102190000\n",
      "102:Temperature:K (instant):regular_ll:isobaricInhPa:level 80000 Pa:fcst time 3 hrs:from 202102190000\n",
      "103:Relative humidity:% (instant):regular_ll:isobaricInhPa:level 80000 Pa:fcst time 3 hrs:from 202102190000\n",
      "104:U component of wind:m s**-1 (instant):regular_ll:isobaricInhPa:level 80000 Pa:fcst time 3 hrs:from 202102190000\n",
      "105:V component of wind:m s**-1 (instant):regular_ll:isobaricInhPa:level 80000 Pa:fcst time 3 hrs:from 202102190000\n",
      "106:Temperature:K (instant):regular_ll:isobaricInhPa:level 85000 Pa:fcst time 3 hrs:from 202102190000\n",
      "107:Relative humidity:% (instant):regular_ll:isobaricInhPa:level 85000 Pa:fcst time 3 hrs:from 202102190000\n",
      "108:U component of wind:m s**-1 (instant):regular_ll:isobaricInhPa:level 85000 Pa:fcst time 3 hrs:from 202102190000\n",
      "109:V component of wind:m s**-1 (instant):regular_ll:isobaricInhPa:level 85000 Pa:fcst time 3 hrs:from 202102190000\n",
      "110:Temperature:K (instant):regular_ll:isobaricInhPa:level 90000 Pa:fcst time 3 hrs:from 202102190000\n",
      "111:Relative humidity:% (instant):regular_ll:isobaricInhPa:level 90000 Pa:fcst time 3 hrs:from 202102190000\n",
      "112:U component of wind:m s**-1 (instant):regular_ll:isobaricInhPa:level 90000 Pa:fcst time 3 hrs:from 202102190000\n",
      "113:V component of wind:m s**-1 (instant):regular_ll:isobaricInhPa:level 90000 Pa:fcst time 3 hrs:from 202102190000\n",
      "114:Temperature:K (instant):regular_ll:isobaricInhPa:level 92500 Pa:fcst time 3 hrs:from 202102190000\n",
      "115:Relative humidity:% (instant):regular_ll:isobaricInhPa:level 92500 Pa:fcst time 3 hrs:from 202102190000\n",
      "116:U component of wind:m s**-1 (instant):regular_ll:isobaricInhPa:level 92500 Pa:fcst time 3 hrs:from 202102190000\n",
      "117:V component of wind:m s**-1 (instant):regular_ll:isobaricInhPa:level 92500 Pa:fcst time 3 hrs:from 202102190000\n",
      "118:Temperature:K (instant):regular_ll:isobaricInhPa:level 95000 Pa:fcst time 3 hrs:from 202102190000\n",
      "119:Relative humidity:% (instant):regular_ll:isobaricInhPa:level 95000 Pa:fcst time 3 hrs:from 202102190000\n",
      "120:U component of wind:m s**-1 (instant):regular_ll:isobaricInhPa:level 95000 Pa:fcst time 3 hrs:from 202102190000\n",
      "121:V component of wind:m s**-1 (instant):regular_ll:isobaricInhPa:level 95000 Pa:fcst time 3 hrs:from 202102190000\n",
      "122:Temperature:K (instant):regular_ll:isobaricInhPa:level 97500 Pa:fcst time 3 hrs:from 202102190000\n",
      "123:Relative humidity:% (instant):regular_ll:isobaricInhPa:level 97500 Pa:fcst time 3 hrs:from 202102190000\n",
      "124:U component of wind:m s**-1 (instant):regular_ll:isobaricInhPa:level 97500 Pa:fcst time 3 hrs:from 202102190000\n",
      "125:V component of wind:m s**-1 (instant):regular_ll:isobaricInhPa:level 97500 Pa:fcst time 3 hrs:from 202102190000\n",
      "126:Temperature:K (instant):regular_ll:isobaricInhPa:level 100000 Pa:fcst time 3 hrs:from 202102190000\n",
      "127:Relative humidity:% (instant):regular_ll:isobaricInhPa:level 100000 Pa:fcst time 3 hrs:from 202102190000\n",
      "128:U component of wind:m s**-1 (instant):regular_ll:isobaricInhPa:level 100000 Pa:fcst time 3 hrs:from 202102190000\n",
      "129:V component of wind:m s**-1 (instant):regular_ll:isobaricInhPa:level 100000 Pa:fcst time 3 hrs:from 202102190000\n",
      "130:Surface pressure:Pa (instant):regular_ll:surface:level 0:fcst time 3 hrs:from 202102190000\n",
      "131:Temperature:K (instant):regular_ll:surface:level 0:fcst time 3 hrs:from 202102190000\n",
      "132:Soil Temperature:K (instant):regular_ll:depthBelowLandLayer:levels 0.0-0.1 m:fcst time 3 hrs:from 202102190000\n",
      "133:Volumetric soil moisture content:Proportion (instant):regular_ll:depthBelowLandLayer:levels 0.0-0.1 m:fcst time 3 hrs:from 202102190000\n",
      "134:Soil Temperature:K (instant):regular_ll:depthBelowLandLayer:levels 0.1-0.4 m:fcst time 3 hrs:from 202102190000\n",
      "135:Volumetric soil moisture content:Proportion (instant):regular_ll:depthBelowLandLayer:levels 0.1-0.4 m:fcst time 3 hrs:from 202102190000\n",
      "136:Soil Temperature:K (instant):regular_ll:depthBelowLandLayer:levels 0.4-1.0 m:fcst time 3 hrs:from 202102190000\n",
      "137:Volumetric soil moisture content:Proportion (instant):regular_ll:depthBelowLandLayer:levels 0.4-1.0 m:fcst time 3 hrs:from 202102190000\n",
      "138:Soil Temperature:K (instant):regular_ll:depthBelowLandLayer:levels 1.0-2.0 m:fcst time 3 hrs:from 202102190000\n",
      "139:Volumetric soil moisture content:Proportion (instant):regular_ll:depthBelowLandLayer:levels 1.0-2.0 m:fcst time 3 hrs:from 202102190000\n",
      "140:Water equivalent of accumulated snow depth (deprecated):kg m**-2 (instant):regular_ll:surface:level 0:fcst time 3 hrs:from 202102190000\n",
      "141:2 metre temperature:K (instant):regular_ll:heightAboveGround:level 2 m:fcst time 3 hrs:from 202102190000\n",
      "142:2 metre relative humidity:% (instant):regular_ll:heightAboveGround:level 2 m:fcst time 3 hrs:from 202102190000\n",
      "143:10 metre U wind component:m s**-1 (instant):regular_ll:heightAboveGround:level 10 m:fcst time 3 hrs:from 202102190000\n",
      "144:10 metre V wind component:m s**-1 (instant):regular_ll:heightAboveGround:level 10 m:fcst time 3 hrs:from 202102190000\n",
      "145:Total Precipitation:kg m**-2 (accum):regular_ll:surface:level 0:fcst time 0-3 hrs (accum):from 202102190000\n",
      "146:Total Precipitation:kg m**-2 (accum):regular_ll:surface:level 0:fcst time 0-3 hrs (accum):from 202102190000\n",
      "147:Categorical rain:(Code table 4.222) (instant):regular_ll:surface:level 0:fcst time 3 hrs:from 202102190000\n",
      "148:Categorical rain:(Code table 4.222) (avg):regular_ll:surface:level 0:fcst time 0-3 hrs (avg):from 202102190000\n",
      "149:Relative humidity:% (instant):regular_ll:unknown:level 0 considered as a single layer:fcst time 3 hrs:from 202102190000\n",
      "150:Pressure:Pa (instant):regular_ll:unknown:level 0:fcst time 3 hrs:from 202102190000\n",
      "151:Pressure:Pa (avg):regular_ll:unknown:level 0:fcst time 0-3 hrs (avg):from 202102190000\n",
      "152:Pressure:Pa (avg):regular_ll:unknown:level 0:fcst time 0-3 hrs (avg):from 202102190000\n",
      "153:Pressure:Pa (avg):regular_ll:unknown:level 0:fcst time 0-3 hrs (avg):from 202102190000\n",
      "154:Pressure:Pa (instant):regular_ll:unknown:level 0:fcst time 3 hrs:from 202102190000\n",
      "155:Pressure:Pa (avg):regular_ll:unknown:level 0:fcst time 0-3 hrs (avg):from 202102190000\n",
      "156:Pressure:Pa (avg):regular_ll:unknown:level 0:fcst time 0-3 hrs (avg):from 202102190000\n",
      "157:Pressure:Pa (avg):regular_ll:unknown:level 0:fcst time 0-3 hrs (avg):from 202102190000\n"
     ]
    },
    {
     "name": "stdout",
     "output_type": "stream",
     "text": [
      "158:Temperature:K (avg):regular_ll:unknown:level 0:fcst time 0-3 hrs (avg):from 202102190000\n",
      "159:Temperature:K (avg):regular_ll:unknown:level 0:fcst time 0-3 hrs (avg):from 202102190000\n",
      "160:Temperature:K (avg):regular_ll:unknown:level 0:fcst time 0-3 hrs (avg):from 202102190000\n",
      "161:Pressure:Pa (instant):regular_ll:tropopause:level 0:fcst time 3 hrs:from 202102190000\n",
      "162:Temperature:K (instant):regular_ll:tropopause:level 0:fcst time 3 hrs:from 202102190000\n",
      "163:U component of wind:m s**-1 (instant):regular_ll:tropopause:level 0:fcst time 3 hrs:from 202102190000\n",
      "164:V component of wind:m s**-1 (instant):regular_ll:tropopause:level 0:fcst time 3 hrs:from 202102190000\n",
      "165:Pressure:Pa (instant):regular_ll:maxWind:level 0:fcst time 3 hrs:from 202102190000\n",
      "166:U component of wind:m s**-1 (instant):regular_ll:maxWind:level 0:fcst time 3 hrs:from 202102190000\n",
      "167:V component of wind:m s**-1 (instant):regular_ll:maxWind:level 0:fcst time 3 hrs:from 202102190000\n",
      "168:Temperature:K (instant):regular_ll:maxWind:level 0:fcst time 3 hrs:from 202102190000\n",
      "169:U component of wind:m s**-1 (instant):regular_ll:heightAboveGround:level 20 m:fcst time 3 hrs:from 202102190000\n",
      "170:V component of wind:m s**-1 (instant):regular_ll:heightAboveGround:level 20 m:fcst time 3 hrs:from 202102190000\n",
      "171:U component of wind:m s**-1 (instant):regular_ll:heightAboveGround:level 30 m:fcst time 3 hrs:from 202102190000\n",
      "172:V component of wind:m s**-1 (instant):regular_ll:heightAboveGround:level 30 m:fcst time 3 hrs:from 202102190000\n",
      "173:U component of wind:m s**-1 (instant):regular_ll:heightAboveGround:level 40 m:fcst time 3 hrs:from 202102190000\n",
      "174:V component of wind:m s**-1 (instant):regular_ll:heightAboveGround:level 40 m:fcst time 3 hrs:from 202102190000\n",
      "175:U component of wind:m s**-1 (instant):regular_ll:heightAboveGround:level 50 m:fcst time 3 hrs:from 202102190000\n",
      "176:V component of wind:m s**-1 (instant):regular_ll:heightAboveGround:level 50 m:fcst time 3 hrs:from 202102190000\n",
      "177:Temperature:K (instant):regular_ll:heightAboveGround:level 80 m:fcst time 3 hrs:from 202102190000\n",
      "178:Pressure:Pa (instant):regular_ll:heightAboveGround:level 80 m:fcst time 3 hrs:from 202102190000\n",
      "179:U component of wind:m s**-1 (instant):regular_ll:heightAboveGround:level 80 m:fcst time 3 hrs:from 202102190000\n",
      "180:V component of wind:m s**-1 (instant):regular_ll:heightAboveGround:level 80 m:fcst time 3 hrs:from 202102190000\n",
      "181:Temperature:K (instant):regular_ll:heightAboveGround:level 100 m:fcst time 3 hrs:from 202102190000\n",
      "182:100 metre U wind component:m s**-1 (instant):regular_ll:heightAboveGround:level 100 m:fcst time 3 hrs:from 202102190000\n",
      "183:100 metre V wind component:m s**-1 (instant):regular_ll:heightAboveGround:level 100 m:fcst time 3 hrs:from 202102190000\n",
      "184:Temperature:K (instant):regular_ll:heightAboveSea:level 1829 m:fcst time 3 hrs:from 202102190000\n",
      "185:U component of wind:m s**-1 (instant):regular_ll:heightAboveSea:level 1829 m:fcst time 3 hrs:from 202102190000\n",
      "186:V component of wind:m s**-1 (instant):regular_ll:heightAboveSea:level 1829 m:fcst time 3 hrs:from 202102190000\n",
      "187:Temperature:K (instant):regular_ll:heightAboveSea:level 2743 m:fcst time 3 hrs:from 202102190000\n",
      "188:U component of wind:m s**-1 (instant):regular_ll:heightAboveSea:level 2743 m:fcst time 3 hrs:from 202102190000\n",
      "189:V component of wind:m s**-1 (instant):regular_ll:heightAboveSea:level 2743 m:fcst time 3 hrs:from 202102190000\n",
      "190:Temperature:K (instant):regular_ll:heightAboveSea:level 3658 m:fcst time 3 hrs:from 202102190000\n",
      "191:U component of wind:m s**-1 (instant):regular_ll:heightAboveSea:level 3658 m:fcst time 3 hrs:from 202102190000\n",
      "192:V component of wind:m s**-1 (instant):regular_ll:heightAboveSea:level 3658 m:fcst time 3 hrs:from 202102190000\n",
      "193:Relative humidity:% (instant):regular_ll:isothermZero:level 0:fcst time 3 hrs:from 202102190000\n",
      "194:Relative humidity:% (instant):regular_ll:unknown:level 0:fcst time 3 hrs:from 202102190000\n",
      "195:Temperature:K (instant):regular_ll:pressureFromGroundLayer:levels 3000-0 Pa:fcst time 3 hrs:from 202102190000\n",
      "196:Relative humidity:% (instant):regular_ll:pressureFromGroundLayer:levels 3000-0 Pa:fcst time 3 hrs:from 202102190000\n",
      "197:U component of wind:m s**-1 (instant):regular_ll:pressureFromGroundLayer:levels 3000-0 Pa:fcst time 3 hrs:from 202102190000\n",
      "198:V component of wind:m s**-1 (instant):regular_ll:pressureFromGroundLayer:levels 3000-0 Pa:fcst time 3 hrs:from 202102190000\n",
      "199:Relative humidity:% (instant):regular_ll:sigmaLayer:levels 0.33-1.0 sigma value:fcst time 3 hrs:from 202102190000\n",
      "200:Relative humidity:% (instant):regular_ll:sigmaLayer:levels 0.44-1.0 sigma value:fcst time 3 hrs:from 202102190000\n",
      "201:Relative humidity:% (instant):regular_ll:sigmaLayer:levels 0.72-0.94 sigma value:fcst time 3 hrs:from 202102190000\n",
      "202:Relative humidity:% (instant):regular_ll:sigmaLayer:levels 0.44-0.72 sigma value:fcst time 3 hrs:from 202102190000\n",
      "203:Temperature:K (instant):regular_ll:sigma:level 0.995 sigma value:fcst time 3 hrs:from 202102190000\n",
      "204:Relative humidity:% (instant):regular_ll:sigma:level 0.995 sigma value:fcst time 3 hrs:from 202102190000\n",
      "205:U component of wind:m s**-1 (instant):regular_ll:sigma:level 0.995 sigma value:fcst time 3 hrs:from 202102190000\n",
      "206:V component of wind:m s**-1 (instant):regular_ll:sigma:level 0.995 sigma value:fcst time 3 hrs:from 202102190000\n",
      "207:U component of wind:m s**-1 (instant):regular_ll:potentialVorticity:level 2e-06 K m2 kg-1 s-1:fcst time 3 hrs:from 202102190000\n",
      "208:V component of wind:m s**-1 (instant):regular_ll:potentialVorticity:level 2e-06 K m2 kg-1 s-1:fcst time 3 hrs:from 202102190000\n",
      "209:Temperature:K (instant):regular_ll:potentialVorticity:level 2e-06 K m2 kg-1 s-1:fcst time 3 hrs:from 202102190000\n",
      "210:Pressure:Pa (instant):regular_ll:potentialVorticity:level 2e-06 K m2 kg-1 s-1:fcst time 3 hrs:from 202102190000\n",
      "211:U component of wind:m s**-1 (instant):regular_ll:potentialVorticity:level 2.147485648 K m2 kg-1 s-1:fcst time 3 hrs:from 202102190000\n",
      "212:V component of wind:m s**-1 (instant):regular_ll:potentialVorticity:level 2.147485648 K m2 kg-1 s-1:fcst time 3 hrs:from 202102190000\n",
      "213:Temperature:K (instant):regular_ll:potentialVorticity:level 2.147485648 K m2 kg-1 s-1:fcst time 3 hrs:from 202102190000\n",
      "214:Pressure:Pa (instant):regular_ll:potentialVorticity:level 2.147485648 K m2 kg-1 s-1:fcst time 3 hrs:from 202102190000\n",
      "215:Pressure reduced to MSL:Pa (instant):regular_ll:meanSea:level 0:fcst time 3 hrs:from 202102190000\n"
     ]
    }
   ],
   "source": [
    "for grbe in grbs:\n",
    "    print(grbe)"
   ]
  },
  {
   "cell_type": "code",
   "execution_count": 12,
   "metadata": {},
   "outputs": [
    {
     "name": "stdout",
     "output_type": "stream",
     "text": [
      "1:Temperature:K (instant):regular_ll:isobaricInhPa:level 1000 Pa:fcst time 480 hrs:from 202102230000:pos ens pert 1\n",
      "2:Relative humidity:% (instant):regular_ll:isobaricInhPa:level 1000 Pa:fcst time 480 hrs:from 202102230000:pos ens pert 1\n",
      "3:U component of wind:m s**-1 (instant):regular_ll:isobaricInhPa:level 1000 Pa:fcst time 480 hrs:from 202102230000:pos ens pert 1\n",
      "4:V component of wind:m s**-1 (instant):regular_ll:isobaricInhPa:level 1000 Pa:fcst time 480 hrs:from 202102230000:pos ens pert 1\n",
      "5:Temperature:K (instant):regular_ll:isobaricInhPa:level 5000 Pa:fcst time 480 hrs:from 202102230000:pos ens pert 1\n",
      "6:Relative humidity:% (instant):regular_ll:isobaricInhPa:level 5000 Pa:fcst time 480 hrs:from 202102230000:pos ens pert 1\n",
      "7:U component of wind:m s**-1 (instant):regular_ll:isobaricInhPa:level 5000 Pa:fcst time 480 hrs:from 202102230000:pos ens pert 1\n",
      "8:V component of wind:m s**-1 (instant):regular_ll:isobaricInhPa:level 5000 Pa:fcst time 480 hrs:from 202102230000:pos ens pert 1\n",
      "9:Temperature:K (instant):regular_ll:isobaricInhPa:level 10000 Pa:fcst time 480 hrs:from 202102230000:pos ens pert 1\n",
      "10:Relative humidity:% (instant):regular_ll:isobaricInhPa:level 10000 Pa:fcst time 480 hrs:from 202102230000:pos ens pert 1\n",
      "11:U component of wind:m s**-1 (instant):regular_ll:isobaricInhPa:level 10000 Pa:fcst time 480 hrs:from 202102230000:pos ens pert 1\n",
      "12:V component of wind:m s**-1 (instant):regular_ll:isobaricInhPa:level 10000 Pa:fcst time 480 hrs:from 202102230000:pos ens pert 1\n",
      "13:Temperature:K (instant):regular_ll:isobaricInhPa:level 20000 Pa:fcst time 480 hrs:from 202102230000:pos ens pert 1\n",
      "14:Relative humidity:% (instant):regular_ll:isobaricInhPa:level 20000 Pa:fcst time 480 hrs:from 202102230000:pos ens pert 1\n",
      "15:U component of wind:m s**-1 (instant):regular_ll:isobaricInhPa:level 20000 Pa:fcst time 480 hrs:from 202102230000:pos ens pert 1\n",
      "16:V component of wind:m s**-1 (instant):regular_ll:isobaricInhPa:level 20000 Pa:fcst time 480 hrs:from 202102230000:pos ens pert 1\n",
      "17:Temperature:K (instant):regular_ll:isobaricInhPa:level 25000 Pa:fcst time 480 hrs:from 202102230000:pos ens pert 1\n",
      "18:Relative humidity:% (instant):regular_ll:isobaricInhPa:level 25000 Pa:fcst time 480 hrs:from 202102230000:pos ens pert 1\n",
      "19:U component of wind:m s**-1 (instant):regular_ll:isobaricInhPa:level 25000 Pa:fcst time 480 hrs:from 202102230000:pos ens pert 1\n",
      "20:V component of wind:m s**-1 (instant):regular_ll:isobaricInhPa:level 25000 Pa:fcst time 480 hrs:from 202102230000:pos ens pert 1\n",
      "21:U component of wind:m s**-1 (instant):regular_ll:isobaricInhPa:level 30000 Pa:fcst time 480 hrs:from 202102230000:pos ens pert 1\n",
      "22:V component of wind:m s**-1 (instant):regular_ll:isobaricInhPa:level 30000 Pa:fcst time 480 hrs:from 202102230000:pos ens pert 1\n",
      "23:U component of wind:m s**-1 (instant):regular_ll:isobaricInhPa:level 40000 Pa:fcst time 480 hrs:from 202102230000:pos ens pert 1\n",
      "24:V component of wind:m s**-1 (instant):regular_ll:isobaricInhPa:level 40000 Pa:fcst time 480 hrs:from 202102230000:pos ens pert 1\n",
      "25:Temperature:K (instant):regular_ll:isobaricInhPa:level 50000 Pa:fcst time 480 hrs:from 202102230000:pos ens pert 1\n",
      "26:Relative humidity:% (instant):regular_ll:isobaricInhPa:level 50000 Pa:fcst time 480 hrs:from 202102230000:pos ens pert 1\n",
      "27:U component of wind:m s**-1 (instant):regular_ll:isobaricInhPa:level 50000 Pa:fcst time 480 hrs:from 202102230000:pos ens pert 1\n",
      "28:V component of wind:m s**-1 (instant):regular_ll:isobaricInhPa:level 50000 Pa:fcst time 480 hrs:from 202102230000:pos ens pert 1\n",
      "29:Temperature:K (instant):regular_ll:isobaricInhPa:level 70000 Pa:fcst time 480 hrs:from 202102230000:pos ens pert 1\n",
      "30:Relative humidity:% (instant):regular_ll:isobaricInhPa:level 70000 Pa:fcst time 480 hrs:from 202102230000:pos ens pert 1\n",
      "31:U component of wind:m s**-1 (instant):regular_ll:isobaricInhPa:level 70000 Pa:fcst time 480 hrs:from 202102230000:pos ens pert 1\n",
      "32:V component of wind:m s**-1 (instant):regular_ll:isobaricInhPa:level 70000 Pa:fcst time 480 hrs:from 202102230000:pos ens pert 1\n",
      "33:Temperature:K (instant):regular_ll:isobaricInhPa:level 85000 Pa:fcst time 480 hrs:from 202102230000:pos ens pert 1\n",
      "34:Relative humidity:% (instant):regular_ll:isobaricInhPa:level 85000 Pa:fcst time 480 hrs:from 202102230000:pos ens pert 1\n",
      "35:U component of wind:m s**-1 (instant):regular_ll:isobaricInhPa:level 85000 Pa:fcst time 480 hrs:from 202102230000:pos ens pert 1\n",
      "36:V component of wind:m s**-1 (instant):regular_ll:isobaricInhPa:level 85000 Pa:fcst time 480 hrs:from 202102230000:pos ens pert 1\n",
      "37:Temperature:K (instant):regular_ll:isobaricInhPa:level 92500 Pa:fcst time 480 hrs:from 202102230000:pos ens pert 1\n",
      "38:Relative humidity:% (instant):regular_ll:isobaricInhPa:level 92500 Pa:fcst time 480 hrs:from 202102230000:pos ens pert 1\n",
      "39:U component of wind:m s**-1 (instant):regular_ll:isobaricInhPa:level 92500 Pa:fcst time 480 hrs:from 202102230000:pos ens pert 1\n",
      "40:V component of wind:m s**-1 (instant):regular_ll:isobaricInhPa:level 92500 Pa:fcst time 480 hrs:from 202102230000:pos ens pert 1\n",
      "41:Temperature:K (instant):regular_ll:isobaricInhPa:level 100000 Pa:fcst time 480 hrs:from 202102230000:pos ens pert 1\n",
      "42:Relative humidity:% (instant):regular_ll:isobaricInhPa:level 100000 Pa:fcst time 480 hrs:from 202102230000:pos ens pert 1\n",
      "43:U component of wind:m s**-1 (instant):regular_ll:isobaricInhPa:level 100000 Pa:fcst time 480 hrs:from 202102230000:pos ens pert 1\n",
      "44:V component of wind:m s**-1 (instant):regular_ll:isobaricInhPa:level 100000 Pa:fcst time 480 hrs:from 202102230000:pos ens pert 1\n",
      "45:Surface pressure:Pa (instant):regular_ll:surface:level 0:fcst time 480 hrs:from 202102230000:pos ens pert 1\n",
      "46:Soil Temperature:K (instant):regular_ll:depthBelowLandLayer:levels 0.0-0.1 m:fcst time 480 hrs:from 202102230000:pos ens pert 1\n",
      "47:Volumetric soil moisture content:Proportion (instant):regular_ll:depthBelowLandLayer:levels 0.0-0.1 m:fcst time 480 hrs:from 202102230000:pos ens pert 1\n",
      "48:Water equivalent of accumulated snow depth (deprecated):kg m**-2 (instant):regular_ll:surface:level 0:fcst time 480 hrs:from 202102230000:pos ens pert 1\n",
      "49:2 metre temperature:K (instant):regular_ll:heightAboveGround:level 2 m:fcst time 480 hrs:from 202102230000:pos ens pert 1\n",
      "50:2 metre relative humidity:% (instant):regular_ll:heightAboveGround:level 2 m:fcst time 480 hrs:from 202102230000:pos ens pert 1\n",
      "51:10 metre U wind component:m s**-1 (instant):regular_ll:heightAboveGround:level 10 m:fcst time 480 hrs:from 202102230000:pos ens pert 1\n",
      "52:10 metre V wind component:m s**-1 (instant):regular_ll:heightAboveGround:level 10 m:fcst time 480 hrs:from 202102230000:pos ens pert 1\n",
      "53:Total Precipitation:kg m**-2 (accum):regular_ll:surface:level 0:fcst time 474-480 hrs (accum):from 202102230000:pos ens pert 1\n",
      "54:Categorical rain:(Code table 4.222) (avg):regular_ll:surface:level 0:fcst time 474-480 hrs (avg):from 202102230000:pos ens pert 1\n",
      "55:Pressure reduced to MSL:Pa (instant):regular_ll:meanSea:level 0:fcst time 480 hrs:from 202102230000:pos ens pert 1\n"
     ]
    }
   ],
   "source": [
    "for grb in grbs_ge:\n",
    "    print(grb)"
   ]
  },
  {
   "cell_type": "code",
   "execution_count": 29,
   "metadata": {},
   "outputs": [],
   "source": [
    "def grb_to_grid(grb_obj):\n",
    "    \"\"\"Takes a single grb object containing multiple\n",
    "    levels. Assumes same time, pressure levels. Compiles to a cube\"\"\"\n",
    "    n_levels = len(grb_obj)\n",
    "    levels = np.array([grb_element['level'] for grb_element in grb_obj])\n",
    "    indexes = np.argsort(levels)[::-1] # highest pressure first\n",
    "    cube = np.zeros([n_levels, grb_obj[0].values.shape[0], grb_obj[1].values.shape[1]])\n",
    "    for i in range(n_levels):\n",
    "        cube[i,:,:] = grb_obj[indexes[i]].values\n",
    "    cube_dict = {'data' : cube, 'units' : grb_obj[0]['units'],\n",
    "                 'levels' : levels[indexes]}\n",
    "    return cube_dict"
   ]
  },
  {
   "cell_type": "code",
   "execution_count": 9,
   "metadata": {},
   "outputs": [],
   "source": [
    "t2mens = []\n",
    "for grb in grbs:\n",
    "    if grb.parameterName == 'Temperature' and grb.level == 2: \n",
    "        t2mens.append(grb.values)"
   ]
  },
  {
   "cell_type": "code",
   "execution_count": 13,
   "metadata": {},
   "outputs": [],
   "source": [
    "t2 = grbs.select(name='2 metre temperature')"
   ]
  },
  {
   "cell_type": "code",
   "execution_count": 14,
   "metadata": {},
   "outputs": [
    {
     "data": {
      "text/plain": [
       "[141:2 metre temperature:K (instant):regular_ll:heightAboveGround:level 2 m:fcst time 0 hrs:from 202102190000]"
      ]
     },
     "execution_count": 14,
     "metadata": {},
     "output_type": "execute_result"
    }
   ],
   "source": [
    "t2"
   ]
  },
  {
   "cell_type": "code",
   "execution_count": 21,
   "metadata": {},
   "outputs": [],
   "source": [
    "ppn = grbs.select(name='Total Precipitation')"
   ]
  },
  {
   "cell_type": "code",
   "execution_count": 30,
   "metadata": {},
   "outputs": [],
   "source": [
    "ppn_=grb_to_grid(ppn)"
   ]
  },
  {
   "cell_type": "code",
   "execution_count": 34,
   "metadata": {},
   "outputs": [
    {
     "data": {
      "text/plain": [
       "(2, 721, 1440)"
      ]
     },
     "execution_count": 34,
     "metadata": {},
     "output_type": "execute_result"
    }
   ],
   "source": [
    "ppn_['data'].shape"
   ]
  },
  {
   "cell_type": "code",
   "execution_count": 37,
   "metadata": {},
   "outputs": [
    {
     "data": {
      "text/plain": [
       "0.0"
      ]
     },
     "execution_count": 37,
     "metadata": {},
     "output_type": "execute_result"
    }
   ],
   "source": [
    "(ppn_['data'][0] - ppn_['data'][1]).min()"
   ]
  },
  {
   "cell_type": "code",
   "execution_count": null,
   "metadata": {},
   "outputs": [],
   "source": []
  },
  {
   "cell_type": "code",
   "execution_count": null,
   "metadata": {},
   "outputs": [],
   "source": []
  },
  {
   "cell_type": "markdown",
   "metadata": {},
   "source": [
    "# SAVE TO RASTER"
   ]
  },
  {
   "cell_type": "code",
   "execution_count": null,
   "metadata": {},
   "outputs": [],
   "source": [
    "#new_dataset = rasterio.open(folder+'res/'+'SUMA_GOES_16_GLM'+doy+'.tif',\n",
    "new_dataset = rasterio.open(output+nombre+'_correccion.tif',\n",
    "     'w',\n",
    "     driver='GTiff',\n",
    "     height=height,\n",
    "     width=width,\n",
    "     count=1,\n",
    "     dtype='float32',\n",
    "     crs='+proj=latlong',\n",
    "     transform=nuevo_affine) "
   ]
  }
 ],
 "metadata": {
  "kernelspec": {
   "display_name": "Python 3",
   "language": "python",
   "name": "python3"
  },
  "language_info": {
   "codemirror_mode": {
    "name": "ipython",
    "version": 3
   },
   "file_extension": ".py",
   "mimetype": "text/x-python",
   "name": "python",
   "nbconvert_exporter": "python",
   "pygments_lexer": "ipython3",
   "version": "3.8.5"
  }
 },
 "nbformat": 4,
 "nbformat_minor": 4
}
