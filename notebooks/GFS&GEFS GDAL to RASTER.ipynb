{
 "cells": [
  {
   "cell_type": "code",
   "execution_count": 2,
   "metadata": {},
   "outputs": [],
   "source": [
    "import matplotlib.pyplot as plt # Import the Matplotlib package\n",
    "import rasterio\n",
    "import pandas as pd\n",
    "from datetime import datetime, timedelta\n",
    "from affine import Affine\n",
    "from osgeo import osr, gdal\n",
    "import numpy as np # Import the Numpy package"
   ]
  },
  {
   "cell_type": "code",
   "execution_count": 3,
   "metadata": {},
   "outputs": [],
   "source": [
    "def getGeoT(extent, nlines, ncols):\n",
    "    # Compute resolution based on data dimension\n",
    "    resx = (extent[2] - extent[0]) / ncols\n",
    "    resy = (extent[3] - extent[1]) / nlines\n",
    "    return [extent[0], resx, 0, extent[3], 0, -resy]"
   ]
  },
  {
   "cell_type": "code",
   "execution_count": 4,
   "metadata": {},
   "outputs": [],
   "source": [
    "extent = [-75, -40, -58,  -25 ]\n",
    "#extent = [-96, -75, -15,  -10 ]\n",
    "\n",
    "# Define KM_PER_DEGREE\n",
    "KM_PER_DEGREE = 111.32\n",
    "\n",
    "resolution = 1"
   ]
  },
  {
   "cell_type": "code",
   "execution_count": 5,
   "metadata": {},
   "outputs": [],
   "source": [
    "# Read the GRIB file\n",
    "gribGFS = gdal.Open('../data/GFS/GFS_2021030200+015.grib2')"
   ]
  },
  {
   "cell_type": "code",
   "execution_count": 6,
   "metadata": {
    "scrolled": true
   },
   "outputs": [
    {
     "data": {
      "text/plain": [
       "8"
      ]
     },
     "execution_count": 6,
     "metadata": {},
     "output_type": "execute_result"
    }
   ],
   "source": [
    "gribGFS.RasterCount"
   ]
  },
  {
   "cell_type": "code",
   "execution_count": 7,
   "metadata": {},
   "outputs": [
    {
     "data": {
      "text/plain": [
       "'GEOGCS[\"Coordinate System imported from GRIB file\",DATUM[\"unnamed\",SPHEROID[\"Sphere\",6371229,0]],PRIMEM[\"Greenwich\",0],UNIT[\"degree\",0.0174532925199433,AUTHORITY[\"EPSG\",\"9122\"]],AXIS[\"Latitude\",NORTH],AXIS[\"Longitude\",EAST]]'"
      ]
     },
     "execution_count": 7,
     "metadata": {},
     "output_type": "execute_result"
    }
   ],
   "source": [
    "gribGFS.GetProjection()"
   ]
  },
  {
   "cell_type": "code",
   "execution_count": 157,
   "metadata": {},
   "outputs": [
    {
     "data": {
      "text/plain": [
       "str"
      ]
     },
     "execution_count": 157,
     "metadata": {},
     "output_type": "execute_result"
    }
   ],
   "source": []
  },
  {
   "cell_type": "code",
   "execution_count": 8,
   "metadata": {},
   "outputs": [
    {
     "name": "stdout",
     "output_type": "stream",
     "text": [
      "{'GRIB_COMMENT': 'Pressure [Pa]', 'GRIB_DISCIPLINE': '0(Meteorological)', 'GRIB_ELEMENT': 'PRES', 'GRIB_FORECAST_SECONDS': '54000 sec', 'GRIB_IDS': 'CENTER=7(US-NCEP) SUBCENTER=0 MASTER_TABLE=2 LOCAL_TABLE=1 SIGNF_REF_TIME=1(Start_of_Forecast) REF_TIME=2021-03-02T00:00:00Z PROD_STATUS=0(Operational) TYPE=1(Forecast)', 'GRIB_PDS_PDTN': '0', 'GRIB_PDS_TEMPLATE_ASSEMBLED_VALUES': '3 0 2 0 96 0 0 1 15 1 0 0 255 0 0', 'GRIB_PDS_TEMPLATE_NUMBERS': '3 0 2 0 96 0 0 0 1 0 0 0 15 1 0 0 0 0 0 255 0 0 0 0 0', 'GRIB_REF_TIME': '  1614643200 sec UTC', 'GRIB_SHORT_NAME': '0-SFC', 'GRIB_UNIT': '[Pa]', 'GRIB_VALID_TIME': '  1614697200 sec UTC'}\n",
      "{'GRIB_COMMENT': 'Temperature [C]', 'GRIB_DISCIPLINE': '0(Meteorological)', 'GRIB_ELEMENT': 'TMP', 'GRIB_FORECAST_SECONDS': '54000 sec', 'GRIB_IDS': 'CENTER=7(US-NCEP) SUBCENTER=0 MASTER_TABLE=2 LOCAL_TABLE=1 SIGNF_REF_TIME=1(Start_of_Forecast) REF_TIME=2021-03-02T00:00:00Z PROD_STATUS=0(Operational) TYPE=1(Forecast)', 'GRIB_PDS_PDTN': '0', 'GRIB_PDS_TEMPLATE_ASSEMBLED_VALUES': '0 0 2 0 96 0 0 1 15 1 0 0 255 0 0', 'GRIB_PDS_TEMPLATE_NUMBERS': '0 0 2 0 96 0 0 0 1 0 0 0 15 1 0 0 0 0 0 255 0 0 0 0 0', 'GRIB_REF_TIME': '  1614643200 sec UTC', 'GRIB_SHORT_NAME': '0-SFC', 'GRIB_UNIT': '[C]', 'GRIB_VALID_TIME': '  1614697200 sec UTC'}\n",
      "{'GRIB_COMMENT': 'Temperature [C]', 'GRIB_DISCIPLINE': '0(Meteorological)', 'GRIB_ELEMENT': 'TMP', 'GRIB_FORECAST_SECONDS': '54000 sec', 'GRIB_IDS': 'CENTER=7(US-NCEP) SUBCENTER=0 MASTER_TABLE=2 LOCAL_TABLE=1 SIGNF_REF_TIME=1(Start_of_Forecast) REF_TIME=2021-03-02T00:00:00Z PROD_STATUS=0(Operational) TYPE=1(Forecast)', 'GRIB_PDS_PDTN': '0', 'GRIB_PDS_TEMPLATE_ASSEMBLED_VALUES': '0 0 2 0 96 0 0 1 15 103 0 2 255 0 0', 'GRIB_PDS_TEMPLATE_NUMBERS': '0 0 2 0 96 0 0 0 1 0 0 0 15 103 0 0 0 0 2 255 0 0 0 0 0', 'GRIB_REF_TIME': '  1614643200 sec UTC', 'GRIB_SHORT_NAME': '2-HTGL', 'GRIB_UNIT': '[C]', 'GRIB_VALID_TIME': '  1614697200 sec UTC'}\n",
      "{'GRIB_COMMENT': 'Relative humidity [%]', 'GRIB_DISCIPLINE': '0(Meteorological)', 'GRIB_ELEMENT': 'RH', 'GRIB_FORECAST_SECONDS': '54000 sec', 'GRIB_IDS': 'CENTER=7(US-NCEP) SUBCENTER=0 MASTER_TABLE=2 LOCAL_TABLE=1 SIGNF_REF_TIME=1(Start_of_Forecast) REF_TIME=2021-03-02T00:00:00Z PROD_STATUS=0(Operational) TYPE=1(Forecast)', 'GRIB_PDS_PDTN': '0', 'GRIB_PDS_TEMPLATE_ASSEMBLED_VALUES': '1 1 2 0 96 0 0 1 15 103 0 2 255 0 0', 'GRIB_PDS_TEMPLATE_NUMBERS': '1 1 2 0 96 0 0 0 1 0 0 0 15 103 0 0 0 0 2 255 0 0 0 0 0', 'GRIB_REF_TIME': '  1614643200 sec UTC', 'GRIB_SHORT_NAME': '2-HTGL', 'GRIB_UNIT': '[%]', 'GRIB_VALID_TIME': '  1614697200 sec UTC'}\n",
      "{'GRIB_COMMENT': 'u-component of wind [m/s]', 'GRIB_DISCIPLINE': '0(Meteorological)', 'GRIB_ELEMENT': 'UGRD', 'GRIB_FORECAST_SECONDS': '54000 sec', 'GRIB_IDS': 'CENTER=7(US-NCEP) SUBCENTER=0 MASTER_TABLE=2 LOCAL_TABLE=1 SIGNF_REF_TIME=1(Start_of_Forecast) REF_TIME=2021-03-02T00:00:00Z PROD_STATUS=0(Operational) TYPE=1(Forecast)', 'GRIB_PDS_PDTN': '0', 'GRIB_PDS_TEMPLATE_ASSEMBLED_VALUES': '2 2 2 0 96 0 0 1 15 103 0 10 255 0 0', 'GRIB_PDS_TEMPLATE_NUMBERS': '2 2 2 0 96 0 0 0 1 0 0 0 15 103 0 0 0 0 10 255 0 0 0 0 0', 'GRIB_REF_TIME': '  1614643200 sec UTC', 'GRIB_SHORT_NAME': '10-HTGL', 'GRIB_UNIT': '[m/s]', 'GRIB_VALID_TIME': '  1614697200 sec UTC'}\n",
      "{'GRIB_COMMENT': 'v-component of wind [m/s]', 'GRIB_DISCIPLINE': '0(Meteorological)', 'GRIB_ELEMENT': 'VGRD', 'GRIB_FORECAST_SECONDS': '54000 sec', 'GRIB_IDS': 'CENTER=7(US-NCEP) SUBCENTER=0 MASTER_TABLE=2 LOCAL_TABLE=1 SIGNF_REF_TIME=1(Start_of_Forecast) REF_TIME=2021-03-02T00:00:00Z PROD_STATUS=0(Operational) TYPE=1(Forecast)', 'GRIB_PDS_PDTN': '0', 'GRIB_PDS_TEMPLATE_ASSEMBLED_VALUES': '2 3 2 0 96 0 0 1 15 103 0 10 255 0 0', 'GRIB_PDS_TEMPLATE_NUMBERS': '2 3 2 0 96 0 0 0 1 0 0 0 15 103 0 0 0 0 10 255 0 0 0 0 0', 'GRIB_REF_TIME': '  1614643200 sec UTC', 'GRIB_SHORT_NAME': '10-HTGL', 'GRIB_UNIT': '[m/s]', 'GRIB_VALID_TIME': '  1614697200 sec UTC'}\n",
      "{'GRIB_COMMENT': '03 hr Total precipitation [kg/(m^2)]', 'GRIB_DISCIPLINE': '0(Meteorological)', 'GRIB_ELEMENT': 'APCP03', 'GRIB_FORECAST_SECONDS': '43200 sec', 'GRIB_IDS': 'CENTER=7(US-NCEP) SUBCENTER=0 MASTER_TABLE=2 LOCAL_TABLE=1 SIGNF_REF_TIME=1(Start_of_Forecast) REF_TIME=2021-03-02T00:00:00Z PROD_STATUS=0(Operational) TYPE=1(Forecast)', 'GRIB_PDS_PDTN': '8', 'GRIB_PDS_TEMPLATE_ASSEMBLED_VALUES': '1 8 2 0 96 0 0 1 12 1 0 0 255 0 0 2021 3 2 15 0 0 1 0 1 2 1 3 255 0', 'GRIB_PDS_TEMPLATE_NUMBERS': '1 8 2 0 96 0 0 0 1 0 0 0 12 1 0 0 0 0 0 255 0 0 0 0 0 7 229 3 2 15 0 0 1 0 0 0 0 1 2 1 0 0 0 3 255 0 0 0 0', 'GRIB_REF_TIME': '  1614643200 sec UTC', 'GRIB_SHORT_NAME': '0-SFC', 'GRIB_UNIT': '[kg/(m^2)]', 'GRIB_VALID_TIME': '  1614697200 sec UTC'}\n",
      "{'GRIB_COMMENT': '15 hr Total precipitation [kg/(m^2)]', 'GRIB_DISCIPLINE': '0(Meteorological)', 'GRIB_ELEMENT': 'APCP15', 'GRIB_FORECAST_SECONDS': '0 sec', 'GRIB_IDS': 'CENTER=7(US-NCEP) SUBCENTER=0 MASTER_TABLE=2 LOCAL_TABLE=1 SIGNF_REF_TIME=1(Start_of_Forecast) REF_TIME=2021-03-02T00:00:00Z PROD_STATUS=0(Operational) TYPE=1(Forecast)', 'GRIB_PDS_PDTN': '8', 'GRIB_PDS_TEMPLATE_ASSEMBLED_VALUES': '1 8 2 0 96 0 0 1 0 1 0 0 255 0 0 2021 3 2 15 0 0 1 0 1 2 1 15 255 0', 'GRIB_PDS_TEMPLATE_NUMBERS': '1 8 2 0 96 0 0 0 1 0 0 0 0 1 0 0 0 0 0 255 0 0 0 0 0 7 229 3 2 15 0 0 1 0 0 0 0 1 2 1 0 0 0 15 255 0 0 0 0', 'GRIB_REF_TIME': '  1614643200 sec UTC', 'GRIB_SHORT_NAME': '0-SFC', 'GRIB_UNIT': '[kg/(m^2)]', 'GRIB_VALID_TIME': '  1614697200 sec UTC'}\n"
     ]
    }
   ],
   "source": [
    "for key in range(1, gribGFS.RasterCount +1):\n",
    "    var = gribGFS.GetRasterBand(key)\n",
    "    print(var.GetMetadata())"
   ]
  },
  {
   "cell_type": "code",
   "execution_count": 152,
   "metadata": {},
   "outputs": [
    {
     "name": "stdout",
     "output_type": "stream",
     "text": [
      "{'GRIB_COMMENT': 'Geopotential height [gpm]', 'GRIB_DISCIPLINE': '0(Meteorological)', 'GRIB_ELEMENT': 'HGT', 'GRIB_FORECAST_SECONDS': '32400 sec', 'GRIB_IDS': 'CENTER=7(US-NCEP) SUBCENTER=0 MASTER_TABLE=2 LOCAL_TABLE=1 SIGNF_REF_TIME=1(Start_of_Forecast) REF_TIME=2021-03-04T06:00:00Z PROD_STATUS=0(Operational) TYPE=1(Forecast)', 'GRIB_PDS_PDTN': '0', 'GRIB_PDS_TEMPLATE_ASSEMBLED_VALUES': '3 5 2 0 96 0 0 1 9 100 0 100 255 0 0', 'GRIB_PDS_TEMPLATE_NUMBERS': '3 5 2 0 96 0 0 0 1 0 0 0 9 100 0 0 0 0 100 255 0 0 0 0 0', 'GRIB_REF_TIME': '  1614837600 sec UTC', 'GRIB_SHORT_NAME': '100-ISBL', 'GRIB_UNIT': '[gpm]', 'GRIB_VALID_TIME': '  1614870000 sec UTC'}\n"
     ]
    }
   ],
   "source": [
    "var = gribGFS.GetRasterBand(5)\n",
    "print(var.GetMetadata())"
   ]
  },
  {
   "cell_type": "code",
   "execution_count": null,
   "metadata": {},
   "outputs": [],
   "source": [
    "## DAta to reproj"
   ]
  },
  {
   "cell_type": "code",
   "execution_count": null,
   "metadata": {},
   "outputs": [],
   "source": []
  },
  {
   "cell_type": "code",
   "execution_count": null,
   "metadata": {},
   "outputs": [],
   "source": []
  },
  {
   "cell_type": "code",
   "execution_count": null,
   "metadata": {},
   "outputs": [],
   "source": []
  },
  {
   "cell_type": "code",
   "execution_count": null,
   "metadata": {},
   "outputs": [],
   "source": []
  },
  {
   "cell_type": "code",
   "execution_count": null,
   "metadata": {},
   "outputs": [],
   "source": []
  },
  {
   "cell_type": "code",
   "execution_count": null,
   "metadata": {},
   "outputs": [],
   "source": []
  },
  {
   "cell_type": "code",
   "execution_count": null,
   "metadata": {},
   "outputs": [],
   "source": []
  },
  {
   "cell_type": "code",
   "execution_count": 13,
   "metadata": {},
   "outputs": [],
   "source": [
    "# Read the GRIB file\n",
    "gribGFS = gdal.Open('../data/GFS/GFS_2021030200+384.grib2')"
   ]
  },
  {
   "cell_type": "code",
   "execution_count": 14,
   "metadata": {},
   "outputs": [
    {
     "data": {
      "text/plain": [
       "8"
      ]
     },
     "execution_count": 14,
     "metadata": {},
     "output_type": "execute_result"
    }
   ],
   "source": [
    "gribGFS.RasterCount"
   ]
  },
  {
   "cell_type": "code",
   "execution_count": 143,
   "metadata": {},
   "outputs": [],
   "source": [
    "def getPpnBand(grib):\n",
    "    for band in range(1, grib.RasterCount + 1):\n",
    "        var = grib.GetRasterBand(band)\n",
    "        if var.GetMetadata()['GRIB_ELEMENT'] in (\"APCP03\", \"APCP06\"):\n",
    "            print(f\"Total precipitation is band {band}\")\n",
    "            return band\n",
    "    return None"
   ]
  },
  {
   "cell_type": "code",
   "execution_count": 144,
   "metadata": {},
   "outputs": [
    {
     "name": "stdout",
     "output_type": "stream",
     "text": [
      "Total precipitation is band 7\n"
     ]
    }
   ],
   "source": [
    "bandNumber = getPpnBand(gribGFS)\n",
    "if bandNumber == None:\n",
    "        print(\"The dataset doesn't contain Total Precipitation variable\")"
   ]
  },
  {
   "cell_type": "code",
   "execution_count": 15,
   "metadata": {},
   "outputs": [
    {
     "name": "stdout",
     "output_type": "stream",
     "text": [
      "PRES\n",
      "TMP\n",
      "TMP\n",
      "RH\n",
      "UGRD\n",
      "VGRD\n",
      "APCP06\n",
      "APCP384\n"
     ]
    }
   ],
   "source": [
    "for key in range(1, gribGFS.RasterCount +1):\n",
    "    var = gribGFS.GetRasterBand(key)\n",
    "    print(var.GetMetadata()['GRIB_ELEMENT'])"
   ]
  },
  {
   "cell_type": "code",
   "execution_count": 8,
   "metadata": {},
   "outputs": [
    {
     "data": {
      "text/plain": [
       "{'GRIB_COMMENT': 'Temperature [C]',\n",
       " 'GRIB_DISCIPLINE': '0(Meteorological)',\n",
       " 'GRIB_ELEMENT': 'TMP',\n",
       " 'GRIB_FORECAST_SECONDS': '54000 sec',\n",
       " 'GRIB_IDS': 'CENTER=7(US-NCEP) SUBCENTER=0 MASTER_TABLE=2 LOCAL_TABLE=1 SIGNF_REF_TIME=1(Start_of_Forecast) REF_TIME=2021-03-02T00:00:00Z PROD_STATUS=0(Operational) TYPE=1(Forecast)',\n",
       " 'GRIB_PDS_PDTN': '0',\n",
       " 'GRIB_PDS_TEMPLATE_ASSEMBLED_VALUES': '0 0 2 0 96 0 0 1 15 1 0 0 255 0 0',\n",
       " 'GRIB_PDS_TEMPLATE_NUMBERS': '0 0 2 0 96 0 0 0 1 0 0 0 15 1 0 0 0 0 0 255 0 0 0 0 0',\n",
       " 'GRIB_REF_TIME': '  1614643200 sec UTC',\n",
       " 'GRIB_SHORT_NAME': '0-SFC',\n",
       " 'GRIB_UNIT': '[C]',\n",
       " 'GRIB_VALID_TIME': '  1614697200 sec UTC'}"
      ]
     },
     "execution_count": 8,
     "metadata": {},
     "output_type": "execute_result"
    }
   ],
   "source": [
    "aa = gribGFS.GetRasterBand(2)\n",
    "aa.GetMetadata()"
   ]
  },
  {
   "cell_type": "code",
   "execution_count": 11,
   "metadata": {},
   "outputs": [
    {
     "data": {
      "text/plain": [
       "'1614643200'"
      ]
     },
     "execution_count": 11,
     "metadata": {},
     "output_type": "execute_result"
    }
   ],
   "source": [
    "aa.GetMetadata()['GRIB_REF_TIME'][2:12]"
   ]
  },
  {
   "cell_type": "code",
   "execution_count": 22,
   "metadata": {},
   "outputs": [
    {
     "data": {
      "text/plain": [
       "{'GRIB_COMMENT': 'Temperature [C]',\n",
       " 'GRIB_DISCIPLINE': '0(Meteorological)',\n",
       " 'GRIB_ELEMENT': 'TMP',\n",
       " 'GRIB_FORECAST_SECONDS': '1382400 sec',\n",
       " 'GRIB_IDS': 'CENTER=7(US-NCEP) SUBCENTER=0 MASTER_TABLE=2 LOCAL_TABLE=1 SIGNF_REF_TIME=1(Start_of_Forecast) REF_TIME=2021-03-02T00:00:00Z PROD_STATUS=0(Operational) TYPE=1(Forecast)',\n",
       " 'GRIB_PDS_PDTN': '0',\n",
       " 'GRIB_PDS_TEMPLATE_ASSEMBLED_VALUES': '0 0 2 0 96 0 0 1 384 103 0 2 255 0 0',\n",
       " 'GRIB_PDS_TEMPLATE_NUMBERS': '0 0 2 0 96 0 0 0 1 0 0 1 128 103 0 0 0 0 2 255 0 0 0 0 0',\n",
       " 'GRIB_REF_TIME': '  1614643200 sec UTC',\n",
       " 'GRIB_SHORT_NAME': '2-HTGL',\n",
       " 'GRIB_UNIT': '[C]',\n",
       " 'GRIB_VALID_TIME': '  1616025600 sec UTC'}"
      ]
     },
     "execution_count": 22,
     "metadata": {},
     "output_type": "execute_result"
    }
   ],
   "source": [
    "aa = gribGFS.GetRasterBand(3)\n",
    "aa.GetMetadata()"
   ]
  },
  {
   "cell_type": "code",
   "execution_count": 9,
   "metadata": {},
   "outputs": [],
   "source": [
    "# Read the GRIB file\n",
    "grib = gdal.Open('../data/GEFS/GEFS_01_2021030200+840.0p50.grib2')"
   ]
  },
  {
   "cell_type": "code",
   "execution_count": 10,
   "metadata": {},
   "outputs": [],
   "source": [
    "for band in range(1, grib.RasterCount + 1):\n",
    "    var = grib.GetRasterBand(band)\n",
    "    if var.GetMetadata()['GRIB_ELEMENT'] == \"APCP03\":\n",
    "        print(f\"Total precipitation is band {band}\")"
   ]
  },
  {
   "cell_type": "code",
   "execution_count": 11,
   "metadata": {},
   "outputs": [
    {
     "ename": "NameError",
     "evalue": "name 'getPpnBand' is not defined",
     "output_type": "error",
     "traceback": [
      "\u001b[0;31m---------------------------------------------------------------------------\u001b[0m",
      "\u001b[0;31mNameError\u001b[0m                                 Traceback (most recent call last)",
      "\u001b[0;32m<ipython-input-11-fffb0e8312ab>\u001b[0m in \u001b[0;36m<module>\u001b[0;34m\u001b[0m\n\u001b[0;32m----> 1\u001b[0;31m \u001b[0mbandNumber\u001b[0m \u001b[0;34m=\u001b[0m \u001b[0mgetPpnBand\u001b[0m\u001b[0;34m(\u001b[0m\u001b[0mgrib\u001b[0m\u001b[0;34m)\u001b[0m\u001b[0;34m\u001b[0m\u001b[0;34m\u001b[0m\u001b[0m\n\u001b[0m\u001b[1;32m      2\u001b[0m \u001b[0;32mif\u001b[0m \u001b[0mbandNumber\u001b[0m \u001b[0;34m==\u001b[0m \u001b[0;32mNone\u001b[0m\u001b[0;34m:\u001b[0m\u001b[0;34m\u001b[0m\u001b[0;34m\u001b[0m\u001b[0m\n\u001b[1;32m      3\u001b[0m         \u001b[0mprint\u001b[0m\u001b[0;34m(\u001b[0m\u001b[0;34m\"The dataset doesn't contain Total Precipitation variable\"\u001b[0m\u001b[0;34m)\u001b[0m\u001b[0;34m\u001b[0m\u001b[0;34m\u001b[0m\u001b[0m\n",
      "\u001b[0;31mNameError\u001b[0m: name 'getPpnBand' is not defined"
     ]
    }
   ],
   "source": [
    "bandNumber = getPpnBand(grib)\n",
    "if bandNumber == None:\n",
    "        print(\"The dataset doesn't contain Total Precipitation variable\")"
   ]
  },
  {
   "cell_type": "code",
   "execution_count": 12,
   "metadata": {},
   "outputs": [
    {
     "name": "stdout",
     "output_type": "stream",
     "text": [
      "Band 1 is PRES\n",
      "Band 2 is TMP\n",
      "Band 3 is RH\n",
      "Band 4 is UGRD\n",
      "Band 5 is VGRD\n",
      "Band 6 is APCP06\n"
     ]
    }
   ],
   "source": [
    "for key in range(1, grib.RasterCount +1):\n",
    "    var = grib.GetRasterBand(key)\n",
    "    print(f\"Band {key} is {var.GetMetadata()['GRIB_ELEMENT']}\")"
   ]
  },
  {
   "cell_type": "code",
   "execution_count": 133,
   "metadata": {},
   "outputs": [
    {
     "data": {
      "text/plain": [
       "{'GRIB_COMMENT': '06 hr Total precipitation [kg/(m^2)]',\n",
       " 'GRIB_DISCIPLINE': '0(Meteorological)',\n",
       " 'GRIB_ELEMENT': 'APCP06',\n",
       " 'GRIB_FORECAST_SECONDS': '216000 sec',\n",
       " 'GRIB_IDS': 'CENTER=7(US-NCEP) SUBCENTER=2(NCEP Ensemble Products) MASTER_TABLE=2 LOCAL_TABLE=1 SIGNF_REF_TIME=1(Start_of_Forecast) REF_TIME=2021-03-02T00:00:00Z PROD_STATUS=0(Operational) TYPE=4(Perturbed_forecast)',\n",
       " 'GRIB_PDS_PDTN': '11',\n",
       " 'GRIB_PDS_TEMPLATE_ASSEMBLED_VALUES': '1 8 4 0 107 0 0 1 60 1 0 0 255 0 0 3 1 30 2021 3 4 18 0 0 1 0 1 2 1 6 255 0',\n",
       " 'GRIB_PDS_TEMPLATE_NUMBERS': '1 8 4 0 107 0 0 0 1 0 0 0 60 1 0 0 0 0 0 255 0 0 0 0 0 3 1 30 7 229 3 4 18 0 0 1 0 0 0 0 1 2 1 0 0 0 6 255 0 0 0 0',\n",
       " 'GRIB_REF_TIME': '  1614643200 sec UTC',\n",
       " 'GRIB_SHORT_NAME': '0-SFC',\n",
       " 'GRIB_UNIT': '[kg/(m^2)]',\n",
       " 'GRIB_VALID_TIME': '  1614880800 sec UTC'}"
      ]
     },
     "execution_count": 133,
     "metadata": {},
     "output_type": "execute_result"
    }
   ],
   "source": [
    "aa = grib.GetRasterBand(6)\n",
    "aa.GetMetadata()"
   ]
  },
  {
   "cell_type": "code",
   "execution_count": 102,
   "metadata": {
    "scrolled": true
   },
   "outputs": [
    {
     "data": {
      "text/plain": [
       "{'GRIB_COMMENT': '06 hr Total precipitation [kg/(m^2)]',\n",
       " 'GRIB_DISCIPLINE': '0(Meteorological)',\n",
       " 'GRIB_ELEMENT': 'APCP06',\n",
       " 'GRIB_FORECAST_SECONDS': '1706400 sec',\n",
       " 'GRIB_IDS': 'CENTER=7(US-NCEP) SUBCENTER=2(NCEP Ensemble Products) MASTER_TABLE=2 LOCAL_TABLE=1 SIGNF_REF_TIME=1(Start_of_Forecast) REF_TIME=2021-02-23T00:00:00Z PROD_STATUS=0(Operational) TYPE=4(Perturbed_forecast)',\n",
       " 'GRIB_PDS_PDTN': '11',\n",
       " 'GRIB_PDS_TEMPLATE_ASSEMBLED_VALUES': '1 8 4 0 107 0 0 1 474 1 0 0 255 0 0 3 1 30 2021 3 15 0 0 0 1 0 1 2 1 6 255 0',\n",
       " 'GRIB_PDS_TEMPLATE_NUMBERS': '1 8 4 0 107 0 0 0 1 0 0 1 218 1 0 0 0 0 0 255 0 0 0 0 0 3 1 30 7 229 3 15 0 0 0 1 0 0 0 0 1 2 1 0 0 0 6 255 0 0 0 0',\n",
       " 'GRIB_REF_TIME': '  1614038400 sec UTC',\n",
       " 'GRIB_SHORT_NAME': '0-SFC',\n",
       " 'GRIB_UNIT': '[kg/(m^2)]',\n",
       " 'GRIB_VALID_TIME': '  1615766400 sec UTC'}"
      ]
     },
     "execution_count": 102,
     "metadata": {},
     "output_type": "execute_result"
    }
   ],
   "source": [
    "# Read an specific band: Total Precipation\n",
    "band = grib.GetRasterBand(53)\n",
    "band.GetMetadata()"
   ]
  },
  {
   "cell_type": "code",
   "execution_count": 287,
   "metadata": {},
   "outputs": [],
   "source": [
    "seconds = int(band.GetMetadata()['GRIB_VALID_TIME'][2:12])"
   ]
  },
  {
   "cell_type": "code",
   "execution_count": 289,
   "metadata": {},
   "outputs": [],
   "source": [
    "datetimetiff = datetime(1970,1,1,0,0) + timedelta(0, seconds)"
   ]
  },
  {
   "cell_type": "code",
   "execution_count": 292,
   "metadata": {},
   "outputs": [
    {
     "data": {
      "text/plain": [
       "'2021-02-27Z09:00'"
      ]
     },
     "execution_count": 292,
     "metadata": {},
     "output_type": "execute_result"
    }
   ],
   "source": [
    "datetimetiff.strftime('%Y-%m-%dZ%H:%M')"
   ]
  },
  {
   "cell_type": "code",
   "execution_count": 84,
   "metadata": {},
   "outputs": [
    {
     "data": {
      "text/plain": [
       "{'GRIB_COMMENT': 'Temperature [C]',\n",
       " 'GRIB_DISCIPLINE': '0(Meteorological)',\n",
       " 'GRIB_ELEMENT': 'TMP',\n",
       " 'GRIB_FORECAST_SECONDS': '1728000 sec',\n",
       " 'GRIB_IDS': 'CENTER=7(US-NCEP) SUBCENTER=2(NCEP Ensemble Products) MASTER_TABLE=2 LOCAL_TABLE=1 SIGNF_REF_TIME=1(Start_of_Forecast) REF_TIME=2021-02-23T00:00:00Z PROD_STATUS=0(Operational) TYPE=4(Perturbed_forecast)',\n",
       " 'GRIB_PDS_PDTN': '1',\n",
       " 'GRIB_PDS_TEMPLATE_ASSEMBLED_VALUES': '0 0 4 0 107 0 0 1 480 100 0 1000 255 0 0 3 1 30',\n",
       " 'GRIB_PDS_TEMPLATE_NUMBERS': '0 0 4 0 107 0 0 0 1 0 0 1 224 100 0 0 0 3 232 255 0 0 0 0 0 3 1 30',\n",
       " 'GRIB_REF_TIME': '  1614038400 sec UTC',\n",
       " 'GRIB_SHORT_NAME': '1000-ISBL',\n",
       " 'GRIB_UNIT': '[C]',\n",
       " 'GRIB_VALID_TIME': '  1615766400 sec UTC'}"
      ]
     },
     "execution_count": 84,
     "metadata": {},
     "output_type": "execute_result"
    }
   ],
   "source": []
  },
  {
   "cell_type": "code",
   "execution_count": 265,
   "metadata": {},
   "outputs": [
    {
     "data": {
      "text/plain": [
       "'1613692800'"
      ]
     },
     "execution_count": 265,
     "metadata": {},
     "output_type": "execute_result"
    }
   ],
   "source": [
    "band.GetMetadata()['GRIB_REF_TIME'][2:12]"
   ]
  },
  {
   "cell_type": "code",
   "execution_count": 50,
   "metadata": {},
   "outputs": [
    {
     "data": {
      "text/plain": [
       "<osgeo.gdal.Band; proxy of <Swig Object of type 'GDALRasterBandShadow *' at 0x7fce39c50a20> >"
      ]
     },
     "execution_count": 50,
     "metadata": {},
     "output_type": "execute_result"
    }
   ],
   "source": [
    "band"
   ]
  },
  {
   "cell_type": "code",
   "execution_count": 17,
   "metadata": {},
   "outputs": [
    {
     "name": "stdout",
     "output_type": "stream",
     "text": [
      "Categorical Rain [0=no; 1=yes]\n",
      "0[-] SFC=\"Ground or water surface\"\n"
     ]
    }
   ],
   "source": [
    "# Get the band name and description\n",
    "band = grib.GetRasterBand(145)\n",
    "metadata = band.GetMetadata()\n",
    "band_name = metadata['GRIB_COMMENT']\n",
    "band_description = band.GetDescription()\n",
    "print(band_name)\n",
    "print(band_description)"
   ]
  },
  {
   "cell_type": "code",
   "execution_count": 124,
   "metadata": {},
   "outputs": [
    {
     "data": {
      "text/plain": [
       "0"
      ]
     },
     "execution_count": 124,
     "metadata": {},
     "output_type": "execute_result"
    }
   ],
   "source": [
    "# Lat/lon WSG84 Spatial Reference System\n",
    "targetPrj = osr.SpatialReference()\n",
    "targetPrj.ImportFromProj4('+proj=longlat +ellps=WGS84 +datum=WGS84 +no_defs')"
   ]
  },
  {
   "cell_type": "code",
   "execution_count": 196,
   "metadata": {},
   "outputs": [],
   "source": [
    "# Read grid data\n",
    "array = band.ReadAsArray()"
   ]
  },
  {
   "cell_type": "code",
   "execution_count": 197,
   "metadata": {},
   "outputs": [
    {
     "data": {
      "text/plain": [
       "18.30000114440918"
      ]
     },
     "execution_count": 197,
     "metadata": {},
     "output_type": "execute_result"
    }
   ],
   "source": [
    "array.max()"
   ]
  },
  {
   "cell_type": "code",
   "execution_count": 198,
   "metadata": {},
   "outputs": [
    {
     "data": {
      "text/plain": [
       "0.0"
      ]
     },
     "execution_count": 198,
     "metadata": {},
     "output_type": "execute_result"
    }
   ],
   "source": [
    "array.min()"
   ]
  },
  {
   "cell_type": "code",
   "execution_count": 189,
   "metadata": {},
   "outputs": [
    {
     "data": {
      "text/plain": [
       "'float64'"
      ]
     },
     "execution_count": 189,
     "metadata": {},
     "output_type": "execute_result"
    }
   ],
   "source": [
    "gdal.GetDataTypeName(band.DataType).lower()"
   ]
  },
  {
   "cell_type": "code",
   "execution_count": null,
   "metadata": {},
   "outputs": [],
   "source": []
  },
  {
   "cell_type": "code",
   "execution_count": null,
   "metadata": {},
   "outputs": [],
   "source": []
  },
  {
   "cell_type": "code",
   "execution_count": 80,
   "metadata": {},
   "outputs": [
    {
     "data": {
      "text/plain": [
       "(-0.125, 0.25, 0.0, 90.125, 0.0, -0.25)"
      ]
     },
     "execution_count": 80,
     "metadata": {},
     "output_type": "execute_result"
    }
   ],
   "source": [
    "grib.GetGeoTransform()"
   ]
  },
  {
   "cell_type": "code",
   "execution_count": 121,
   "metadata": {},
   "outputs": [],
   "source": [
    "geotransform = grib.GetGeoTransform()\n",
    "transform = Affine.from_gdal(*geotransform)"
   ]
  },
  {
   "cell_type": "code",
   "execution_count": 122,
   "metadata": {},
   "outputs": [
    {
     "data": {
      "text/plain": [
       "Affine(0.25, 0.0, -0.125,\n",
       "       0.0, -0.25, 90.125)"
      ]
     },
     "execution_count": 122,
     "metadata": {},
     "output_type": "execute_result"
    }
   ],
   "source": [
    "transform"
   ]
  },
  {
   "cell_type": "markdown",
   "metadata": {},
   "source": [
    "# CHANGE GRID AND CROP EXTENT"
   ]
  },
  {
   "cell_type": "code",
   "execution_count": 98,
   "metadata": {},
   "outputs": [],
   "source": [
    "#min_lon = extent[0]; max_lon = extent[2]; min_lat = extent[1]; max_lat = extent[3]\n",
    "# Subsect the image\n",
    "#grib2 = gdal.Translate('subsected_grib.grb', grib, projWin = [min_lon + 360, max_lat, max_lon + 360, min_lat])"
   ]
  },
  {
   "cell_type": "code",
   "execution_count": 102,
   "metadata": {},
   "outputs": [
    {
     "data": {
      "text/plain": [
       "Affine(0.05, 0.0, -360.0,\n",
       "       0.0, -0.05, 90.00000000000001)"
      ]
     },
     "execution_count": 102,
     "metadata": {},
     "output_type": "execute_result"
    }
   ],
   "source": [
    "nuevo_affine=Affine.identity()\n",
    "nuevo_affine=nuevo_affine.translation(-360, 90.00000000000001)*nuevo_affine.scale(0.05,-0.05)\n",
    "nuevo_affine"
   ]
  },
  {
   "cell_type": "code",
   "execution_count": 104,
   "metadata": {},
   "outputs": [],
   "source": [
    "# Read the GRIB file\n",
    "#grib = gdal.Open('subsected_grib.grb')"
   ]
  },
  {
   "cell_type": "code",
   "execution_count": 232,
   "metadata": {},
   "outputs": [],
   "source": [
    "# Read an specific band: Total Precipation\n",
    "band = grib.GetRasterBand(9)\n",
    "# Read grid data\n",
    "array = band.ReadAsArray()"
   ]
  },
  {
   "cell_type": "code",
   "execution_count": null,
   "metadata": {},
   "outputs": [],
   "source": []
  },
  {
   "cell_type": "markdown",
   "metadata": {},
   "source": [
    "# WRITE GEOTIFF"
   ]
  },
  {
   "cell_type": "code",
   "execution_count": 123,
   "metadata": {
    "scrolled": true
   },
   "outputs": [],
   "source": [
    "nw_ds = rasterio.open('test.tiff', 'w', driver='GTiff',\n",
    "                      height=grib.RasterYSize,\n",
    "                      width=grib.RasterXSize,\n",
    "                      count=1, dtype=gdal.GetDataTypeName(band.DataType).lower(),\n",
    "                      crs=grib.GetProjection(),\n",
    "                      transform=transform)\n",
    "nw_ds.write(array, 1)\n",
    "nw_ds.close()"
   ]
  },
  {
   "cell_type": "markdown",
   "metadata": {},
   "source": [
    "# Y SI PROBAMOS CON LO DE GOES?"
   ]
  },
  {
   "cell_type": "code",
   "execution_count": 294,
   "metadata": {},
   "outputs": [
    {
     "data": {
      "text/plain": [
       "'GEOGCS[\"Coordinate System imported from GRIB file\",DATUM[\"unnamed\",SPHEROID[\"Sphere\",6371229,0]],PRIMEM[\"Greenwich\",0],UNIT[\"degree\",0.0174532925199433,AUTHORITY[\"EPSG\",\"9122\"]],AXIS[\"Latitude\",NORTH],AXIS[\"Longitude\",EAST]]'"
      ]
     },
     "execution_count": 294,
     "metadata": {},
     "output_type": "execute_result"
    }
   ],
   "source": [
    "grib.GetProjection()"
   ]
  },
  {
   "cell_type": "code",
   "execution_count": 295,
   "metadata": {},
   "outputs": [
    {
     "data": {
      "text/plain": [
       "(-0.125, 0.25, 0.0, 90.125, 0.0, -0.25)"
      ]
     },
     "execution_count": 295,
     "metadata": {},
     "output_type": "execute_result"
    }
   ],
   "source": [
    "grib.GetGeoTransform()"
   ]
  },
  {
   "cell_type": "code",
   "execution_count": 296,
   "metadata": {},
   "outputs": [
    {
     "data": {
      "text/plain": [
       "0"
      ]
     },
     "execution_count": 296,
     "metadata": {},
     "output_type": "execute_result"
    }
   ],
   "source": [
    "# ORIGIN DATASET\n",
    "# Create grid\n",
    "origin = memDriver.Create('grid', grib.RasterXSize, grib.RasterYSize, 1, gdal.GDT_Float64)\n",
    "\n",
    "# Setup projection and geo-transformation\n",
    "origin.SetProjection(grib.GetProjection())\n",
    "origin.SetGeoTransform(grib.GetGeoTransform())"
   ]
  },
  {
   "cell_type": "code",
   "execution_count": null,
   "metadata": {},
   "outputs": [],
   "source": []
  },
  {
   "cell_type": "code",
   "execution_count": 298,
   "metadata": {},
   "outputs": [
    {
     "data": {
      "text/plain": [
       "0"
      ]
     },
     "execution_count": 298,
     "metadata": {},
     "output_type": "execute_result"
    }
   ],
   "source": [
    "origin.GetRasterBand(1).WriteRaster(0, 0, grib.RasterXSize, grib.RasterYSize, grib.GetRasterBand(9).ReadRaster())"
   ]
  },
  {
   "cell_type": "code",
   "execution_count": 237,
   "metadata": {},
   "outputs": [
    {
     "data": {
      "text/plain": [
       "<osgeo.gdal.Dataset; proxy of <Swig Object of type 'GDALDatasetShadow *' at 0x7fce3bbfc690> >"
      ]
     },
     "execution_count": 237,
     "metadata": {},
     "output_type": "execute_result"
    }
   ],
   "source": [
    "origin"
   ]
  },
  {
   "cell_type": "code",
   "execution_count": 299,
   "metadata": {},
   "outputs": [],
   "source": [
    "sizex = int((extent[2] - extent[0]) * KM_PER_DEGREE)\n",
    "sizey = int((extent[3] - extent[1]) * KM_PER_DEGREE)"
   ]
  },
  {
   "cell_type": "code",
   "execution_count": 300,
   "metadata": {},
   "outputs": [],
   "source": [
    "memDriver = gdal.GetDriverByName('MEM')\n",
    "\n",
    "# Create grid\n",
    "grid = memDriver.Create('grid', sizex, sizey, 1, gdal.GDT_Float64)\n",
    "\n",
    "# Setup projection and geo-transformation\n",
    "grid.SetProjection(targetPrj.ExportToWkt())\n",
    "grid.SetGeoTransform(getGeoT(extent, grid.RasterYSize, grid.RasterXSize))\n",
    "\n",
    "# Perform the projection/resampling\n",
    "\n",
    "gdal.ReprojectImage(\n",
    "            origin,\n",
    "            grid,\n",
    "            grib.GetProjection(),\n",
    "            targetPrj.ExportToWkt(),\n",
    "            gdal.GRA_NearestNeighbour,\n",
    "            options=['NUM_THREADS=ALL_CPUS']\n",
    "                        )\n",
    "\n",
    "# Read grid data\n",
    "array1 = grid.ReadAsArray()"
   ]
  },
  {
   "cell_type": "code",
   "execution_count": 225,
   "metadata": {},
   "outputs": [],
   "source": [
    "grid.C"
   ]
  },
  {
   "cell_type": "code",
   "execution_count": 228,
   "metadata": {},
   "outputs": [
    {
     "data": {
      "text/plain": [
       "NoneType"
      ]
     },
     "execution_count": 228,
     "metadata": {},
     "output_type": "execute_result"
    }
   ],
   "source": [
    "type(band)"
   ]
  },
  {
   "cell_type": "code",
   "execution_count": 240,
   "metadata": {},
   "outputs": [
    {
     "data": {
      "text/plain": [
       "5.099999904632568"
      ]
     },
     "execution_count": 240,
     "metadata": {},
     "output_type": "execute_result"
    }
   ],
   "source": [
    "array1.max()"
   ]
  },
  {
   "cell_type": "code",
   "execution_count": 301,
   "metadata": {},
   "outputs": [],
   "source": [
    "geotransform = grid.GetGeoTransform()\n",
    "transform = Affine.from_gdal(*geotransform)"
   ]
  },
  {
   "cell_type": "code",
   "execution_count": 242,
   "metadata": {},
   "outputs": [
    {
     "data": {
      "text/plain": [
       "Affine(0.008985200845665961, 0.0, -75.0,\n",
       "       0.0, -0.008987417615338526, -25.0)"
      ]
     },
     "execution_count": 242,
     "metadata": {},
     "output_type": "execute_result"
    }
   ],
   "source": [
    "transform"
   ]
  },
  {
   "cell_type": "code",
   "execution_count": 302,
   "metadata": {},
   "outputs": [],
   "source": [
    "# WRITE GIFF\n",
    "nw_ds = rasterio.open('test_proj.tiff', 'w', driver='GTiff',\n",
    "                      height=grid.RasterYSize,\n",
    "                      width=grid.RasterXSize,\n",
    "                      count=1, dtype=gdal.GetDataTypeName(gdal.GDT_Float64).lower(),\n",
    "                      crs=grid.GetProjection(),\n",
    "                      transform=transform)\n",
    "nw_ds.write(array1, 1)\n",
    "nw_ds.close()"
   ]
  },
  {
   "cell_type": "markdown",
   "metadata": {},
   "source": [
    "## FOR GFS"
   ]
  },
  {
   "cell_type": "code",
   "execution_count": 318,
   "metadata": {},
   "outputs": [],
   "source": [
    "# Read the GRIB file\n",
    "grib = gdal.Open('../data/GFS/GFS_2021021900+003.grib2')"
   ]
  },
  {
   "cell_type": "code",
   "execution_count": null,
   "metadata": {},
   "outputs": [],
   "source": []
  },
  {
   "cell_type": "code",
   "execution_count": 331,
   "metadata": {},
   "outputs": [
    {
     "name": "stdout",
     "output_type": "stream",
     "text": [
      "03 hr Total precipitation [kg/(m^2)]\n",
      "0[-] SFC=\"Ground or water surface\"\n"
     ]
    }
   ],
   "source": [
    "# Get the band name and description\n",
    "band = grib.GetRasterBand(145)\n",
    "metadata = band.GetMetadata()\n",
    "band_name = metadata['GRIB_COMMENT']\n",
    "band_description = band.GetDescription()\n",
    "print(band_name)\n",
    "print(band_description)"
   ]
  },
  {
   "cell_type": "code",
   "execution_count": 328,
   "metadata": {
    "scrolled": true
   },
   "outputs": [
    {
     "name": "stdout",
     "output_type": "stream",
     "text": [
      "band: 1, u-component of wind [m/s]\n",
      "band: 2, v-component of wind [m/s]\n",
      "band: 3, Temperature [C]\n",
      "band: 4, Temperature [C]\n",
      "band: 5, Relative humidity [%]\n",
      "band: 6, u-component of wind [m/s]\n",
      "band: 7, v-component of wind [m/s]\n",
      "band: 8, Temperature [C]\n",
      "band: 9, Relative humidity [%]\n",
      "band: 10, u-component of wind [m/s]\n",
      "band: 11, v-component of wind [m/s]\n",
      "band: 12, Temperature [C]\n",
      "band: 13, Relative humidity [%]\n",
      "band: 14, u-component of wind [m/s]\n",
      "band: 15, v-component of wind [m/s]\n",
      "band: 16, Temperature [C]\n",
      "band: 17, Relative humidity [%]\n",
      "band: 18, u-component of wind [m/s]\n",
      "band: 19, v-component of wind [m/s]\n",
      "band: 20, Temperature [C]\n",
      "band: 21, Relative humidity [%]\n",
      "band: 22, u-component of wind [m/s]\n",
      "band: 23, v-component of wind [m/s]\n",
      "band: 24, Temperature [C]\n",
      "band: 25, Relative humidity [%]\n",
      "band: 26, u-component of wind [m/s]\n",
      "band: 27, v-component of wind [m/s]\n",
      "band: 28, Temperature [C]\n",
      "band: 29, Temperature [C]\n",
      "band: 30, Relative humidity [%]\n",
      "band: 31, u-component of wind [m/s]\n",
      "band: 32, v-component of wind [m/s]\n",
      "band: 33, Temperature [C]\n",
      "band: 34, Relative humidity [%]\n",
      "band: 35, u-component of wind [m/s]\n",
      "band: 36, v-component of wind [m/s]\n",
      "band: 37, Temperature [C]\n",
      "band: 38, Temperature [C]\n",
      "band: 39, Relative humidity [%]\n",
      "band: 40, u-component of wind [m/s]\n",
      "band: 41, v-component of wind [m/s]\n",
      "band: 42, Temperature [C]\n",
      "band: 43, Relative humidity [%]\n",
      "band: 44, u-component of wind [m/s]\n",
      "band: 45, v-component of wind [m/s]\n",
      "band: 46, Temperature [C]\n",
      "band: 47, Relative humidity [%]\n",
      "band: 48, u-component of wind [m/s]\n",
      "band: 49, v-component of wind [m/s]\n",
      "band: 50, Temperature [C]\n",
      "band: 51, Relative humidity [%]\n",
      "band: 52, u-component of wind [m/s]\n",
      "band: 53, v-component of wind [m/s]\n",
      "band: 54, Temperature [C]\n",
      "band: 55, Relative humidity [%]\n",
      "band: 56, u-component of wind [m/s]\n",
      "band: 57, v-component of wind [m/s]\n",
      "band: 58, Temperature [C]\n",
      "band: 59, Relative humidity [%]\n",
      "band: 60, u-component of wind [m/s]\n",
      "band: 61, v-component of wind [m/s]\n",
      "band: 62, Temperature [C]\n",
      "band: 63, Relative humidity [%]\n",
      "band: 64, u-component of wind [m/s]\n",
      "band: 65, v-component of wind [m/s]\n",
      "band: 66, Temperature [C]\n",
      "band: 67, Relative humidity [%]\n",
      "band: 68, u-component of wind [m/s]\n",
      "band: 69, v-component of wind [m/s]\n",
      "band: 70, Temperature [C]\n",
      "band: 71, Relative humidity [%]\n",
      "band: 72, u-component of wind [m/s]\n",
      "band: 73, v-component of wind [m/s]\n",
      "band: 74, Temperature [C]\n",
      "band: 75, Relative humidity [%]\n",
      "band: 76, u-component of wind [m/s]\n",
      "band: 77, v-component of wind [m/s]\n",
      "band: 78, Temperature [C]\n",
      "band: 79, Relative humidity [%]\n",
      "band: 80, u-component of wind [m/s]\n",
      "band: 81, v-component of wind [m/s]\n",
      "band: 82, Temperature [C]\n",
      "band: 83, Relative humidity [%]\n",
      "band: 84, u-component of wind [m/s]\n",
      "band: 85, v-component of wind [m/s]\n",
      "band: 86, Temperature [C]\n",
      "band: 87, Relative humidity [%]\n",
      "band: 88, u-component of wind [m/s]\n",
      "band: 89, v-component of wind [m/s]\n",
      "band: 90, Temperature [C]\n",
      "band: 91, Relative humidity [%]\n",
      "band: 92, u-component of wind [m/s]\n",
      "band: 93, v-component of wind [m/s]\n",
      "band: 94, Temperature [C]\n",
      "band: 95, Relative humidity [%]\n",
      "band: 96, u-component of wind [m/s]\n",
      "band: 97, v-component of wind [m/s]\n",
      "band: 98, Temperature [C]\n",
      "band: 99, Relative humidity [%]\n",
      "band: 100, u-component of wind [m/s]\n",
      "band: 101, v-component of wind [m/s]\n",
      "band: 102, Temperature [C]\n",
      "band: 103, Relative humidity [%]\n",
      "band: 104, u-component of wind [m/s]\n",
      "band: 105, v-component of wind [m/s]\n",
      "band: 106, Temperature [C]\n",
      "band: 107, Relative humidity [%]\n",
      "band: 108, u-component of wind [m/s]\n",
      "band: 109, v-component of wind [m/s]\n",
      "band: 110, Temperature [C]\n",
      "band: 111, Relative humidity [%]\n",
      "band: 112, u-component of wind [m/s]\n",
      "band: 113, v-component of wind [m/s]\n",
      "band: 114, Temperature [C]\n",
      "band: 115, Relative humidity [%]\n",
      "band: 116, u-component of wind [m/s]\n",
      "band: 117, v-component of wind [m/s]\n",
      "band: 118, Temperature [C]\n",
      "band: 119, Relative humidity [%]\n",
      "band: 120, u-component of wind [m/s]\n",
      "band: 121, v-component of wind [m/s]\n",
      "band: 122, Temperature [C]\n",
      "band: 123, Relative humidity [%]\n",
      "band: 124, u-component of wind [m/s]\n",
      "band: 125, v-component of wind [m/s]\n",
      "band: 126, Temperature [C]\n",
      "band: 127, Relative humidity [%]\n",
      "band: 128, u-component of wind [m/s]\n",
      "band: 129, v-component of wind [m/s]\n",
      "band: 130, Pressure [Pa]\n",
      "band: 131, Temperature [C]\n",
      "band: 132, Soil temperature [C]\n",
      "band: 133, Volumetric Soil Moisture Content [Fraction]\n",
      "band: 134, Soil temperature [C]\n",
      "band: 135, Volumetric Soil Moisture Content [Fraction]\n",
      "band: 136, Soil temperature [C]\n",
      "band: 137, Volumetric Soil Moisture Content [Fraction]\n",
      "band: 138, Soil temperature [C]\n",
      "band: 139, Volumetric Soil Moisture Content [Fraction]\n",
      "band: 140, Water equivalent of accumulated snow depth [kg/(m^2)]\n",
      "band: 141, Temperature [C]\n",
      "band: 142, Relative humidity [%]\n",
      "band: 143, u-component of wind [m/s]\n",
      "band: 144, v-component of wind [m/s]\n",
      "band: 145, 03 hr Total precipitation [kg/(m^2)]\n",
      "band: 146, 03 hr Total precipitation [kg/(m^2)]\n",
      "band: 147, Categorical Rain [0=no; 1=yes]\n",
      "band: 148, Categorical Rain [0=no; 1=yes]\n",
      "band: 149, Relative humidity [%]\n",
      "band: 150, Pressure [Pa]\n",
      "band: 151, Pressure [Pa]\n",
      "band: 152, Pressure [Pa]\n",
      "band: 153, Pressure [Pa]\n",
      "band: 154, Pressure [Pa]\n",
      "band: 155, Pressure [Pa]\n",
      "band: 156, Pressure [Pa]\n",
      "band: 157, Pressure [Pa]\n",
      "band: 158, Temperature [C]\n",
      "band: 159, Temperature [C]\n",
      "band: 160, Temperature [C]\n",
      "band: 161, Pressure [Pa]\n",
      "band: 162, Temperature [C]\n",
      "band: 163, u-component of wind [m/s]\n",
      "band: 164, v-component of wind [m/s]\n",
      "band: 165, Pressure [Pa]\n",
      "band: 166, u-component of wind [m/s]\n",
      "band: 167, v-component of wind [m/s]\n",
      "band: 168, Temperature [C]\n",
      "band: 169, u-component of wind [m/s]\n",
      "band: 170, v-component of wind [m/s]\n",
      "band: 171, u-component of wind [m/s]\n",
      "band: 172, v-component of wind [m/s]\n",
      "band: 173, u-component of wind [m/s]\n",
      "band: 174, v-component of wind [m/s]\n",
      "band: 175, u-component of wind [m/s]\n",
      "band: 176, v-component of wind [m/s]\n",
      "band: 177, Temperature [C]\n",
      "band: 178, Pressure [Pa]\n",
      "band: 179, u-component of wind [m/s]\n",
      "band: 180, v-component of wind [m/s]\n",
      "band: 181, Temperature [C]\n",
      "band: 182, u-component of wind [m/s]\n",
      "band: 183, v-component of wind [m/s]\n",
      "band: 184, Temperature [C]\n",
      "band: 185, u-component of wind [m/s]\n",
      "band: 186, v-component of wind [m/s]\n",
      "band: 187, Temperature [C]\n",
      "band: 188, u-component of wind [m/s]\n",
      "band: 189, v-component of wind [m/s]\n",
      "band: 190, Temperature [C]\n",
      "band: 191, u-component of wind [m/s]\n",
      "band: 192, v-component of wind [m/s]\n",
      "band: 193, Relative humidity [%]\n",
      "band: 194, Relative humidity [%]\n",
      "band: 195, Temperature [C]\n",
      "band: 196, Relative humidity [%]\n",
      "band: 197, u-component of wind [m/s]\n",
      "band: 198, v-component of wind [m/s]\n",
      "band: 199, Relative humidity [%]\n",
      "band: 200, Relative humidity [%]\n",
      "band: 201, Relative humidity [%]\n",
      "band: 202, Relative humidity [%]\n",
      "band: 203, Temperature [C]\n",
      "band: 204, Relative humidity [%]\n",
      "band: 205, u-component of wind [m/s]\n",
      "band: 206, v-component of wind [m/s]\n",
      "band: 207, u-component of wind [m/s]\n",
      "band: 208, v-component of wind [m/s]\n",
      "band: 209, Temperature [C]\n",
      "band: 210, Pressure [Pa]\n",
      "band: 211, u-component of wind [m/s]\n",
      "band: 212, v-component of wind [m/s]\n",
      "band: 213, Temperature [C]\n",
      "band: 214, Pressure [Pa]\n"
     ]
    }
   ],
   "source": [
    "for band in range(1, 215):\n",
    "    metadata = grib.GetRasterBand(band).GetMetadata()\n",
    "    band_name = metadata['GRIB_COMMENT']\n",
    "    print(f\"band: {band}, {band_name}\")"
   ]
  },
  {
   "cell_type": "code",
   "execution_count": 323,
   "metadata": {},
   "outputs": [
    {
     "data": {
      "text/plain": [
       "215"
      ]
     },
     "execution_count": 323,
     "metadata": {},
     "output_type": "execute_result"
    }
   ],
   "source": [
    "grib.RasterCount"
   ]
  },
  {
   "cell_type": "code",
   "execution_count": 332,
   "metadata": {},
   "outputs": [
    {
     "data": {
      "text/plain": [
       "0"
      ]
     },
     "execution_count": 332,
     "metadata": {},
     "output_type": "execute_result"
    }
   ],
   "source": [
    "# ORIGIN DATASET\n",
    "# Create grid\n",
    "origin = memDriver.Create('grid', grib.RasterXSize, grib.RasterYSize, 1, gdal.GDT_Float64)\n",
    "\n",
    "# Setup projection and geo-transformation\n",
    "origin.SetProjection(grib.GetProjection())\n",
    "origin.SetGeoTransform(grib.GetGeoTransform())\n",
    "origin.GetRasterBand(1).WriteRaster(0, 0, grib.RasterXSize, grib.RasterYSize, grib.GetRasterBand(145).ReadRaster())"
   ]
  },
  {
   "cell_type": "code",
   "execution_count": 333,
   "metadata": {},
   "outputs": [],
   "source": [
    "sizex = int((extent[2] - extent[0]) * KM_PER_DEGREE)\n",
    "sizey = int((extent[3] - extent[1]) * KM_PER_DEGREE)"
   ]
  },
  {
   "cell_type": "code",
   "execution_count": 334,
   "metadata": {},
   "outputs": [],
   "source": [
    "memDriver = gdal.GetDriverByName('MEM')\n",
    "\n",
    "# Create grid\n",
    "grid = memDriver.Create('grid', sizex, sizey, 1, gdal.GDT_Float64)\n",
    "\n",
    "# Setup projection and geo-transformation\n",
    "grid.SetProjection(targetPrj.ExportToWkt())\n",
    "grid.SetGeoTransform(getGeoT(extent, grid.RasterYSize, grid.RasterXSize))\n",
    "\n",
    "# Perform the projection/resampling\n",
    "\n",
    "gdal.ReprojectImage(\n",
    "            origin,\n",
    "            grid,\n",
    "            grib.GetProjection(),\n",
    "            targetPrj.ExportToWkt(),\n",
    "            gdal.GRA_NearestNeighbour,\n",
    "            options=['NUM_THREADS=ALL_CPUS']\n",
    "                        )\n",
    "\n",
    "# Read grid data\n",
    "array1 = grid.ReadAsArray()"
   ]
  },
  {
   "cell_type": "code",
   "execution_count": 335,
   "metadata": {},
   "outputs": [],
   "source": [
    "geotransform = grid.GetGeoTransform()\n",
    "transform = Affine.from_gdal(*geotransform)"
   ]
  },
  {
   "cell_type": "code",
   "execution_count": 336,
   "metadata": {},
   "outputs": [],
   "source": [
    "# WRITE GIFF\n",
    "nw_ds = rasterio.open('test_proj_gfs.tiff', 'w', driver='GTiff',\n",
    "                      height=grid.RasterYSize,\n",
    "                      width=grid.RasterXSize,\n",
    "                      count=1, dtype=gdal.GetDataTypeName(gdal.GDT_Float64).lower(),\n",
    "                      crs=grid.GetProjection(),\n",
    "                      transform=transform)\n",
    "nw_ds.write(array1, 1)\n",
    "nw_ds.close()"
   ]
  },
  {
   "cell_type": "code",
   "execution_count": null,
   "metadata": {},
   "outputs": [],
   "source": []
  }
 ],
 "metadata": {
  "kernelspec": {
   "display_name": "Python 3",
   "language": "python",
   "name": "python3"
  },
  "language_info": {
   "codemirror_mode": {
    "name": "ipython",
    "version": 3
   },
   "file_extension": ".py",
   "mimetype": "text/x-python",
   "name": "python",
   "nbconvert_exporter": "python",
   "pygments_lexer": "ipython3",
   "version": "3.8.5"
  }
 },
 "nbformat": 4,
 "nbformat_minor": 4
}
